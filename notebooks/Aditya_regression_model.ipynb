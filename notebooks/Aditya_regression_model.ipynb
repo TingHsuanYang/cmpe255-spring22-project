{
 "cells": [
  {
   "cell_type": "code",
   "execution_count": 1,
   "id": "1ae89a8d",
   "metadata": {},
   "outputs": [],
   "source": [
    "import pandas as pd\n",
    "import numpy as np\n",
    "import matplotlib.pyplot as plt\n",
    "\n",
    "data = pd.read_csv('../data/games_of_all_time.csv')\n",
    "model_data = data[['user_score','platform','genre','type','rating']] "
   ]
  },
  {
   "cell_type": "code",
   "execution_count": 2,
   "id": "4dd6f1bf",
   "metadata": {},
   "outputs": [
    {
     "name": "stdout",
     "output_type": "stream",
     "text": [
      "<class 'pandas.core.frame.DataFrame'>\n",
      "Int64Index: 5936 entries, 0 to 8830\n",
      "Data columns (total 5 columns):\n",
      " #   Column      Non-Null Count  Dtype  \n",
      "---  ------      --------------  -----  \n",
      " 0   user_score  5936 non-null   float64\n",
      " 1   platform    5936 non-null   object \n",
      " 2   genre       5936 non-null   object \n",
      " 3   type        5936 non-null   object \n",
      " 4   rating      5936 non-null   object \n",
      "dtypes: float64(1), object(4)\n",
      "memory usage: 278.2+ KB\n"
     ]
    }
   ],
   "source": [
    "model_data = model_data.dropna()\n",
    "model_data.info()"
   ]
  },
  {
   "cell_type": "code",
   "execution_count": 3,
   "id": "947a0ce8",
   "metadata": {},
   "outputs": [],
   "source": [
    "# exploding genre multiple values into individual rows\n",
    "from ast import literal_eval\n",
    "model_data['genre']=model_data['genre'].apply(literal_eval)\n",
    "model_data = model_data.explode('genre', 'true')\n",
    "# exploding platform multiple values into individual rows\n",
    "model_data['platform']=model_data['platform'].apply(literal_eval)\n",
    "model_data = model_data.explode('platform', 'true')"
   ]
  },
  {
   "cell_type": "code",
   "execution_count": 4,
   "id": "2d576828",
   "metadata": {},
   "outputs": [
    {
     "data": {
      "text/plain": [
       "Action              2864\n",
       "General             1885\n",
       "Action Adventure    1333\n",
       "Shooter             1096\n",
       "Role-Playing        1019\n",
       "                    ... \n",
       "Tank                   1\n",
       "Videos                 1\n",
       "Drag                   1\n",
       "Text                   1\n",
       "WWI                    1\n",
       "Name: genre, Length: 166, dtype: int64"
      ]
     },
     "execution_count": 4,
     "metadata": {},
     "output_type": "execute_result"
    }
   ],
   "source": [
    "model_data['genre'].value_counts()"
   ]
  },
  {
   "cell_type": "code",
   "execution_count": 5,
   "id": "a81234ff",
   "metadata": {},
   "outputs": [],
   "source": [
    "#should we remove the genre values which have less data ?\n",
    "model_data = model_data[model_data.groupby('genre').genre.transform('count')>100].copy()"
   ]
  },
  {
   "cell_type": "code",
   "execution_count": 6,
   "id": "1ff40138",
   "metadata": {},
   "outputs": [
    {
     "data": {
      "text/plain": [
       "53"
      ]
     },
     "execution_count": 6,
     "metadata": {},
     "output_type": "execute_result"
    }
   ],
   "source": [
    "model_data['genre'].nunique()"
   ]
  },
  {
   "cell_type": "code",
   "execution_count": 7,
   "id": "d3d7b423",
   "metadata": {},
   "outputs": [
    {
     "data": {
      "text/plain": [
       "pc                  5453\n",
       "xbox-360            2571\n",
       "playstation-4       2546\n",
       "playstation-2       2247\n",
       "playstation-3       2209\n",
       "switch              1863\n",
       "xbox                1335\n",
       "xbox-one            1325\n",
       "ds                  1094\n",
       "wii                  970\n",
       "psp                  936\n",
       "gamecube             785\n",
       "game-boy-advance     604\n",
       "3ds                  314\n",
       "playstation-vita     274\n",
       "playstation          235\n",
       "wii-u                164\n",
       "playstation-5        111\n",
       "nintendo-64           88\n",
       "xbox-series-x         47\n",
       "dreamcast             29\n",
       "stadia                 5\n",
       "Name: platform, dtype: int64"
      ]
     },
     "execution_count": 7,
     "metadata": {},
     "output_type": "execute_result"
    }
   ],
   "source": [
    "model_data['platform'].value_counts()"
   ]
  },
  {
   "cell_type": "code",
   "execution_count": 8,
   "id": "623b1663",
   "metadata": {},
   "outputs": [],
   "source": [
    "#should we replace multiple similar platform values to a single value e.g ps1,ps2 as ps\n",
    "model_data['platform']=model_data['platform'].replace(['playstation-4','playstation-3','playstation-2',\n",
    "                                                               'playstation-vita','playstation-5'],'playstation')\n",
    "model_data['platform']=model_data['platform'].replace(['xbox-360','xbox-one','xbox-series-x'],'xbox')\n",
    "model_data['platform']=model_data['platform'].replace(['wii-u'],'wii')"
   ]
  },
  {
   "cell_type": "code",
   "execution_count": 9,
   "id": "9789aa13",
   "metadata": {},
   "outputs": [
    {
     "data": {
      "text/plain": [
       "playstation         7622\n",
       "pc                  5453\n",
       "xbox                5278\n",
       "switch              1863\n",
       "wii                 1134\n",
       "ds                  1094\n",
       "psp                  936\n",
       "gamecube             785\n",
       "game-boy-advance     604\n",
       "3ds                  314\n",
       "nintendo-64           88\n",
       "dreamcast             29\n",
       "stadia                 5\n",
       "Name: platform, dtype: int64"
      ]
     },
     "execution_count": 9,
     "metadata": {},
     "output_type": "execute_result"
    }
   ],
   "source": [
    "model_data['platform'].value_counts()"
   ]
  },
  {
   "cell_type": "code",
   "execution_count": 10,
   "id": "81c3dabb",
   "metadata": {},
   "outputs": [
    {
     "data": {
      "text/plain": [
       "<AxesSubplot:xlabel='type', ylabel='count'>"
      ]
     },
     "execution_count": 10,
     "metadata": {},
     "output_type": "execute_result"
    },
    {
     "data": {
      "image/png": "[encoded data removed]",
      "text/plain": [
       "<Figure size 432x288 with 1 Axes>"
      ]
     },
     "metadata": {
      "needs_background": "light"
     },
     "output_type": "display_data"
    }
   ],
   "source": [
    "import seaborn as sns\n",
    "sns.countplot(x='type', data=model_data)"
   ]
  },
  {
   "cell_type": "code",
   "execution_count": 11,
   "id": "9a219c22",
   "metadata": {},
   "outputs": [
    {
     "data": {
      "text/plain": [
       "<AxesSubplot:xlabel='rating', ylabel='count'>"
      ]
     },
     "execution_count": 11,
     "metadata": {},
     "output_type": "execute_result"
    },
    {
     "data": {
      "image/png": "[encoded data removed]",
      "text/plain": [
       "<Figure size 432x288 with 1 Axes>"
      ]
     },
     "metadata": {
      "needs_background": "light"
     },
     "output_type": "display_data"
    }
   ],
   "source": [
    "sns.countplot(x='rating', data=model_data)"
   ]
  },
  {
   "cell_type": "code",
   "execution_count": 12,
   "id": "28b0064c",
   "metadata": {},
   "outputs": [],
   "source": [
    "#removing less frequent ratings\n",
    "model_data = model_data.drop(model_data[model_data['rating'].isin(['K-A', 'RP', 'AO'])].index)"
   ]
  },
  {
   "cell_type": "code",
   "execution_count": 13,
   "id": "78e5c571",
   "metadata": {},
   "outputs": [
    {
     "data": {
      "text/plain": [
       "<AxesSubplot:xlabel='user_score', ylabel='count'>"
      ]
     },
     "execution_count": 13,
     "metadata": {},
     "output_type": "execute_result"
    },
    {
     "data": {
      "image/png": "[encoded data removed]",
      "text/plain": [
       "<Figure size 432x288 with 1 Axes>"
      ]
     },
     "metadata": {
      "needs_background": "light"
     },
     "output_type": "display_data"
    }
   ],
   "source": [
    "#user_score spread\n",
    "sns.countplot(x='user_score', data=model_data)"
   ]
  },
  {
   "cell_type": "code",
   "execution_count": 14,
   "id": "2af8d5d0",
   "metadata": {},
   "outputs": [],
   "source": [
    "#hot encoding\n",
    "model_data= pd.get_dummies(model_data, columns=['platform','genre','type','rating'],prefix=['platform','genre','type','rating'])"
   ]
  },
  {
   "cell_type": "code",
   "execution_count": 15,
   "id": "16cc16d0",
   "metadata": {},
   "outputs": [
    {
     "name": "stdout",
     "output_type": "stream",
     "text": [
      "<class 'pandas.core.frame.DataFrame'>\n",
      "Int64Index: 25155 entries, 0 to 28051\n",
      "Data columns (total 73 columns):\n",
      " #   Column                     Non-Null Count  Dtype  \n",
      "---  ------                     --------------  -----  \n",
      " 0   user_score                 25155 non-null  float64\n",
      " 1   platform_3ds               25155 non-null  uint8  \n",
      " 2   platform_dreamcast         25155 non-null  uint8  \n",
      " 3   platform_ds                25155 non-null  uint8  \n",
      " 4   platform_game-boy-advance  25155 non-null  uint8  \n",
      " 5   platform_gamecube          25155 non-null  uint8  \n",
      " 6   platform_nintendo-64       25155 non-null  uint8  \n",
      " 7   platform_pc                25155 non-null  uint8  \n",
      " 8   platform_playstation       25155 non-null  uint8  \n",
      " 9   platform_psp               25155 non-null  uint8  \n",
      " 10  platform_stadia            25155 non-null  uint8  \n",
      " 11  platform_switch            25155 non-null  uint8  \n",
      " 12  platform_wii               25155 non-null  uint8  \n",
      " 13  platform_xbox              25155 non-null  uint8  \n",
      " 14  genre_2D                   25155 non-null  uint8  \n",
      " 15  genre_3D                   25155 non-null  uint8  \n",
      " 16  genre_Action               25155 non-null  uint8  \n",
      " 17  genre_Action Adventure     25155 non-null  uint8  \n",
      " 18  genre_Action RPG           25155 non-null  uint8  \n",
      " 19  genre_Adventure            25155 non-null  uint8  \n",
      " 20  genre_Alternative          25155 non-null  uint8  \n",
      " 21  genre_Arcade               25155 non-null  uint8  \n",
      " 22  genre_Automobile           25155 non-null  uint8  \n",
      " 23  genre_Basketball           25155 non-null  uint8  \n",
      " 24  genre_Beat-'Em-Up          25155 non-null  uint8  \n",
      " 25  genre_Combat               25155 non-null  uint8  \n",
      " 26  genre_Compilation          25155 non-null  uint8  \n",
      " 27  genre_Console-style RPG    25155 non-null  uint8  \n",
      " 28  genre_Driving              25155 non-null  uint8  \n",
      " 29  genre_Fantasy              25155 non-null  uint8  \n",
      " 30  genre_Fighting             25155 non-null  uint8  \n",
      " 31  genre_First-Person         25155 non-null  uint8  \n",
      " 32  genre_Football             25155 non-null  uint8  \n",
      " 33  genre_GT / Street          25155 non-null  uint8  \n",
      " 34  genre_General              25155 non-null  uint8  \n",
      " 35  genre_Historic             25155 non-null  uint8  \n",
      " 36  genre_Horror               25155 non-null  uint8  \n",
      " 37  genre_Individual           25155 non-null  uint8  \n",
      " 38  genre_Japanese-Style       25155 non-null  uint8  \n",
      " 39  genre_Linear               25155 non-null  uint8  \n",
      " 40  genre_Management           25155 non-null  uint8  \n",
      " 41  genre_Miscellaneous        25155 non-null  uint8  \n",
      " 42  genre_Modern               25155 non-null  uint8  \n",
      " 43  genre_Music                25155 non-null  uint8  \n",
      " 44  genre_Open-World           25155 non-null  uint8  \n",
      " 45  genre_Platformer           25155 non-null  uint8  \n",
      " 46  genre_Puzzle               25155 non-null  uint8  \n",
      " 47  genre_Racing               25155 non-null  uint8  \n",
      " 48  genre_Real-Time            25155 non-null  uint8  \n",
      " 49  genre_Rhythm               25155 non-null  uint8  \n",
      " 50  genre_Role-Playing         25155 non-null  uint8  \n",
      " 51  genre_Sci-Fi               25155 non-null  uint8  \n",
      " 52  genre_Shoot-'Em-Up         25155 non-null  uint8  \n",
      " 53  genre_Shooter              25155 non-null  uint8  \n",
      " 54  genre_Sim                  25155 non-null  uint8  \n",
      " 55  genre_Simulation           25155 non-null  uint8  \n",
      " 56  genre_Soccer               25155 non-null  uint8  \n",
      " 57  genre_Sports               25155 non-null  uint8  \n",
      " 58  genre_Strategy             25155 non-null  uint8  \n",
      " 59  genre_Survival             25155 non-null  uint8  \n",
      " 60  genre_Tactical             25155 non-null  uint8  \n",
      " 61  genre_Tactics              25155 non-null  uint8  \n",
      " 62  genre_Team                 25155 non-null  uint8  \n",
      " 63  genre_Third-Person         25155 non-null  uint8  \n",
      " 64  genre_Traditional          25155 non-null  uint8  \n",
      " 65  genre_Turn-Based           25155 non-null  uint8  \n",
      " 66  genre_Western-Style        25155 non-null  uint8  \n",
      " 67  type_multiplayer           25155 non-null  uint8  \n",
      " 68  type_singleplayer          25155 non-null  uint8  \n",
      " 69  rating_E                   25155 non-null  uint8  \n",
      " 70  rating_E10+                25155 non-null  uint8  \n",
      " 71  rating_M                   25155 non-null  uint8  \n",
      " 72  rating_T                   25155 non-null  uint8  \n",
      "dtypes: float64(1), uint8(72)\n",
      "memory usage: 2.1 MB\n"
     ]
    }
   ],
   "source": [
    "model_data.info()"
   ]
  },
  {
   "cell_type": "code",
   "execution_count": 16,
   "id": "a53598a8",
   "metadata": {},
   "outputs": [],
   "source": [
    "from sklearn.model_selection import train_test_split\n",
    "X = model_data.drop(columns=['user_score'],axis=1).values\n",
    "y = model_data[['user_score']].values"
   ]
  },
  {
   "cell_type": "code",
   "execution_count": 17,
   "id": "b6410d89",
   "metadata": {},
   "outputs": [],
   "source": [
    "X_train, X_test, y_train, y_test = train_test_split(X, y, test_size=0.2, random_state=42)"
   ]
  },
  {
   "cell_type": "code",
   "execution_count": 18,
   "id": "5112601e",
   "metadata": {},
   "outputs": [
    {
     "data": {
      "text/plain": [
       "Pipeline(steps=[('standardscaler', StandardScaler()),\n",
       "                ('randomforestregressor',\n",
       "                 RandomForestRegressor(random_state=0))])"
      ]
     },
     "execution_count": 18,
     "metadata": {},
     "output_type": "execute_result"
    }
   ],
   "source": [
    "from sklearn.ensemble import RandomForestRegressor\n",
    "from sklearn.pipeline import make_pipeline\n",
    "from sklearn.preprocessing import StandardScaler\n",
    "#rf_model=RandomForestRegressor(n_estimators=1000,random_state=0)\n",
    "X_train=X_train/256.\n",
    "rf_pipe = make_pipeline(StandardScaler(), RandomForestRegressor(n_estimators=100,random_state=0))\n",
    "rf_pipe.fit(X_train,np.ravel(y_train))"
   ]
  },
  {
   "cell_type": "code",
   "execution_count": 19,
   "id": "09d773ff",
   "metadata": {},
   "outputs": [],
   "source": [
    "rf_pred = rf_pipe.predict(X_test)"
   ]
  },
  {
   "cell_type": "code",
   "execution_count": 20,
   "id": "48c0b75f",
   "metadata": {},
   "outputs": [
    {
     "data": {
      "image/png": "[encoded data removed]",
      "text/plain": [
       "<Figure size 432x288 with 1 Axes>"
      ]
     },
     "metadata": {
      "needs_background": "light"
     },
     "output_type": "display_data"
    }
   ],
   "source": [
    "plt.scatter(y_test, rf_pred)\n",
    "plt.plot(y_test, y_test, 'r', label='actual user_score')\n",
    "plt.title(\"actual value v.s. Prediction\")\n",
    "plt.xlabel(\"Actual value\")\n",
    "plt.ylabel(\"Prediction\")\n",
    "plt.legend()\n",
    "plt.show()"
   ]
  },
  {
   "cell_type": "code",
   "execution_count": 21,
   "id": "ebce3d0a",
   "metadata": {},
   "outputs": [
    {
     "name": "stdout",
     "output_type": "stream",
     "text": [
      "R2 score:  -0.009060072910424433\n",
      "MSE: 171.1769492599751\n"
     ]
    }
   ],
   "source": [
    "from sklearn import metrics\n",
    "\n",
    "print('R2 score: ', rf_pipe.score(X_test, y_test))\n",
    "mse = metrics.mean_squared_error(y_test, rf_pred)\n",
    "print('MSE:', mse)"
   ]
  },
  {
   "cell_type": "code",
   "execution_count": 22,
   "id": "9df2d979",
   "metadata": {},
   "outputs": [
    {
     "data": {
      "text/plain": [
       "['genre_2D',\n",
       " 'genre_3D',\n",
       " 'genre_Action',\n",
       " 'genre_Action Adventure',\n",
       " 'genre_Action RPG',\n",
       " 'genre_Adventure',\n",
       " 'genre_Alternative',\n",
       " 'genre_Arcade',\n",
       " 'genre_Automobile',\n",
       " 'genre_Basketball',\n",
       " \"genre_Beat-'Em-Up\",\n",
       " 'genre_Combat',\n",
       " 'genre_Compilation',\n",
       " 'genre_Console-style RPG',\n",
       " 'genre_Driving',\n",
       " 'genre_Fantasy',\n",
       " 'genre_Fighting',\n",
       " 'genre_First-Person',\n",
       " 'genre_Football',\n",
       " 'genre_GT / Street',\n",
       " 'genre_General',\n",
       " 'genre_Historic',\n",
       " 'genre_Horror',\n",
       " 'genre_Individual',\n",
       " 'genre_Japanese-Style',\n",
       " 'genre_Linear',\n",
       " 'genre_Management',\n",
       " 'genre_Miscellaneous',\n",
       " 'genre_Modern',\n",
       " 'genre_Music',\n",
       " 'genre_Open-World',\n",
       " 'genre_Platformer',\n",
       " 'genre_Puzzle',\n",
       " 'genre_Racing',\n",
       " 'genre_Real-Time',\n",
       " 'genre_Rhythm',\n",
       " 'genre_Role-Playing',\n",
       " 'genre_Sci-Fi',\n",
       " \"genre_Shoot-'Em-Up\",\n",
       " 'genre_Shooter',\n",
       " 'genre_Sim',\n",
       " 'genre_Simulation',\n",
       " 'genre_Soccer',\n",
       " 'genre_Sports',\n",
       " 'genre_Strategy',\n",
       " 'genre_Survival',\n",
       " 'genre_Tactical',\n",
       " 'genre_Tactics',\n",
       " 'genre_Team',\n",
       " 'genre_Third-Person',\n",
       " 'genre_Traditional',\n",
       " 'genre_Turn-Based',\n",
       " 'genre_Western-Style']"
      ]
     },
     "execution_count": 22,
     "metadata": {},
     "output_type": "execute_result"
    }
   ],
   "source": [
    "genre_col = [col for col in model_data if col.startswith('genre')]\n",
    "genre_col"
   ]
  },
  {
   "cell_type": "code",
   "execution_count": 23,
   "id": "8625b015",
   "metadata": {},
   "outputs": [],
   "source": [
    "def getRecommendedGenre_ForGameCreation(col_index, platform, type, rating, model):\n",
    "    most_popular_genre = ''\n",
    "    user_score = 0\n",
    "\n",
    "    col_len = len(col_index)\n",
    "    test = np.zeros(len(col_index))\n",
    "    test[col_index.get_loc(type)] = 1\n",
    "    test[col_index.get_loc(rating)] = 1\n",
    "    test[col_index.get_loc(platform)] = 1\n",
    "\n",
    "    for g in genre_col:\n",
    "        test[col_index.get_loc(g)] = 1\n",
    "\n",
    "        predict_score = model.predict(test.reshape(1, col_len))\n",
    "        print(f'%s: %d' % (g, predict_score))\n",
    "        if (user_score < predict_score):\n",
    "            user_score = predict_score\n",
    "            most_popular_genre = g\n",
    "\n",
    "        test[col_index.get_loc(g)] = 0\n",
    "\n",
    "    return most_popular_genre"
   ]
  },
  {
   "cell_type": "code",
   "execution_count": 24,
   "id": "b84e7031",
   "metadata": {},
   "outputs": [
    {
     "name": "stdout",
     "output_type": "stream",
     "text": [
      "genre_2D: 80\n",
      "genre_3D: 73\n",
      "genre_Action: 80\n",
      "genre_Action Adventure: 74\n",
      "genre_Action RPG: 81\n",
      "genre_Adventure: 76\n",
      "genre_Alternative: 80\n",
      "genre_Arcade: 70\n",
      "genre_Automobile: 77\n",
      "genre_Basketball: 80\n",
      "genre_Beat-'Em-Up: 66\n",
      "genre_Combat: 75\n",
      "genre_Compilation: 78\n",
      "genre_Console-style RPG: 85\n",
      "genre_Driving: 70\n",
      "genre_Fantasy: 79\n",
      "genre_Fighting: 80\n",
      "genre_First-Person: 84\n",
      "genre_Football: 81\n",
      "genre_GT / Street: 76\n",
      "genre_General: 70\n",
      "genre_Historic: 81\n",
      "genre_Horror: 83\n",
      "genre_Individual: 72\n",
      "genre_Japanese-Style: 79\n",
      "genre_Linear: 80\n",
      "genre_Management: 78\n",
      "genre_Miscellaneous: 80\n",
      "genre_Modern: 61\n",
      "genre_Music: 80\n",
      "genre_Open-World: 82\n",
      "genre_Platformer: 77\n",
      "genre_Puzzle: 80\n",
      "genre_Racing: 65\n",
      "genre_Real-Time: 81\n",
      "genre_Rhythm: 81\n",
      "genre_Role-Playing: 84\n",
      "genre_Sci-Fi: 81\n",
      "genre_Shoot-'Em-Up: 80\n",
      "genre_Shooter: 83\n",
      "genre_Sim: 80\n",
      "genre_Simulation: 82\n",
      "genre_Soccer: 80\n",
      "genre_Sports: 66\n",
      "genre_Strategy: 85\n",
      "genre_Survival: 82\n",
      "genre_Tactical: 71\n",
      "genre_Tactics: 81\n",
      "genre_Team: 72\n",
      "genre_Third-Person: 78\n",
      "genre_Traditional: 79\n",
      "genre_Turn-Based: 84\n",
      "genre_Western-Style: 78\n",
      "RandomForestRegressor model predict: genre_Console-style RPG\n",
      "\n"
     ]
    }
   ],
   "source": [
    "model_data_copy = model_data.drop(columns=['user_score'])\n",
    "recommended_genre = getRecommendedGenre_ForGameCreation(\n",
    "    model_data_copy.columns,'platform_gamecube',\n",
    "    'type_singleplayer', 'rating_T', rf_pipe)\n",
    "print(f'RandomForestRegressor model predict: %s\\n' % recommended_genre)"
   ]
  },
  {
   "cell_type": "code",
   "execution_count": 25,
   "id": "bf78c92b",
   "metadata": {},
   "outputs": [],
   "source": [
    "import pickle\n",
    "\n",
    "filename = 'q2_rf_model.sav'\n",
    "pickle.dump(rf_pipe, open(filename, 'wb'))"
   ]
  }
 ],
 "metadata": {
  "kernelspec": {
   "display_name": "Python 3 (ipykernel)",
   "language": "python",
   "name": "python3"
  },
  "language_info": {
   "codemirror_mode": {
    "name": "ipython",
    "version": 3
   },
   "file_extension": ".py",
   "mimetype": "text/x-python",
   "name": "python",
   "nbconvert_exporter": "python",
   "pygments_lexer": "ipython3",
   "version": "3.8.13"
  }
 },
 "nbformat": 4,
 "nbformat_minor": 5
}
