{
 "cells": [
  {
   "cell_type": "markdown",
   "id": "b6168450",
   "metadata": {},
   "source": [
    "## What platform will the game be most popular on? \n",
    "- strategy: \n",
    "    1. One hot encoding platform and genre, and use them as features to predict user_score\n",
    "    2. The model takes one platform each time and calculate user_score\n",
    "    3. Find the highest user_score and return the platform\n",
    "- compare Sequential model and RandomForestRegressor"
   ]
  },
  {
   "cell_type": "markdown",
   "id": "d2e6de62",
   "metadata": {},
   "source": [
    "### Loading the data and other imports"
   ]
  },
  {
   "cell_type": "code",
   "execution_count": 1,
   "id": "2c8d5181",
   "metadata": {
    "scrolled": false
   },
   "outputs": [],
   "source": [
    "import numpy as np\n",
    "import pandas as pd\n",
    "import matplotlib.pyplot as plt\n",
    "import seaborn as sns\n",
    "\n",
    "data = pd.read_csv('../data/games_of_all_time.csv')"
   ]
  },
  {
   "cell_type": "markdown",
   "id": "5cc59da6",
   "metadata": {},
   "source": [
    "### Exploratory Data Analysis"
   ]
  },
  {
   "cell_type": "code",
   "execution_count": 2,
   "id": "ba0d970c",
   "metadata": {
    "scrolled": true
   },
   "outputs": [
    {
     "data": {
      "text/html": [
       "<div>\n",
       "<style scoped>\n",
       "    .dataframe tbody tr th:only-of-type {\n",
       "        vertical-align: middle;\n",
       "    }\n",
       "\n",
       "    .dataframe tbody tr th {\n",
       "        vertical-align: top;\n",
       "    }\n",
       "\n",
       "    .dataframe thead th {\n",
       "        text-align: right;\n",
       "    }\n",
       "</style>\n",
       "<table border=\"1\" class=\"dataframe\">\n",
       "  <thead>\n",
       "    <tr style=\"text-align: right;\">\n",
       "      <th></th>\n",
       "      <th>game_name</th>\n",
       "      <th>meta_score</th>\n",
       "      <th>user_score</th>\n",
       "      <th>platform</th>\n",
       "      <th>description</th>\n",
       "      <th>url</th>\n",
       "      <th>developer</th>\n",
       "      <th>genre</th>\n",
       "      <th>type</th>\n",
       "      <th>rating</th>\n",
       "    </tr>\n",
       "  </thead>\n",
       "  <tbody>\n",
       "    <tr>\n",
       "      <th>0</th>\n",
       "      <td>The Legend of Zelda: Ocarina of Time</td>\n",
       "      <td>99.0</td>\n",
       "      <td>91.0</td>\n",
       "      <td>['nintendo-64']</td>\n",
       "      <td>As a young boy, Link is tricked by Ganondorf, ...</td>\n",
       "      <td>https://www.metacritic.com/game/nintendo-64/th...</td>\n",
       "      <td>Nintendo</td>\n",
       "      <td>['Action Adventure', 'Fantasy']</td>\n",
       "      <td>singleplayer</td>\n",
       "      <td>E</td>\n",
       "    </tr>\n",
       "    <tr>\n",
       "      <th>1</th>\n",
       "      <td>Super Mario Galaxy</td>\n",
       "      <td>97.0</td>\n",
       "      <td>91.0</td>\n",
       "      <td>['wii']</td>\n",
       "      <td>[Metacritic's 2007 Wii Game of the Year] The u...</td>\n",
       "      <td>https://www.metacritic.com/game/wii/super-mari...</td>\n",
       "      <td>Nintendo</td>\n",
       "      <td>['Action', 'Platformer', '3D']</td>\n",
       "      <td>singleplayer</td>\n",
       "      <td>E</td>\n",
       "    </tr>\n",
       "    <tr>\n",
       "      <th>2</th>\n",
       "      <td>Super Mario Galaxy 2</td>\n",
       "      <td>97.0</td>\n",
       "      <td>91.0</td>\n",
       "      <td>['wii']</td>\n",
       "      <td>Super Mario Galaxy 2, the sequel to the galaxy...</td>\n",
       "      <td>https://www.metacritic.com/game/wii/super-mari...</td>\n",
       "      <td>Nintendo EAD Tokyo</td>\n",
       "      <td>['Action', 'Platformer', '3D']</td>\n",
       "      <td>singleplayer</td>\n",
       "      <td>E</td>\n",
       "    </tr>\n",
       "    <tr>\n",
       "      <th>3</th>\n",
       "      <td>Metroid Prime</td>\n",
       "      <td>97.0</td>\n",
       "      <td>89.0</td>\n",
       "      <td>['gamecube']</td>\n",
       "      <td>Samus returns in a new mission to unravel the ...</td>\n",
       "      <td>https://www.metacritic.com/game/gamecube/metro...</td>\n",
       "      <td>Retro Studios</td>\n",
       "      <td>['Action', 'Shooter', 'First-Person', 'Sci-Fi']</td>\n",
       "      <td>singleplayer</td>\n",
       "      <td>T</td>\n",
       "    </tr>\n",
       "    <tr>\n",
       "      <th>4</th>\n",
       "      <td>Super Mario Odyssey</td>\n",
       "      <td>97.0</td>\n",
       "      <td>89.0</td>\n",
       "      <td>['switch']</td>\n",
       "      <td>New Evolution of Mario Sandbox-Style Gameplay....</td>\n",
       "      <td>https://www.metacritic.com/game/switch/super-m...</td>\n",
       "      <td>Nintendo</td>\n",
       "      <td>['Action', 'Platformer', '3D']</td>\n",
       "      <td>singleplayer</td>\n",
       "      <td>E10+</td>\n",
       "    </tr>\n",
       "  </tbody>\n",
       "</table>\n",
       "</div>"
      ],
      "text/plain": [
       "                              game_name  meta_score  user_score  \\\n",
       "0  The Legend of Zelda: Ocarina of Time        99.0        91.0   \n",
       "1                    Super Mario Galaxy        97.0        91.0   \n",
       "2                  Super Mario Galaxy 2        97.0        91.0   \n",
       "3                         Metroid Prime        97.0        89.0   \n",
       "4                   Super Mario Odyssey        97.0        89.0   \n",
       "\n",
       "          platform                                        description  \\\n",
       "0  ['nintendo-64']  As a young boy, Link is tricked by Ganondorf, ...   \n",
       "1          ['wii']  [Metacritic's 2007 Wii Game of the Year] The u...   \n",
       "2          ['wii']  Super Mario Galaxy 2, the sequel to the galaxy...   \n",
       "3     ['gamecube']  Samus returns in a new mission to unravel the ...   \n",
       "4       ['switch']  New Evolution of Mario Sandbox-Style Gameplay....   \n",
       "\n",
       "                                                 url            developer  \\\n",
       "0  https://www.metacritic.com/game/nintendo-64/th...             Nintendo   \n",
       "1  https://www.metacritic.com/game/wii/super-mari...             Nintendo   \n",
       "2  https://www.metacritic.com/game/wii/super-mari...  Nintendo EAD Tokyo    \n",
       "3  https://www.metacritic.com/game/gamecube/metro...        Retro Studios   \n",
       "4  https://www.metacritic.com/game/switch/super-m...             Nintendo   \n",
       "\n",
       "                                             genre          type rating  \n",
       "0                  ['Action Adventure', 'Fantasy']  singleplayer      E  \n",
       "1                   ['Action', 'Platformer', '3D']  singleplayer      E  \n",
       "2                   ['Action', 'Platformer', '3D']  singleplayer      E  \n",
       "3  ['Action', 'Shooter', 'First-Person', 'Sci-Fi']  singleplayer      T  \n",
       "4                   ['Action', 'Platformer', '3D']  singleplayer   E10+  "
      ]
     },
     "execution_count": 2,
     "metadata": {},
     "output_type": "execute_result"
    }
   ],
   "source": [
    "data.head()"
   ]
  },
  {
   "cell_type": "code",
   "execution_count": 3,
   "id": "e68e3815",
   "metadata": {
    "scrolled": false
   },
   "outputs": [
    {
     "name": "stdout",
     "output_type": "stream",
     "text": [
      "<class 'pandas.core.frame.DataFrame'>\n",
      "RangeIndex: 8831 entries, 0 to 8830\n",
      "Data columns (total 10 columns):\n",
      " #   Column       Non-Null Count  Dtype  \n",
      "---  ------       --------------  -----  \n",
      " 0   game_name    8831 non-null   object \n",
      " 1   meta_score   8831 non-null   float64\n",
      " 2   user_score   8831 non-null   float64\n",
      " 3   platform     8831 non-null   object \n",
      " 4   description  8831 non-null   object \n",
      " 5   url          8831 non-null   object \n",
      " 6   developer    8821 non-null   object \n",
      " 7   genre        8827 non-null   object \n",
      " 8   type         6727 non-null   object \n",
      " 9   rating       7691 non-null   object \n",
      "dtypes: float64(2), object(8)\n",
      "memory usage: 690.0+ KB\n"
     ]
    }
   ],
   "source": [
    "data.info()"
   ]
  },
  {
   "cell_type": "markdown",
   "id": "2ea22bc1",
   "metadata": {},
   "source": [
    "### Data PreProcessing\n",
    "- remove null data\n",
    "- remove data without enough information\n",
    "- transform list of string to columns(one-hot encoding)\n",
    "- merge related platforms(PlayStations, Xbox, Wii)"
   ]
  },
  {
   "cell_type": "code",
   "execution_count": 4,
   "id": "735941c5",
   "metadata": {},
   "outputs": [
    {
     "data": {
      "text/plain": [
       "game_name         0\n",
       "meta_score        0\n",
       "user_score        0\n",
       "platform          0\n",
       "description       0\n",
       "url               0\n",
       "developer        10\n",
       "genre             4\n",
       "type           2104\n",
       "rating         1140\n",
       "dtype: int64"
      ]
     },
     "execution_count": 4,
     "metadata": {},
     "output_type": "execute_result"
    }
   ],
   "source": [
    "data.isnull().sum()"
   ]
  },
  {
   "cell_type": "code",
   "execution_count": 5,
   "id": "1bfbb0d1",
   "metadata": {
    "scrolled": true
   },
   "outputs": [
    {
     "name": "stdout",
     "output_type": "stream",
     "text": [
      "<class 'pandas.core.frame.DataFrame'>\n",
      "Int64Index: 5936 entries, 0 to 8830\n",
      "Data columns (total 6 columns):\n",
      " #   Column      Non-Null Count  Dtype  \n",
      "---  ------      --------------  -----  \n",
      " 0   user_score  5936 non-null   float64\n",
      " 1   meta_score  5936 non-null   float64\n",
      " 2   platform    5936 non-null   object \n",
      " 3   genre       5936 non-null   object \n",
      " 4   type        5936 non-null   object \n",
      " 5   rating      5936 non-null   object \n",
      "dtypes: float64(2), object(4)\n",
      "memory usage: 324.6+ KB\n"
     ]
    }
   ],
   "source": [
    "df = data[['user_score', 'meta_score', 'platform', 'genre', 'type', 'rating']]\n",
    "df = df.dropna()\n",
    "df.info()"
   ]
  },
  {
   "cell_type": "markdown",
   "id": "1dfb6263",
   "metadata": {},
   "source": [
    "#### convert list to string as a new column"
   ]
  },
  {
   "cell_type": "code",
   "execution_count": 6,
   "id": "3d30bca1",
   "metadata": {
    "scrolled": false
   },
   "outputs": [
    {
     "name": "stdout",
     "output_type": "stream",
     "text": [
      "<class 'pandas.core.frame.DataFrame'>\n",
      "RangeIndex: 28052 entries, 0 to 28051\n",
      "Data columns (total 6 columns):\n",
      " #   Column      Non-Null Count  Dtype  \n",
      "---  ------      --------------  -----  \n",
      " 0   user_score  28052 non-null  float64\n",
      " 1   meta_score  28052 non-null  float64\n",
      " 2   platform    28052 non-null  object \n",
      " 3   genre       28052 non-null  object \n",
      " 4   type        28052 non-null  object \n",
      " 5   rating      28052 non-null  object \n",
      "dtypes: float64(2), object(4)\n",
      "memory usage: 1.3+ MB\n"
     ]
    },
    {
     "data": {
      "text/html": [
       "<div>\n",
       "<style scoped>\n",
       "    .dataframe tbody tr th:only-of-type {\n",
       "        vertical-align: middle;\n",
       "    }\n",
       "\n",
       "    .dataframe tbody tr th {\n",
       "        vertical-align: top;\n",
       "    }\n",
       "\n",
       "    .dataframe thead th {\n",
       "        text-align: right;\n",
       "    }\n",
       "</style>\n",
       "<table border=\"1\" class=\"dataframe\">\n",
       "  <thead>\n",
       "    <tr style=\"text-align: right;\">\n",
       "      <th></th>\n",
       "      <th>user_score</th>\n",
       "      <th>meta_score</th>\n",
       "      <th>platform</th>\n",
       "      <th>genre</th>\n",
       "      <th>type</th>\n",
       "      <th>rating</th>\n",
       "    </tr>\n",
       "  </thead>\n",
       "  <tbody>\n",
       "    <tr>\n",
       "      <th>0</th>\n",
       "      <td>91.0</td>\n",
       "      <td>99.0</td>\n",
       "      <td>nintendo-64</td>\n",
       "      <td>Action Adventure</td>\n",
       "      <td>singleplayer</td>\n",
       "      <td>E</td>\n",
       "    </tr>\n",
       "    <tr>\n",
       "      <th>1</th>\n",
       "      <td>91.0</td>\n",
       "      <td>99.0</td>\n",
       "      <td>nintendo-64</td>\n",
       "      <td>Fantasy</td>\n",
       "      <td>singleplayer</td>\n",
       "      <td>E</td>\n",
       "    </tr>\n",
       "    <tr>\n",
       "      <th>2</th>\n",
       "      <td>91.0</td>\n",
       "      <td>97.0</td>\n",
       "      <td>wii</td>\n",
       "      <td>Action</td>\n",
       "      <td>singleplayer</td>\n",
       "      <td>E</td>\n",
       "    </tr>\n",
       "    <tr>\n",
       "      <th>3</th>\n",
       "      <td>91.0</td>\n",
       "      <td>97.0</td>\n",
       "      <td>wii</td>\n",
       "      <td>Platformer</td>\n",
       "      <td>singleplayer</td>\n",
       "      <td>E</td>\n",
       "    </tr>\n",
       "    <tr>\n",
       "      <th>4</th>\n",
       "      <td>91.0</td>\n",
       "      <td>97.0</td>\n",
       "      <td>wii</td>\n",
       "      <td>3D</td>\n",
       "      <td>singleplayer</td>\n",
       "      <td>E</td>\n",
       "    </tr>\n",
       "    <tr>\n",
       "      <th>5</th>\n",
       "      <td>91.0</td>\n",
       "      <td>97.0</td>\n",
       "      <td>wii</td>\n",
       "      <td>Action</td>\n",
       "      <td>singleplayer</td>\n",
       "      <td>E</td>\n",
       "    </tr>\n",
       "    <tr>\n",
       "      <th>6</th>\n",
       "      <td>91.0</td>\n",
       "      <td>97.0</td>\n",
       "      <td>wii</td>\n",
       "      <td>Platformer</td>\n",
       "      <td>singleplayer</td>\n",
       "      <td>E</td>\n",
       "    </tr>\n",
       "    <tr>\n",
       "      <th>7</th>\n",
       "      <td>91.0</td>\n",
       "      <td>97.0</td>\n",
       "      <td>wii</td>\n",
       "      <td>3D</td>\n",
       "      <td>singleplayer</td>\n",
       "      <td>E</td>\n",
       "    </tr>\n",
       "    <tr>\n",
       "      <th>8</th>\n",
       "      <td>89.0</td>\n",
       "      <td>97.0</td>\n",
       "      <td>gamecube</td>\n",
       "      <td>Action</td>\n",
       "      <td>singleplayer</td>\n",
       "      <td>T</td>\n",
       "    </tr>\n",
       "    <tr>\n",
       "      <th>9</th>\n",
       "      <td>89.0</td>\n",
       "      <td>97.0</td>\n",
       "      <td>gamecube</td>\n",
       "      <td>Shooter</td>\n",
       "      <td>singleplayer</td>\n",
       "      <td>T</td>\n",
       "    </tr>\n",
       "  </tbody>\n",
       "</table>\n",
       "</div>"
      ],
      "text/plain": [
       "   user_score  meta_score     platform             genre          type rating\n",
       "0        91.0        99.0  nintendo-64  Action Adventure  singleplayer      E\n",
       "1        91.0        99.0  nintendo-64           Fantasy  singleplayer      E\n",
       "2        91.0        97.0          wii            Action  singleplayer      E\n",
       "3        91.0        97.0          wii        Platformer  singleplayer      E\n",
       "4        91.0        97.0          wii                3D  singleplayer      E\n",
       "5        91.0        97.0          wii            Action  singleplayer      E\n",
       "6        91.0        97.0          wii        Platformer  singleplayer      E\n",
       "7        91.0        97.0          wii                3D  singleplayer      E\n",
       "8        89.0        97.0     gamecube            Action  singleplayer      T\n",
       "9        89.0        97.0     gamecube           Shooter  singleplayer      T"
      ]
     },
     "execution_count": 6,
     "metadata": {},
     "output_type": "execute_result"
    }
   ],
   "source": [
    "from ast import literal_eval\n",
    "\n",
    "df['genre'] = df['genre'].apply(literal_eval)\n",
    "df = df.explode('genre', 'true')\n",
    "\n",
    "df['platform'] = df['platform'].apply(literal_eval)\n",
    "df = df.explode('platform', 'true')\n",
    "\n",
    "df.info()\n",
    "df.head(10)"
   ]
  },
  {
   "cell_type": "markdown",
   "id": "0e0ec128",
   "metadata": {},
   "source": [
    "#### merge similar platforms"
   ]
  },
  {
   "cell_type": "code",
   "execution_count": 7,
   "id": "ccd30b55",
   "metadata": {},
   "outputs": [],
   "source": [
    "# should we replace multiple similar platform values to a single value e.g ps1,ps2 as ps\n",
    "df['platform'] = df['platform'].replace([\n",
    "    'playstation-4', 'playstation-3', 'playstation-2', 'playstation-vita',\n",
    "    'playstation-5'\n",
    "], 'playstation')\n",
    "df['platform'] = df['platform'].replace(\n",
    "    ['xbox-360', 'xbox-one', 'xbox-series-x'], 'xbox')\n",
    "df['platform'] = df['platform'].replace(['wii-u'], 'wii')"
   ]
  },
  {
   "cell_type": "code",
   "execution_count": 8,
   "id": "e2c99555",
   "metadata": {
    "scrolled": true
   },
   "outputs": [
    {
     "data": {
      "text/plain": [
       "playstation         8355\n",
       "pc                  6147\n",
       "xbox                5831\n",
       "switch              2056\n",
       "wii                 1323\n",
       "ds                  1269\n",
       "psp                 1033\n",
       "gamecube             869\n",
       "game-boy-advance     672\n",
       "3ds                  359\n",
       "nintendo-64           97\n",
       "dreamcast             36\n",
       "stadia                 5\n",
       "Name: platform, dtype: int64"
      ]
     },
     "execution_count": 8,
     "metadata": {},
     "output_type": "execute_result"
    }
   ],
   "source": [
    "df['platform'].value_counts()"
   ]
  },
  {
   "cell_type": "code",
   "execution_count": 9,
   "id": "036655eb",
   "metadata": {},
   "outputs": [],
   "source": [
    "# remove the genre values which have less data\n",
    "df = df[df.groupby('genre').genre.transform('count') > 100].copy()"
   ]
  },
  {
   "cell_type": "code",
   "execution_count": 10,
   "id": "63ee595d",
   "metadata": {
    "scrolled": true
   },
   "outputs": [
    {
     "data": {
      "text/plain": [
       "Action               2864\n",
       "General              1885\n",
       "Action Adventure     1333\n",
       "Shooter              1096\n",
       "Role-Playing         1019\n",
       "Sports                907\n",
       "Arcade                902\n",
       "Miscellaneous         808\n",
       "First-Person          753\n",
       "3D                    690\n",
       "Strategy              658\n",
       "Platformer            638\n",
       "2D                    618\n",
       "Racing                574\n",
       "Traditional           567\n",
       "Sci-Fi                555\n",
       "Adventure             550\n",
       "Modern                542\n",
       "Fantasy               528\n",
       "Driving               492\n",
       "Sim                   468\n",
       "Third-Person          464\n",
       "Simulation            445\n",
       "Action RPG            426\n",
       "Automobile            335\n",
       "Fighting              319\n",
       "Team                  289\n",
       "Beat-'Em-Up           278\n",
       "Open-World            270\n",
       "Real-Time             262\n",
       "Puzzle                256\n",
       "Historic              252\n",
       "Turn-Based            246\n",
       "Compilation           222\n",
       "Individual            221\n",
       "Japanese-Style        199\n",
       "Survival              181\n",
       "Tactical              177\n",
       "Console-style RPG     167\n",
       "Combat                156\n",
       "Horror                151\n",
       "Rhythm                140\n",
       "Soccer                140\n",
       "Shoot-'Em-Up          131\n",
       "Tactics               125\n",
       "Football              125\n",
       "Alternative           116\n",
       "Basketball            114\n",
       "Linear                114\n",
       "Western-Style         112\n",
       "Music                 110\n",
       "Management            108\n",
       "GT / Street           107\n",
       "Name: genre, dtype: int64"
      ]
     },
     "execution_count": 10,
     "metadata": {},
     "output_type": "execute_result"
    }
   ],
   "source": [
    "df['genre'].value_counts()"
   ]
  },
  {
   "cell_type": "markdown",
   "id": "1f69b288",
   "metadata": {},
   "source": [
    "#### check if type is balanced"
   ]
  },
  {
   "cell_type": "code",
   "execution_count": 11,
   "id": "a91b9051",
   "metadata": {},
   "outputs": [
    {
     "data": {
      "text/plain": [
       "<AxesSubplot:xlabel='type', ylabel='count'>"
      ]
     },
     "execution_count": 11,
     "metadata": {},
     "output_type": "execute_result"
    },
    {
     "data": {
      "image/png": "[encoded data removed]",
      "text/plain": [
       "<Figure size 432x288 with 1 Axes>"
      ]
     },
     "metadata": {
      "needs_background": "light"
     },
     "output_type": "display_data"
    }
   ],
   "source": [
    "sns.countplot(x='type', data=df)"
   ]
  },
  {
   "cell_type": "markdown",
   "id": "43eeed74",
   "metadata": {},
   "source": [
    "#### check rating distribution"
   ]
  },
  {
   "cell_type": "code",
   "execution_count": 12,
   "id": "63945331",
   "metadata": {},
   "outputs": [
    {
     "data": {
      "text/plain": [
       "<AxesSubplot:xlabel='rating', ylabel='count'>"
      ]
     },
     "execution_count": 12,
     "metadata": {},
     "output_type": "execute_result"
    },
    {
     "data": {
      "image/png": "[encoded data removed]",
      "text/plain": [
       "<Figure size 432x288 with 1 Axes>"
      ]
     },
     "metadata": {
      "needs_background": "light"
     },
     "output_type": "display_data"
    }
   ],
   "source": [
    "sns.countplot(x='rating', data=df)"
   ]
  },
  {
   "cell_type": "markdown",
   "id": "8f17d599",
   "metadata": {},
   "source": [
    "#### remove rating in K-A, RP, AO"
   ]
  },
  {
   "cell_type": "code",
   "execution_count": 13,
   "id": "3ceee144",
   "metadata": {},
   "outputs": [],
   "source": [
    "df = df.drop(df[df['rating'].isin(['K-A', 'RP', 'AO'])].index)"
   ]
  },
  {
   "cell_type": "markdown",
   "id": "bb66f451",
   "metadata": {},
   "source": [
    "#### One-hot encoding"
   ]
  },
  {
   "cell_type": "code",
   "execution_count": 14,
   "id": "c95f21c1",
   "metadata": {},
   "outputs": [],
   "source": [
    "# hot encoding\n",
    "df = pd.get_dummies(df,\n",
    "                    columns=['platform', 'genre', 'type', 'rating'],\n",
    "                    prefix=['platform', 'genre', 'type', 'rating'])"
   ]
  },
  {
   "cell_type": "markdown",
   "id": "7f05cafa",
   "metadata": {},
   "source": [
    "### Train Test Split (label = user_score)"
   ]
  },
  {
   "cell_type": "code",
   "execution_count": 15,
   "id": "760b28f3",
   "metadata": {},
   "outputs": [],
   "source": [
    "from sklearn.model_selection import train_test_split\n",
    "\n",
    "X = df.drop(['user_score', 'meta_score'], axis=1).values\n",
    "y = df['user_score'].values"
   ]
  },
  {
   "cell_type": "code",
   "execution_count": 16,
   "id": "98ec89cd",
   "metadata": {},
   "outputs": [],
   "source": [
    "X_train, X_test, y_train, y_test = train_test_split(X,\n",
    "                                                    y,\n",
    "                                                    test_size=0.20,\n",
    "                                                    random_state=42)"
   ]
  },
  {
   "cell_type": "markdown",
   "id": "c2e6d25a",
   "metadata": {},
   "source": [
    "### Normalizing the Data\n",
    "- what features do we need to normalize?\n",
    "- the only numeric columns are user_score and meta_score, so we can't scale our data."
   ]
  },
  {
   "cell_type": "code",
   "execution_count": 17,
   "id": "217fb5fe",
   "metadata": {},
   "outputs": [],
   "source": [
    "from sklearn.preprocessing import MinMaxScaler"
   ]
  },
  {
   "cell_type": "code",
   "execution_count": 18,
   "id": "deeb879e",
   "metadata": {},
   "outputs": [],
   "source": [
    "scaler = MinMaxScaler()"
   ]
  },
  {
   "cell_type": "markdown",
   "id": "c8690200",
   "metadata": {},
   "source": [
    "### Creating the Model"
   ]
  },
  {
   "cell_type": "code",
   "execution_count": 19,
   "id": "a55af8a7",
   "metadata": {
    "scrolled": true
   },
   "outputs": [
    {
     "data": {
      "text/plain": [
       "<bound method DataFrame.info of        user_score  meta_score  platform_3ds  platform_dreamcast  platform_ds  \\\n",
       "0            91.0        99.0             0                   0            0   \n",
       "1            91.0        99.0             0                   0            0   \n",
       "2            91.0        97.0             0                   0            0   \n",
       "3            91.0        97.0             0                   0            0   \n",
       "4            91.0        97.0             0                   0            0   \n",
       "...           ...         ...           ...                 ...          ...   \n",
       "28047        73.0        70.0             0                   0            0   \n",
       "28048        73.0        70.0             0                   0            0   \n",
       "28049        50.0        50.0             0                   0            0   \n",
       "28050        50.0        50.0             0                   0            0   \n",
       "28051        50.0        50.0             0                   0            0   \n",
       "\n",
       "       platform_game-boy-advance  platform_gamecube  platform_nintendo-64  \\\n",
       "0                              0                  0                     1   \n",
       "1                              0                  0                     1   \n",
       "2                              0                  0                     0   \n",
       "3                              0                  0                     0   \n",
       "4                              0                  0                     0   \n",
       "...                          ...                ...                   ...   \n",
       "28047                          0                  0                     0   \n",
       "28048                          0                  0                     0   \n",
       "28049                          1                  0                     0   \n",
       "28050                          1                  0                     0   \n",
       "28051                          1                  0                     0   \n",
       "\n",
       "       platform_pc  platform_playstation  ...  genre_Third-Person  \\\n",
       "0                0                     0  ...                   0   \n",
       "1                0                     0  ...                   0   \n",
       "2                0                     0  ...                   0   \n",
       "3                0                     0  ...                   0   \n",
       "4                0                     0  ...                   0   \n",
       "...            ...                   ...  ...                 ...   \n",
       "28047            0                     0  ...                   0   \n",
       "28048            0                     0  ...                   0   \n",
       "28049            0                     0  ...                   0   \n",
       "28050            0                     0  ...                   0   \n",
       "28051            0                     0  ...                   0   \n",
       "\n",
       "       genre_Traditional  genre_Turn-Based  genre_Western-Style  \\\n",
       "0                      0                 0                    0   \n",
       "1                      0                 0                    0   \n",
       "2                      0                 0                    0   \n",
       "3                      0                 0                    0   \n",
       "4                      0                 0                    0   \n",
       "...                  ...               ...                  ...   \n",
       "28047                  0                 0                    0   \n",
       "28048                  0                 0                    0   \n",
       "28049                  0                 0                    0   \n",
       "28050                  0                 0                    0   \n",
       "28051                  0                 0                    0   \n",
       "\n",
       "       type_multiplayer  type_singleplayer  rating_E  rating_E10+  rating_M  \\\n",
       "0                     0                  1         1            0         0   \n",
       "1                     0                  1         1            0         0   \n",
       "2                     0                  1         1            0         0   \n",
       "3                     0                  1         1            0         0   \n",
       "4                     0                  1         1            0         0   \n",
       "...                 ...                ...       ...          ...       ...   \n",
       "28047                 1                  0         1            0         0   \n",
       "28048                 1                  0         1            0         0   \n",
       "28049                 0                  1         1            0         0   \n",
       "28050                 0                  1         1            0         0   \n",
       "28051                 0                  1         1            0         0   \n",
       "\n",
       "       rating_T  \n",
       "0             0  \n",
       "1             0  \n",
       "2             0  \n",
       "3             0  \n",
       "4             0  \n",
       "...         ...  \n",
       "28047         0  \n",
       "28048         0  \n",
       "28049         0  \n",
       "28050         0  \n",
       "28051         0  \n",
       "\n",
       "[25155 rows x 74 columns]>"
      ]
     },
     "execution_count": 19,
     "metadata": {},
     "output_type": "execute_result"
    }
   ],
   "source": [
    "df.info"
   ]
  },
  {
   "cell_type": "markdown",
   "id": "8986f6cf",
   "metadata": {},
   "source": [
    "#### Sequential Model"
   ]
  },
  {
   "cell_type": "code",
   "execution_count": 20,
   "id": "91576554",
   "metadata": {},
   "outputs": [],
   "source": [
    "import tensorflow as tf\n",
    "from tensorflow.keras.models import Sequential\n",
    "from tensorflow.keras.layers import Dense, Activation, Dropout\n",
    "from tensorflow.keras.callbacks import EarlyStopping"
   ]
  },
  {
   "cell_type": "code",
   "execution_count": 21,
   "id": "f9dfa185",
   "metadata": {},
   "outputs": [
    {
     "name": "stderr",
     "output_type": "stream",
     "text": [
      "2022-05-10 00:18:00.792839: I tensorflow/core/platform/cpu_feature_guard.cc:151] This TensorFlow binary is optimized with oneAPI Deep Neural Network Library (oneDNN) to use the following CPU instructions in performance-critical operations:  AVX2 FMA\n",
      "To enable them in other operations, rebuild TensorFlow with the appropriate compiler flags.\n"
     ]
    }
   ],
   "source": [
    "# Create EarlyStopping to prevent overfitting\n",
    "early_stop = EarlyStopping(monitor='val_loss',\n",
    "                           mode='min',\n",
    "                           verbose=1,\n",
    "                           patience=25)\n",
    "\n",
    "seq_model = Sequential()\n",
    "\n",
    "seq_model.add(Dense(72, activation='relu'))\n",
    "seq_model.add(Dropout(0.2))\n",
    "\n",
    "seq_model.add(Dense(36, activation='relu'))\n",
    "seq_model.add(Dropout(0.2))\n",
    "\n",
    "seq_model.add(Dense(1))\n",
    "\n",
    "seq_model.compile(optimizer='adam', loss='mse')"
   ]
  },
  {
   "cell_type": "code",
   "execution_count": 22,
   "id": "fc0fa86c",
   "metadata": {
    "scrolled": true
   },
   "outputs": [
    {
     "name": "stdout",
     "output_type": "stream",
     "text": [
      "Epoch 1/1000\n",
      "158/158 [==============================] - 1s 2ms/step - loss: 2546.1204 - val_loss: 178.1147\n",
      "Epoch 2/1000\n",
      "158/158 [==============================] - 0s 1ms/step - loss: 245.4567 - val_loss: 166.2490\n",
      "Epoch 3/1000\n",
      "158/158 [==============================] - 0s 1ms/step - loss: 240.0093 - val_loss: 163.2530\n",
      "Epoch 4/1000\n",
      "158/158 [==============================] - 0s 1ms/step - loss: 234.2286 - val_loss: 163.3624\n",
      "Epoch 5/1000\n",
      "158/158 [==============================] - 0s 1ms/step - loss: 233.2439 - val_loss: 163.4902\n",
      "Epoch 6/1000\n",
      "158/158 [==============================] - 0s 1ms/step - loss: 233.6817 - val_loss: 162.5445\n",
      "Epoch 7/1000\n",
      "158/158 [==============================] - 0s 1ms/step - loss: 232.6054 - val_loss: 162.1942\n",
      "Epoch 8/1000\n",
      "158/158 [==============================] - 0s 1ms/step - loss: 229.9800 - val_loss: 162.2049\n",
      "Epoch 9/1000\n",
      "158/158 [==============================] - 0s 1ms/step - loss: 231.1905 - val_loss: 163.1921\n",
      "Epoch 10/1000\n",
      "158/158 [==============================] - 0s 1ms/step - loss: 233.7717 - val_loss: 162.2577\n",
      "Epoch 11/1000\n",
      "158/158 [==============================] - 0s 1ms/step - loss: 232.1216 - val_loss: 162.3524\n",
      "Epoch 12/1000\n",
      "158/158 [==============================] - 0s 1ms/step - loss: 231.0944 - val_loss: 162.5056\n",
      "Epoch 13/1000\n",
      "158/158 [==============================] - 0s 1ms/step - loss: 234.0654 - val_loss: 162.7610\n",
      "Epoch 14/1000\n",
      "158/158 [==============================] - 0s 1ms/step - loss: 232.7270 - val_loss: 162.2189\n",
      "Epoch 15/1000\n",
      "158/158 [==============================] - 0s 1ms/step - loss: 226.0392 - val_loss: 162.6301\n",
      "Epoch 16/1000\n",
      "158/158 [==============================] - 0s 1ms/step - loss: 228.7056 - val_loss: 162.4499\n",
      "Epoch 17/1000\n",
      "158/158 [==============================] - 0s 997us/step - loss: 228.8366 - val_loss: 162.3172\n",
      "Epoch 18/1000\n",
      "158/158 [==============================] - 0s 1ms/step - loss: 230.6202 - val_loss: 162.0300\n",
      "Epoch 19/1000\n",
      "158/158 [==============================] - 0s 1ms/step - loss: 226.3956 - val_loss: 163.9908\n",
      "Epoch 20/1000\n",
      "158/158 [==============================] - 0s 1ms/step - loss: 230.1241 - val_loss: 164.5775\n",
      "Epoch 21/1000\n",
      "158/158 [==============================] - 0s 1ms/step - loss: 228.2405 - val_loss: 162.2801\n",
      "Epoch 22/1000\n",
      "158/158 [==============================] - 0s 999us/step - loss: 229.8042 - val_loss: 161.9180\n",
      "Epoch 23/1000\n",
      "158/158 [==============================] - 0s 997us/step - loss: 231.0134 - val_loss: 161.8801\n",
      "Epoch 24/1000\n",
      "158/158 [==============================] - 0s 1ms/step - loss: 226.8085 - val_loss: 161.8706\n",
      "Epoch 25/1000\n",
      "158/158 [==============================] - 0s 994us/step - loss: 228.7905 - val_loss: 162.3361\n",
      "Epoch 26/1000\n",
      "158/158 [==============================] - 0s 1ms/step - loss: 229.3097 - val_loss: 162.5967\n",
      "Epoch 27/1000\n",
      "158/158 [==============================] - 0s 1ms/step - loss: 226.3463 - val_loss: 162.2394\n",
      "Epoch 28/1000\n",
      "158/158 [==============================] - 0s 1ms/step - loss: 226.9689 - val_loss: 162.5409\n",
      "Epoch 29/1000\n",
      "158/158 [==============================] - 0s 1000us/step - loss: 223.8341 - val_loss: 162.6531\n",
      "Epoch 30/1000\n",
      "158/158 [==============================] - 0s 992us/step - loss: 228.0146 - val_loss: 162.0927\n",
      "Epoch 31/1000\n",
      "158/158 [==============================] - 0s 1ms/step - loss: 225.5371 - val_loss: 162.7108\n",
      "Epoch 32/1000\n",
      "158/158 [==============================] - 0s 1ms/step - loss: 226.2935 - val_loss: 162.2207\n",
      "Epoch 33/1000\n",
      "158/158 [==============================] - 0s 1ms/step - loss: 224.5522 - val_loss: 163.1508\n",
      "Epoch 34/1000\n",
      "158/158 [==============================] - 0s 1ms/step - loss: 226.3203 - val_loss: 162.1143\n",
      "Epoch 35/1000\n",
      "158/158 [==============================] - 0s 1ms/step - loss: 226.3219 - val_loss: 161.9403\n",
      "Epoch 36/1000\n",
      "158/158 [==============================] - 0s 1ms/step - loss: 226.7151 - val_loss: 162.8079\n",
      "Epoch 37/1000\n",
      "158/158 [==============================] - 0s 1ms/step - loss: 227.0066 - val_loss: 162.1236\n",
      "Epoch 38/1000\n",
      "158/158 [==============================] - 0s 1ms/step - loss: 226.7199 - val_loss: 164.4910\n",
      "Epoch 39/1000\n",
      "158/158 [==============================] - 0s 1ms/step - loss: 225.6216 - val_loss: 162.1993\n",
      "Epoch 40/1000\n",
      "158/158 [==============================] - 0s 1ms/step - loss: 224.0984 - val_loss: 164.7525\n",
      "Epoch 41/1000\n",
      "158/158 [==============================] - 0s 1ms/step - loss: 223.8656 - val_loss: 162.1541\n",
      "Epoch 42/1000\n",
      "158/158 [==============================] - 0s 1ms/step - loss: 226.4319 - val_loss: 165.2537\n",
      "Epoch 43/1000\n",
      "158/158 [==============================] - 0s 1ms/step - loss: 224.0622 - val_loss: 163.9056\n",
      "Epoch 44/1000\n",
      "158/158 [==============================] - 0s 993us/step - loss: 226.2956 - val_loss: 162.5371\n",
      "Epoch 45/1000\n",
      "158/158 [==============================] - 0s 1ms/step - loss: 221.0905 - val_loss: 162.0114\n",
      "Epoch 46/1000\n",
      "158/158 [==============================] - 0s 1ms/step - loss: 224.4412 - val_loss: 162.4294\n",
      "Epoch 47/1000\n",
      "158/158 [==============================] - 0s 1ms/step - loss: 222.1391 - val_loss: 162.1137\n",
      "Epoch 48/1000\n",
      "158/158 [==============================] - 0s 1ms/step - loss: 220.8693 - val_loss: 162.0637\n",
      "Epoch 49/1000\n",
      "158/158 [==============================] - 0s 1ms/step - loss: 218.7387 - val_loss: 164.0877\n",
      "Epoch 49: early stopping\n"
     ]
    },
    {
     "data": {
      "text/plain": [
       "<keras.callbacks.History at 0x7ff8f9b8e910>"
      ]
     },
     "execution_count": 22,
     "metadata": {},
     "output_type": "execute_result"
    }
   ],
   "source": [
    "seq_model.fit(X_train,\n",
    "              y_train,\n",
    "              validation_data=(X_test, y_test),\n",
    "              batch_size=128,\n",
    "              epochs=1000,\n",
    "              callbacks=[early_stop])"
   ]
  },
  {
   "cell_type": "code",
   "execution_count": 23,
   "id": "2f10020e",
   "metadata": {},
   "outputs": [
    {
     "data": {
      "text/plain": [
       "Text(0, 0.5, 'Loss')"
      ]
     },
     "execution_count": 23,
     "metadata": {},
     "output_type": "execute_result"
    },
    {
     "data": {
      "image/png": "[encoded data removed]",
      "text/plain": [
       "<Figure size 432x288 with 1 Axes>"
      ]
     },
     "metadata": {
      "needs_background": "light"
     },
     "output_type": "display_data"
    }
   ],
   "source": [
    "losses = pd.DataFrame(seq_model.history.history)\n",
    "losses[['loss', 'val_loss']].plot()\n",
    "plt.title(\"value loss\")\n",
    "plt.xlabel(\"Epoch\")\n",
    "plt.ylabel(\"Loss\")"
   ]
  },
  {
   "cell_type": "markdown",
   "id": "b2a31096",
   "metadata": {},
   "source": [
    "#### Evaluating Model Performance"
   ]
  },
  {
   "cell_type": "code",
   "execution_count": 24,
   "id": "68fc1054",
   "metadata": {},
   "outputs": [
    {
     "name": "stdout",
     "output_type": "stream",
     "text": [
      "MAE: 10\n",
      "MSE: 12\n",
      "score: 0\n"
     ]
    }
   ],
   "source": [
    "from sklearn.metrics import mean_squared_error, mean_absolute_error, explained_variance_score\n",
    "\n",
    "seq_pred = seq_model.predict(X_test)\n",
    "print(f'MAE: %d' % mean_absolute_error(y_test, seq_pred))\n",
    "print(f'MSE: %d' % np.sqrt(mean_squared_error(y_test, seq_pred)))\n",
    "print(f'score: %d' % explained_variance_score(y_test, seq_pred))"
   ]
  },
  {
   "cell_type": "code",
   "execution_count": 25,
   "id": "f45e90cf",
   "metadata": {},
   "outputs": [
    {
     "data": {
      "image/png": "[encoded data removed]",
      "text/plain": [
       "<Figure size 432x288 with 1 Axes>"
      ]
     },
     "metadata": {
      "needs_background": "light"
     },
     "output_type": "display_data"
    }
   ],
   "source": [
    "plt.scatter(y_test, seq_pred)\n",
    "plt.plot(y_test, y_test, 'r', label='True user_score')\n",
    "plt.title(\"True values v.s. Sequencial Predictions\")\n",
    "plt.xlabel(\"True value\")\n",
    "plt.ylabel(\"y\")\n",
    "plt.legend()\n",
    "plt.show()"
   ]
  },
  {
   "cell_type": "code",
   "execution_count": 26,
   "id": "841ccfaf",
   "metadata": {},
   "outputs": [
    {
     "data": {
      "image/png": "[encoded data removed]",
      "text/plain": [
       "<Figure size 402.25x360 with 1 Axes>"
      ]
     },
     "metadata": {
      "needs_background": "light"
     },
     "output_type": "display_data"
    }
   ],
   "source": [
    "p_shape = seq_pred.shape\n",
    "errors = y_test.reshape(p_shape[0], p_shape[1]) - seq_pred\n",
    "sns.displot(errors)\n",
    "plt.title(\"Error Distribution\")\n",
    "plt.xlabel(\"error score\")\n",
    "plt.show()"
   ]
  },
  {
   "cell_type": "markdown",
   "id": "10b5473d",
   "metadata": {},
   "source": [
    "#### RandomForestRegressor"
   ]
  },
  {
   "cell_type": "code",
   "execution_count": 27,
   "id": "42b66daa",
   "metadata": {},
   "outputs": [],
   "source": [
    "from sklearn.ensemble import RandomForestRegressor"
   ]
  },
  {
   "cell_type": "code",
   "execution_count": 28,
   "id": "ffd98bfe",
   "metadata": {},
   "outputs": [],
   "source": [
    "rfr_model = RandomForestRegressor(n_estimators=100, random_state=0)\n",
    "rfr_model.fit(X_train, y_train)\n",
    "rfr_pred = rfr_model.predict(X_test)"
   ]
  },
  {
   "cell_type": "markdown",
   "id": "2c6d201a",
   "metadata": {},
   "source": [
    "#### Evaluating Model Performance"
   ]
  },
  {
   "cell_type": "code",
   "execution_count": 29,
   "id": "49f31fec",
   "metadata": {
    "scrolled": true
   },
   "outputs": [
    {
     "data": {
      "image/png": "[encoded data removed]",
      "text/plain": [
       "<Figure size 432x288 with 1 Axes>"
      ]
     },
     "metadata": {
      "needs_background": "light"
     },
     "output_type": "display_data"
    }
   ],
   "source": [
    "plt.scatter(y_test, rfr_pred)\n",
    "plt.plot(y_test, y_test, 'r', label='True user_score')\n",
    "plt.title(\"True values v.s. RFR_Predictions\")\n",
    "plt.xlabel(\"True value\")\n",
    "plt.ylabel(\"Predictions\")\n",
    "plt.legend()\n",
    "plt.show()"
   ]
  },
  {
   "cell_type": "code",
   "execution_count": 30,
   "id": "e73b3648",
   "metadata": {},
   "outputs": [
    {
     "name": "stdout",
     "output_type": "stream",
     "text": [
      "R2 score:  -0.009060072910424433\n",
      "MSE: 171.1769492599751\n"
     ]
    }
   ],
   "source": [
    "from sklearn import metrics\n",
    "\n",
    "print('R2 score: ', rfr_model.score(X_test, y_test))\n",
    "mse = metrics.mean_squared_error(y_test, rfr_pred)\n",
    "print('MSE:', mse)"
   ]
  },
  {
   "cell_type": "code",
   "execution_count": 31,
   "id": "fe55f387",
   "metadata": {},
   "outputs": [
    {
     "data": {
      "text/plain": [
       "['platform_3ds',\n",
       " 'platform_dreamcast',\n",
       " 'platform_ds',\n",
       " 'platform_game-boy-advance',\n",
       " 'platform_gamecube',\n",
       " 'platform_nintendo-64',\n",
       " 'platform_pc',\n",
       " 'platform_playstation',\n",
       " 'platform_psp',\n",
       " 'platform_stadia',\n",
       " 'platform_switch',\n",
       " 'platform_wii',\n",
       " 'platform_xbox']"
      ]
     },
     "execution_count": 31,
     "metadata": {},
     "output_type": "execute_result"
    }
   ],
   "source": [
    "platform_col = [col for col in df if col.startswith('platform')]\n",
    "platform_col"
   ]
  },
  {
   "cell_type": "code",
   "execution_count": 32,
   "id": "e8cfac93",
   "metadata": {},
   "outputs": [
    {
     "data": {
      "text/plain": [
       "['genre_2D',\n",
       " 'genre_3D',\n",
       " 'genre_Action',\n",
       " 'genre_Action Adventure',\n",
       " 'genre_Action RPG',\n",
       " 'genre_Adventure',\n",
       " 'genre_Alternative',\n",
       " 'genre_Arcade',\n",
       " 'genre_Automobile',\n",
       " 'genre_Basketball',\n",
       " \"genre_Beat-'Em-Up\",\n",
       " 'genre_Combat',\n",
       " 'genre_Compilation',\n",
       " 'genre_Console-style RPG',\n",
       " 'genre_Driving',\n",
       " 'genre_Fantasy',\n",
       " 'genre_Fighting',\n",
       " 'genre_First-Person',\n",
       " 'genre_Football',\n",
       " 'genre_GT / Street',\n",
       " 'genre_General',\n",
       " 'genre_Historic',\n",
       " 'genre_Horror',\n",
       " 'genre_Individual',\n",
       " 'genre_Japanese-Style',\n",
       " 'genre_Linear',\n",
       " 'genre_Management',\n",
       " 'genre_Miscellaneous',\n",
       " 'genre_Modern',\n",
       " 'genre_Music',\n",
       " 'genre_Open-World',\n",
       " 'genre_Platformer',\n",
       " 'genre_Puzzle',\n",
       " 'genre_Racing',\n",
       " 'genre_Real-Time',\n",
       " 'genre_Rhythm',\n",
       " 'genre_Role-Playing',\n",
       " 'genre_Sci-Fi',\n",
       " \"genre_Shoot-'Em-Up\",\n",
       " 'genre_Shooter',\n",
       " 'genre_Sim',\n",
       " 'genre_Simulation',\n",
       " 'genre_Soccer',\n",
       " 'genre_Sports',\n",
       " 'genre_Strategy',\n",
       " 'genre_Survival',\n",
       " 'genre_Tactical',\n",
       " 'genre_Tactics',\n",
       " 'genre_Team',\n",
       " 'genre_Third-Person',\n",
       " 'genre_Traditional',\n",
       " 'genre_Turn-Based',\n",
       " 'genre_Western-Style']"
      ]
     },
     "execution_count": 32,
     "metadata": {},
     "output_type": "execute_result"
    }
   ],
   "source": [
    "genre_col = [col for col in df if col.startswith('genre')]\n",
    "genre_col"
   ]
  },
  {
   "cell_type": "markdown",
   "id": "15e051fb",
   "metadata": {},
   "source": [
    "### Create the function for best platform prediction"
   ]
  },
  {
   "cell_type": "code",
   "execution_count": 33,
   "id": "9a3c84ea",
   "metadata": {},
   "outputs": [],
   "source": [
    "def get_best_platform(col_index, genre, type, rating, model):\n",
    "    most_popular_platform = ''\n",
    "    user_score = 0\n",
    "\n",
    "    col_len = len(col_index)\n",
    "    test = np.zeros(len(col_index))\n",
    "    test[col_index.get_loc(type)] = 1\n",
    "    test[col_index.get_loc(rating)] = 1\n",
    "\n",
    "    for g in genre:\n",
    "        test[col_index.get_loc(g)] = 1\n",
    "\n",
    "    for p in platform_col:\n",
    "        test[col_index.get_loc(p)] = 1\n",
    "\n",
    "        predict_score = model.predict(test.reshape(1, col_len))\n",
    "        print(f'%s: %d' % (p, predict_score))\n",
    "        if (user_score < predict_score):\n",
    "            user_score = predict_score\n",
    "            most_popular_platform = p\n",
    "\n",
    "        test[col_index.get_loc(p)] = 0\n",
    "\n",
    "    return most_popular_platform"
   ]
  },
  {
   "cell_type": "code",
   "execution_count": 34,
   "id": "35cd3a50",
   "metadata": {},
   "outputs": [
    {
     "name": "stdout",
     "output_type": "stream",
     "text": [
      "platform_3ds: 88\n",
      "platform_dreamcast: 92\n",
      "platform_ds: 86\n",
      "platform_game-boy-advance: 89\n",
      "platform_gamecube: 90\n",
      "platform_nintendo-64: 96\n",
      "platform_pc: 86\n",
      "platform_playstation: 86\n",
      "platform_psp: 89\n",
      "platform_stadia: 92\n",
      "platform_switch: 87\n",
      "platform_wii: 87\n",
      "platform_xbox: 86\n",
      "sequential model predict: platform_nintendo-64\n",
      "\n",
      "platform_3ds: 66\n",
      "platform_dreamcast: 68\n",
      "platform_ds: 66\n",
      "platform_game-boy-advance: 65\n",
      "platform_gamecube: 62\n",
      "platform_nintendo-64: 86\n",
      "platform_pc: 71\n",
      "platform_playstation: 68\n",
      "platform_psp: 67\n",
      "platform_stadia: 66\n",
      "platform_switch: 67\n",
      "platform_wii: 67\n",
      "platform_xbox: 71\n",
      "RandomForestRegressor model predict: platform_nintendo-64\n",
      "\n"
     ]
    }
   ],
   "source": [
    "df_copy = df.drop(columns=['user_score', 'meta_score'])\n",
    "predict_platform = get_best_platform(\n",
    "    df_copy.columns, ['genre_3D', 'genre_Shooter', 'genre_Horror'],\n",
    "    'type_singleplayer', 'rating_E', seq_model)\n",
    "print(f'sequential model predict: %s\\n' % predict_platform)\n",
    "\n",
    "predict_platform = get_best_platform(\n",
    "    df_copy.columns, ['genre_3D', 'genre_Shooter', 'genre_Horror'],\n",
    "    'type_singleplayer', 'rating_E', rfr_model)\n",
    "print(f'RandomForestRegressor model predict: %s\\n' % predict_platform)"
   ]
  },
  {
   "cell_type": "code",
   "execution_count": 35,
   "id": "8dfe32f4",
   "metadata": {},
   "outputs": [
    {
     "name": "stderr",
     "output_type": "stream",
     "text": [
      "2022-05-10 00:18:17.378551: W tensorflow/python/util/util.cc:368] Sets are not currently considered sequences, but this may change in the future, so consider avoiding using them.\n"
     ]
    },
    {
     "name": "stdout",
     "output_type": "stream",
     "text": [
      "INFO:tensorflow:Assets written to: ram://dbb9dfba-fc71-427c-ac5e-2543f68598e1/assets\n"
     ]
    }
   ],
   "source": [
    "import pickle\n",
    "\n",
    "filename = 'q4_seq_model.sav'\n",
    "pickle.dump(seq_model, open(filename, 'wb'))\n",
    "\n",
    "filename = 'q4_rfr_model.sav'\n",
    "pickle.dump(rfr_model, open(filename, 'wb'))"
   ]
  }
 ],
 "metadata": {
  "kernelspec": {
   "display_name": "Python 3 (ipykernel)",
   "language": "python",
   "name": "python3"
  },
  "language_info": {
   "codemirror_mode": {
    "name": "ipython",
    "version": 3
   },
   "file_extension": ".py",
   "mimetype": "text/x-python",
   "name": "python",
   "nbconvert_exporter": "python",
   "pygments_lexer": "ipython3",
   "version": "3.8.13"
  }
 },
 "nbformat": 4,
 "nbformat_minor": 5
}
