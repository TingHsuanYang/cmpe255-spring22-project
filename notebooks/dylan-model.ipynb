{
 "cells": [
  {
   "cell_type": "code",
   "execution_count": 1,
   "metadata": {},
   "outputs": [
    {
     "name": "stdout",
     "output_type": "stream",
     "text": [
      "<class 'pandas.core.frame.DataFrame'>\n",
      "Int64Index: 7691 entries, 0 to 8830\n",
      "Data columns (total 4 columns):\n",
      " #   Column      Non-Null Count  Dtype  \n",
      "---  ------      --------------  -----  \n",
      " 0   user_score  7691 non-null   float64\n",
      " 1   meta_score  7691 non-null   float64\n",
      " 2   genre       7691 non-null   object \n",
      " 3   rating      7691 non-null   object \n",
      "dtypes: float64(2), object(2)\n",
      "memory usage: 300.4+ KB\n"
     ]
    }
   ],
   "source": [
    "import pandas as pd\n",
    "import numpy as np\n",
    "\n",
    "data = pd.read_csv('../data/games_of_all_time.csv')\n",
    "model_data = data[['user_score', 'meta_score', 'genre', 'rating']]\n",
    "model_data = model_data.dropna()\n",
    "\n",
    "model_data.info()"
   ]
  },
  {
   "cell_type": "code",
   "execution_count": 2,
   "metadata": {},
   "outputs": [
    {
     "data": {
      "text/plain": [
       "<matplotlib.axes._subplots.AxesSubplot at 0x1d935a36460>"
      ]
     },
     "execution_count": 2,
     "metadata": {},
     "output_type": "execute_result"
    },
    {
     "data": {
      "image/png": "[encoded data removed]",
      "text/plain": [
       "<Figure size 432x288 with 1 Axes>"
      ]
     },
     "metadata": {
      "needs_background": "light"
     },
     "output_type": "display_data"
    }
   ],
   "source": [
    "import seaborn as sns\n",
    "\n",
    "sns.distplot(model_data[['user_score']])"
   ]
  },
  {
   "cell_type": "code",
   "execution_count": 3,
   "metadata": {},
   "outputs": [
    {
     "data": {
      "text/plain": [
       "<matplotlib.axes._subplots.AxesSubplot at 0x1d935b912b0>"
      ]
     },
     "execution_count": 3,
     "metadata": {},
     "output_type": "execute_result"
    },
    {
     "data": {
      "image/png": "[encoded data removed]",
      "text/plain": [
       "<Figure size 432x288 with 1 Axes>"
      ]
     },
     "metadata": {
      "needs_background": "light"
     },
     "output_type": "display_data"
    }
   ],
   "source": [
    "import seaborn as sns\n",
    "\n",
    "sns.distplot(model_data[['meta_score']])"
   ]
  },
  {
   "cell_type": "code",
   "execution_count": 4,
   "metadata": {},
   "outputs": [
    {
     "name": "stdout",
     "output_type": "stream",
     "text": [
      "47\n",
      "{   '2D': 627,\n",
      "    '3D': 622,\n",
      "    'Action': 2818,\n",
      "    'Action Adventure': 1044,\n",
      "    'Action RPG': 382,\n",
      "    'Adventure': 545,\n",
      "    'Arcade': 818,\n",
      "    'Automobile': 281,\n",
      "    \"Beat-'Em-Up\": 218,\n",
      "    'Combat': 159,\n",
      "    'Compilation': 195,\n",
      "    'Console-style RPG': 165,\n",
      "    'Driving': 445,\n",
      "    'Fantasy': 481,\n",
      "    'Fighting': 277,\n",
      "    'First-Person': 651,\n",
      "    'General': 1993,\n",
      "    'Historic': 238,\n",
      "    'Horror': 128,\n",
      "    'Individual': 179,\n",
      "    'Japanese-Style': 176,\n",
      "    'Management': 125,\n",
      "    'Miscellaneous': 895,\n",
      "    'Modern': 442,\n",
      "    'Music': 132,\n",
      "    'Open-World': 206,\n",
      "    'Platformer': 635,\n",
      "    'Point-and-Click': 101,\n",
      "    'Puzzle': 323,\n",
      "    'Racing': 492,\n",
      "    'Real-Time': 290,\n",
      "    'Rhythm': 172,\n",
      "    'Role-Playing': 936,\n",
      "    'Sci-Fi': 518,\n",
      "    \"Shoot-'Em-Up\": 184,\n",
      "    'Shooter': 1004,\n",
      "    'Sim': 285,\n",
      "    'Simulation': 454,\n",
      "    'Sports': 675,\n",
      "    'Strategy': 728,\n",
      "    'Survival': 159,\n",
      "    'Tactical': 144,\n",
      "    'Tactics': 119,\n",
      "    'Team': 209,\n",
      "    'Third-Person': 382,\n",
      "    'Traditional': 386,\n",
      "    'Turn-Based': 259}\n",
      "dict_keys(['Action Adventure', 'Fantasy', 'Action', 'Platformer', '3D', 'Shooter', 'First-Person', 'Sci-Fi', 'Adventure', 'Sports', 'Traditional', 'Sim', 'Modern', 'Fighting', 'Driving', 'Racing', 'Miscellaneous', 'Compilation', 'Role-Playing', 'General', 'Japanese-Style', 'Open-World', 'Console-style RPG', 'Third-Person', 'Arcade', 'Strategy', 'Turn-Based', 'Historic', '2D', 'Survival', 'Action RPG', 'Real-Time', 'Horror', 'Tactical', 'Simulation', 'Automobile', 'Tactics', \"Beat-'Em-Up\", 'Rhythm', 'Music', 'Combat', 'Puzzle', 'Point-and-Click', \"Shoot-'Em-Up\", 'Team', 'Management', 'Individual'])\n"
     ]
    }
   ],
   "source": [
    "import pprint\n",
    "i = 0\n",
    "var_dict = {}\n",
    "\n",
    "for array in model_data[['genre']].iloc:\n",
    "    #print(i)\n",
    "    try: \n",
    "        g_arr = array[0][1:len(array[0])-1].split(',')\n",
    "        for genre in g_arr:\n",
    "            genre = genre.strip()\n",
    "            genre = genre[1:len(genre)-1]\n",
    "            if genre in var_dict:\n",
    "                var_dict[genre] += 1\n",
    "            else:\n",
    "                var_dict[genre] = 1\n",
    "    except:\n",
    "        pass\n",
    "    i += 1\n",
    "\n",
    "pp = pprint.PrettyPrinter(indent=4)\n",
    "delete = []\n",
    "\n",
    "for genre in var_dict:\n",
    "    if var_dict[genre] <= 100:\n",
    "        delete.append(genre)\n",
    "\n",
    "for genre in delete:\n",
    "    del var_dict[genre]\n",
    "\n",
    "genres = var_dict.keys()\n",
    "\n",
    "print(len(var_dict.keys()))\n",
    "pp.pprint(var_dict)\n",
    "print(genres)\n",
    "    "
   ]
  },
  {
   "cell_type": "code",
   "execution_count": 5,
   "metadata": {},
   "outputs": [
    {
     "name": "stdout",
     "output_type": "stream",
     "text": [
      "4\n",
      "{'E': 2371, 'E10+': 1128, 'M': 1535, 'T': 2636}\n",
      "dict_keys(['E', 'T', 'E10+', 'M'])\n"
     ]
    }
   ],
   "source": [
    "var_dict2 = {}\n",
    "for rating in model_data[['rating']].iloc:\n",
    "    if rating[0] in var_dict2:\n",
    "        var_dict2[rating[0]] +=1\n",
    "    else:\n",
    "        var_dict2[rating[0]] =1\n",
    "ratings = var_dict2.keys()\n",
    "\n",
    "delete2 = []\n",
    "for rating in var_dict2:\n",
    "    if var_dict2[rating] <= 50:\n",
    "        delete2.append(rating)\n",
    "        \n",
    "for rating in delete2:\n",
    "    del var_dict2[rating]\n",
    "\n",
    "print(len(var_dict2.keys()))\n",
    "pp.pprint(var_dict2)\n",
    "print(ratings)"
   ]
  },
  {
   "cell_type": "code",
   "execution_count": 6,
   "metadata": {},
   "outputs": [
    {
     "name": "stdout",
     "output_type": "stream",
     "text": [
      "Success!\n"
     ]
    }
   ],
   "source": [
    "def make_genre_arr(index):\n",
    "    g_arr = model_data[['genre']].iloc[index][0][1:len(model_data[['genre']].iloc[index][0])-1].split(',')\n",
    "    for i in range(len(g_arr)):\n",
    "        g_arr[i] = g_arr[i].strip()\n",
    "        g_arr[i] = g_arr[i][1:len(g_arr[i])-1]\n",
    "    return g_arr\n",
    "genre_dict = {}\n",
    "for genre in genres:\n",
    "    genre_dict[genre] = [0]*model_data.shape[0]\n",
    "for i in range(model_data.shape[0]):\n",
    "    gs = make_genre_arr(i)\n",
    "    for genre in gs:\n",
    "        if genre in genre_dict:\n",
    "            genre_dict[genre][i] = 1\n",
    "print('Success!')\n",
    "        "
   ]
  },
  {
   "cell_type": "code",
   "execution_count": 7,
   "metadata": {},
   "outputs": [
    {
     "name": "stdout",
     "output_type": "stream",
     "text": [
      "Success!\n"
     ]
    }
   ],
   "source": [
    "rating_dict = {}\n",
    "for rating in ratings:\n",
    "    rating_dict[rating] = [0]*model_data.shape[0]\n",
    "for i in range(model_data.shape[0]):\n",
    "    r = model_data[['rating']].iloc[i][0]\n",
    "    rating_dict[r] = 1\n",
    "print('Success!')"
   ]
  },
  {
   "cell_type": "code",
   "execution_count": 8,
   "metadata": {},
   "outputs": [
    {
     "name": "stdout",
     "output_type": "stream",
     "text": [
      "<class 'pandas.core.frame.DataFrame'>\n",
      "Int64Index: 7691 entries, 0 to 8830\n",
      "Data columns (total 54 columns):\n",
      " #   Column             Non-Null Count  Dtype\n",
      "---  ------             --------------  -----\n",
      " 0   Action Adventure   7691 non-null   int64\n",
      " 1   Fantasy            7691 non-null   int64\n",
      " 2   Action             7691 non-null   int64\n",
      " 3   Platformer         7691 non-null   int64\n",
      " 4   3D                 7691 non-null   int64\n",
      " 5   Shooter            7691 non-null   int64\n",
      " 6   First-Person       7691 non-null   int64\n",
      " 7   Sci-Fi             7691 non-null   int64\n",
      " 8   Adventure          7691 non-null   int64\n",
      " 9   Sports             7691 non-null   int64\n",
      " 10  Traditional        7691 non-null   int64\n",
      " 11  Sim                7691 non-null   int64\n",
      " 12  Modern             7691 non-null   int64\n",
      " 13  Fighting           7691 non-null   int64\n",
      " 14  Driving            7691 non-null   int64\n",
      " 15  Racing             7691 non-null   int64\n",
      " 16  Miscellaneous      7691 non-null   int64\n",
      " 17  Compilation        7691 non-null   int64\n",
      " 18  Role-Playing       7691 non-null   int64\n",
      " 19  General            7691 non-null   int64\n",
      " 20  Japanese-Style     7691 non-null   int64\n",
      " 21  Open-World         7691 non-null   int64\n",
      " 22  Console-style RPG  7691 non-null   int64\n",
      " 23  Third-Person       7691 non-null   int64\n",
      " 24  Arcade             7691 non-null   int64\n",
      " 25  Strategy           7691 non-null   int64\n",
      " 26  Turn-Based         7691 non-null   int64\n",
      " 27  Historic           7691 non-null   int64\n",
      " 28  2D                 7691 non-null   int64\n",
      " 29  Survival           7691 non-null   int64\n",
      " 30  Action RPG         7691 non-null   int64\n",
      " 31  Real-Time          7691 non-null   int64\n",
      " 32  Horror             7691 non-null   int64\n",
      " 33  Tactical           7691 non-null   int64\n",
      " 34  Simulation         7691 non-null   int64\n",
      " 35  Automobile         7691 non-null   int64\n",
      " 36  Tactics            7691 non-null   int64\n",
      " 37  Beat-'Em-Up        7691 non-null   int64\n",
      " 38  Rhythm             7691 non-null   int64\n",
      " 39  Music              7691 non-null   int64\n",
      " 40  Combat             7691 non-null   int64\n",
      " 41  Puzzle             7691 non-null   int64\n",
      " 42  Point-and-Click    7691 non-null   int64\n",
      " 43  Shoot-'Em-Up       7691 non-null   int64\n",
      " 44  Team               7691 non-null   int64\n",
      " 45  Management         7691 non-null   int64\n",
      " 46  Individual         7691 non-null   int64\n",
      " 47  E                  7691 non-null   int64\n",
      " 48  T                  7691 non-null   int64\n",
      " 49  E10+               7691 non-null   int64\n",
      " 50  M                  7691 non-null   int64\n",
      " 51  K-A                7691 non-null   int64\n",
      " 52  RP                 7691 non-null   int64\n",
      " 53  AO                 7691 non-null   int64\n",
      "dtypes: int64(54)\n",
      "memory usage: 3.2 MB\n",
      "None\n"
     ]
    }
   ],
   "source": [
    "from sklearn.model_selection import train_test_split\n",
    "\n",
    "for genre in genre_dict:\n",
    "    model_data[genre] = genre_dict[genre]\n",
    "\n",
    "for rating in rating_dict:\n",
    "    model_data[rating] = rating_dict[rating]\n",
    "\n",
    "y_user = model_data[['user_score']]\n",
    "y_critic = model_data[['meta_score']]\n",
    "x = model_data.drop(columns = ['user_score', 'meta_score', 'genre', 'rating'])\n",
    "\n",
    "print(x.info())\n",
    "\n",
    "ux_train, ux_test, uy_train, uy_test = train_test_split(x, y_user, test_size=0.2, random_state=42)\n",
    "cx_train, cx_test, cy_train, cy_test = train_test_split(x, y_critic, test_size=0.2, random_state=42)"
   ]
  },
  {
   "cell_type": "code",
   "execution_count": 9,
   "metadata": {},
   "outputs": [
    {
     "data": {
      "text/plain": [
       "RandomForestRegressor(n_estimators=1000, random_state=0)"
      ]
     },
     "execution_count": 9,
     "metadata": {},
     "output_type": "execute_result"
    }
   ],
   "source": [
    "from sklearn.ensemble import RandomForestRegressor\n",
    "\n",
    "regr1 = RandomForestRegressor(n_estimators=1000, random_state=0)\n",
    "regr2 = RandomForestRegressor(n_estimators=1000, random_state=0)\n",
    "\n",
    "regr1.fit(ux_train, np.ravel(uy_train))\n",
    "regr2.fit(cx_train, np.ravel(cy_train))"
   ]
  },
  {
   "cell_type": "code",
   "execution_count": 10,
   "metadata": {},
   "outputs": [
    {
     "data": {
      "text/plain": [
       "0.04516654280712884"
      ]
     },
     "execution_count": 10,
     "metadata": {},
     "output_type": "execute_result"
    }
   ],
   "source": [
    "regr1.score(ux_test, np.ravel(uy_test))"
   ]
  },
  {
   "cell_type": "code",
   "execution_count": 11,
   "metadata": {},
   "outputs": [
    {
     "data": {
      "text/plain": [
       "0.02397023443114743"
      ]
     },
     "execution_count": 11,
     "metadata": {},
     "output_type": "execute_result"
    }
   ],
   "source": [
    "regr2.score(cx_test, np.ravel(cy_test))"
   ]
  },
  {
   "cell_type": "code",
   "execution_count": 13,
   "metadata": {},
   "outputs": [
    {
     "name": "stdout",
     "output_type": "stream",
     "text": [
      "[64.60260391 65.96969641 67.32892766 ... 68.38488834 72.24248733\n",
      " 68.9690282 ]\n"
     ]
    },
    {
     "data": {
      "text/plain": [
       "<matplotlib.axes._subplots.AxesSubplot at 0x1d93bf2c670>"
      ]
     },
     "execution_count": 13,
     "metadata": {},
     "output_type": "execute_result"
    },
    {
     "data": {
      "image/png": "[encoded data removed]",
      "text/plain": [
       "<Figure size 432x288 with 1 Axes>"
      ]
     },
     "metadata": {
      "needs_background": "light"
     },
     "output_type": "display_data"
    }
   ],
   "source": [
    "import seaborn as sns\n",
    "pred = regr1.predict(ux_test)\n",
    "print(pred)\n",
    "sns.scatterplot(x=np.ravel(uy_test), y=pred)\n",
    "sns.lineplot([0,100], [0,100], hue=['match','match'], palette=['r'])"
   ]
  },
  {
   "cell_type": "code",
   "execution_count": 14,
   "metadata": {},
   "outputs": [
    {
     "name": "stdout",
     "output_type": "stream",
     "text": [
      "[69.19495859 72.80583233 68.26672756 ... 67.82511237 73.72229405\n",
      " 66.65106515]\n"
     ]
    },
    {
     "data": {
      "text/plain": [
       "<matplotlib.axes._subplots.AxesSubplot at 0x1d937ebeca0>"
      ]
     },
     "execution_count": 14,
     "metadata": {},
     "output_type": "execute_result"
    },
    {
     "data": {
      "image/png": "[encoded data removed]",
      "text/plain": [
       "<Figure size 432x288 with 1 Axes>"
      ]
     },
     "metadata": {
      "needs_background": "light"
     },
     "output_type": "display_data"
    }
   ],
   "source": [
    "import seaborn as sns\n",
    "pred = regr2.predict(cx_test)\n",
    "print(pred)\n",
    "sns.scatterplot(x=np.ravel(cy_test), y=pred)\n",
    "sns.lineplot([0,100], [0,100], hue=['match','match'], palette=['r'])"
   ]
  },
  {
   "cell_type": "code",
   "execution_count": 15,
   "metadata": {},
   "outputs": [],
   "source": [
    "import pickle\n",
    "\n",
    "filename = 'q1_user_model.sav'\n",
    "pickle.dump(regr1, open(filename, 'wb'))\n",
    "\n",
    "filename = 'q1_critic_model.sav'\n",
    "pickle.dump(regr2, open(filename, 'wb'))"
   ]
  },
  {
   "cell_type": "code",
   "execution_count": null,
   "metadata": {},
   "outputs": [],
   "source": []
  }
 ],
 "metadata": {
  "kernelspec": {
   "display_name": "Python 3",
   "language": "python",
   "name": "python3"
  },
  "language_info": {
   "codemirror_mode": {
    "name": "ipython",
    "version": 3
   },
   "file_extension": ".py",
   "mimetype": "text/x-python",
   "name": "python",
   "nbconvert_exporter": "python",
   "pygments_lexer": "ipython3",
   "version": "3.8.3"
  }
 },
 "nbformat": 4,
 "nbformat_minor": 4
}
