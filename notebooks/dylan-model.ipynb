{
 "cells": [
  {
   "cell_type": "code",
   "execution_count": 1,
   "metadata": {},
   "outputs": [
    {
     "name": "stdout",
     "output_type": "stream",
     "text": [
      "<class 'pandas.core.frame.DataFrame'>\n",
      "Int64Index: 7691 entries, 0 to 8830\n",
      "Data columns (total 4 columns):\n",
      " #   Column      Non-Null Count  Dtype  \n",
      "---  ------      --------------  -----  \n",
      " 0   user_score  7691 non-null   float64\n",
      " 1   meta_score  7691 non-null   float64\n",
      " 2   genre       7691 non-null   object \n",
      " 3   rating      7691 non-null   object \n",
      "dtypes: float64(2), object(2)\n",
      "memory usage: 300.4+ KB\n"
     ]
    }
   ],
   "source": [
    "import pandas as pd\n",
    "import numpy as np\n",
    "\n",
    "data = pd.read_csv('../data/games_of_all_time.csv')\n",
    "model_data = data[['user_score', 'meta_score', 'genre', 'rating']]\n",
    "model_data = model_data.dropna()\n",
    "\n",
    "model_data.info()"
   ]
  },
  {
   "cell_type": "code",
   "execution_count": 17,
   "metadata": {},
   "outputs": [
    {
     "data": {
      "text/plain": [
       "<matplotlib.axes._subplots.AxesSubplot at 0x1fb999e7f10>"
      ]
     },
     "execution_count": 17,
     "metadata": {},
     "output_type": "execute_result"
    },
    {
     "data": {
      "image/png": "[encoded data removed]",
      "text/plain": [
       "<Figure size 432x288 with 1 Axes>"
      ]
     },
     "metadata": {
      "needs_background": "light"
     },
     "output_type": "display_data"
    }
   ],
   "source": [
    "import seaborn as sns\n",
    "\n",
    "sns.distplot(model_data[['user_score']])"
   ]
  },
  {
   "cell_type": "code",
   "execution_count": 18,
   "metadata": {},
   "outputs": [
    {
     "data": {
      "text/plain": [
       "<matplotlib.axes._subplots.AxesSubplot at 0x1fb99da2070>"
      ]
     },
     "execution_count": 18,
     "metadata": {},
     "output_type": "execute_result"
    },
    {
     "data": {
      "image/png": "[encoded data removed]",
      "text/plain": [
       "<Figure size 432x288 with 1 Axes>"
      ]
     },
     "metadata": {
      "needs_background": "light"
     },
     "output_type": "display_data"
    }
   ],
   "source": [
    "import seaborn as sns\n",
    "\n",
    "sns.distplot(model_data[['meta_score']])"
   ]
  },
  {
   "cell_type": "code",
   "execution_count": 2,
   "metadata": {},
   "outputs": [
    {
     "name": "stdout",
     "output_type": "stream",
     "text": [
      "135\n",
      "{   '2D': 627,\n",
      "    '3D': 622,\n",
      "    '4X': 24,\n",
      "    'Action': 2818,\n",
      "    'Action Adventure': 1044,\n",
      "    'Action RPG': 382,\n",
      "    'Adventure': 545,\n",
      "    'Alternative': 89,\n",
      "    'Arcade': 818,\n",
      "    'Artillery': 13,\n",
      "    'Athletics': 20,\n",
      "    'Automobile': 281,\n",
      "    'Baseball': 63,\n",
      "    'Basketball': 78,\n",
      "    \"Beat-'Em-Up\": 218,\n",
      "    'Biking': 14,\n",
      "    'Billiards': 11,\n",
      "    'Board / Card Game': 36,\n",
      "    'Board Games': 26,\n",
      "    'Boxing': 21,\n",
      "    'Boxing / Martial Arts': 15,\n",
      "    'Breeding/Constructing': 28,\n",
      "    'Business / Tycoon': 63,\n",
      "    'Car Combat': 23,\n",
      "    'Card Battle': 31,\n",
      "    'Career': 29,\n",
      "    'City Building': 17,\n",
      "    'Civilian': 29,\n",
      "    'Combat': 159,\n",
      "    'Command': 39,\n",
      "    'Compilation': 195,\n",
      "    'Console-style RPG': 165,\n",
      "    'Dancing': 41,\n",
      "    'Defense': 24,\n",
      "    'Driving': 445,\n",
      "    'Edutainment': 17,\n",
      "    'Exercise / Fitness': 11,\n",
      "    'Fantasy': 481,\n",
      "    'Fighting': 277,\n",
      "    'First-Person': 651,\n",
      "    'Fishing': 12,\n",
      "    'Flight': 85,\n",
      "    'Football': 77,\n",
      "    'Formula One': 21,\n",
      "    'Futuristic': 47,\n",
      "    'GT / Street': 85,\n",
      "    'Gambling': 14,\n",
      "    'General': 1993,\n",
      "    'Golf': 58,\n",
      "    'Government': 41,\n",
      "    'Historic': 238,\n",
      "    'Horizontal': 42,\n",
      "    'Horror': 128,\n",
      "    'Ice Hockey': 42,\n",
      "    'Individual': 179,\n",
      "    'Japanese-Style': 176,\n",
      "    'Kart': 29,\n",
      "    'Large Spaceship': 11,\n",
      "    'Light Gun': 42,\n",
      "    'Linear': 95,\n",
      "    'Logic': 25,\n",
      "    'Management': 125,\n",
      "    'Marine': 11,\n",
      "    'Massively Multiplayer': 82,\n",
      "    'Massively Multiplayer Online': 73,\n",
      "    'Matching': 53,\n",
      "    'Mech': 20,\n",
      "    'Military': 15,\n",
      "    'Miscellaneous': 895,\n",
      "    'Mission-based': 35,\n",
      "    'Modern': 442,\n",
      "    'Modern Jet': 21,\n",
      "    'Motocross': 20,\n",
      "    'Motorcycle': 40,\n",
      "    'Music': 132,\n",
      "    'Nature': 17,\n",
      "    'Olympic Sports': 17,\n",
      "    'Open-World': 206,\n",
      "    'Other': 49,\n",
      "    'PC-style RPG': 37,\n",
      "    'Parlor': 45,\n",
      "    'Party': 50,\n",
      "    'Party / Minigame': 78,\n",
      "    'Pinball': 26,\n",
      "    'Platformer': 635,\n",
      "    'Point-and-Click': 101,\n",
      "    'Puzzle': 323,\n",
      "    'Racing': 492,\n",
      "    'Rail': 28,\n",
      "    'Rally / Offroad': 46,\n",
      "    'Real-Time': 290,\n",
      "    'Rhythm': 172,\n",
      "    'Roguelike': 23,\n",
      "    'Role-Playing': 936,\n",
      "    'Sandbox': 21,\n",
      "    'Sci-Fi': 518,\n",
      "    'Scrolling': 83,\n",
      "    \"Shoot-'Em-Up\": 184,\n",
      "    'Shooter': 1004,\n",
      "    'Sim': 285,\n",
      "    'Simulation': 454,\n",
      "    'Skate / Skateboard': 18,\n",
      "    'Skateboarding': 25,\n",
      "    'Ski / Snowboard': 12,\n",
      "    'Small Spaceship': 25,\n",
      "    'Snowboarding': 21,\n",
      "    'Soccer': 92,\n",
      "    'Space': 31,\n",
      "    'Sports': 675,\n",
      "    'Stacking': 16,\n",
      "    'Static': 30,\n",
      "    'Stock Car': 12,\n",
      "    'Strategy': 728,\n",
      "    'Street': 21,\n",
      "    'Survival': 159,\n",
      "    'Tactical': 144,\n",
      "    'Tactics': 119,\n",
      "    'Team': 209,\n",
      "    'Tennis': 28,\n",
      "    'Third-Person': 382,\n",
      "    'Top-Down': 85,\n",
      "    'Traditional': 386,\n",
      "    'Trainer': 27,\n",
      "    'Trivia / Game Show': 15,\n",
      "    'Turn-Based': 259,\n",
      "    'Tycoon': 44,\n",
      "    'Vehicle': 42,\n",
      "    'Vertical': 72,\n",
      "    'Virtual': 100,\n",
      "    'Virtual Life': 77,\n",
      "    'Visual Novel': 49,\n",
      "    'WWII': 24,\n",
      "    'Wargame': 14,\n",
      "    'Western-Style': 97,\n",
      "    'Wrestling': 43}\n",
      "dict_keys(['Action Adventure', 'Fantasy', 'Action', 'Platformer', '3D', 'Shooter', 'First-Person', 'Sci-Fi', 'Adventure', 'Visual Novel', 'Sports', 'Traditional', 'Football', 'Sim', 'Modern', 'Linear', 'Fighting', 'Driving', 'Racing', 'GT / Street', 'Miscellaneous', 'Compilation', 'Role-Playing', 'PC-style RPG', 'Western-Style', 'General', 'Japanese-Style', 'Open-World', 'Console-style RPG', 'Third-Person', 'Arcade', 'Strategy', 'Turn-Based', 'Historic', '4X', '2D', 'Survival', 'Action RPG', 'Real-Time', 'Command', 'Soccer', 'Kart', 'Basketball', 'Massively Multiplayer Online', 'Massively Multiplayer', 'Ice Hockey', 'Horror', 'Wargame', 'Tactical', 'Simulation', 'Automobile', 'Alternative', 'Skateboarding', 'Tactics', 'Other', \"Beat-'Em-Up\", 'Rhythm', 'Music', 'Formula One', 'Flight', 'WWII', 'Combat', 'Tennis', 'Space', 'Small Spaceship', 'Car Combat', 'Puzzle', 'Point-and-Click', 'Golf', 'Virtual', 'Virtual Life', 'Motorcycle', 'Street', 'Stacking', 'Dancing', 'Rail', 'Wrestling', 'Marine', 'Static', \"Shoot-'Em-Up\", 'Top-Down', 'Modern Jet', 'Civilian', 'Parlor', 'Pinball', 'Sandbox', 'Team', 'Trainer', 'Card Battle', 'Management', 'Rally / Offroad', 'Individual', 'Baseball', 'Skate / Skateboard', 'Futuristic', 'Horizontal', 'Tycoon', 'Business / Tycoon', 'Light Gun', 'Edutainment', 'Breeding/Constructing', 'Government', 'City Building', 'Vehicle', 'Scrolling', 'Stock Car', 'Matching', 'Vertical', 'Defense', 'Military', 'Exercise / Fitness', 'Board / Card Game', 'Logic', 'Board Games', 'Party / Minigame', 'Party', 'Mech', 'Large Spaceship', 'Career', 'Boxing / Martial Arts', 'Billiards', 'Trivia / Game Show', 'Athletics', 'Motocross', 'Nature', 'Fishing', 'Mission-based', 'Boxing', 'Roguelike', 'Snowboarding', 'Ski / Snowboard', 'Biking', 'Artillery', 'Olympic Sports', 'Gambling'])\n"
     ]
    }
   ],
   "source": [
    "import pprint\n",
    "i = 0\n",
    "var_dict = {}\n",
    "\n",
    "for array in model_data[['genre']].iloc:\n",
    "    #print(i)\n",
    "    try: \n",
    "        g_arr = array[0][1:len(array[0])-1].split(',')\n",
    "        for genre in g_arr:\n",
    "            genre = genre.strip()\n",
    "            genre = genre[1:len(genre)-1]\n",
    "            if genre in var_dict:\n",
    "                var_dict[genre] += 1\n",
    "            else:\n",
    "                var_dict[genre] = 1\n",
    "    except:\n",
    "        pass\n",
    "    i += 1\n",
    "\n",
    "pp = pprint.PrettyPrinter(indent=4)\n",
    "delete = []\n",
    "\n",
    "for genre in var_dict:\n",
    "    if var_dict[genre] <= 10:\n",
    "        delete.append(genre)\n",
    "\n",
    "for genre in delete:\n",
    "    del var_dict[genre]\n",
    "\n",
    "genres = var_dict.keys()\n",
    "\n",
    "print(len(var_dict.keys()))\n",
    "pp.pprint(var_dict)\n",
    "print(genres)\n",
    "    "
   ]
  },
  {
   "cell_type": "code",
   "execution_count": 3,
   "metadata": {},
   "outputs": [
    {
     "name": "stdout",
     "output_type": "stream",
     "text": [
      "7\n",
      "{'AO': 1, 'E': 2371, 'E10+': 1128, 'K-A': 6, 'M': 1535, 'RP': 14, 'T': 2636}\n",
      "dict_keys(['E', 'T', 'E10+', 'M', 'K-A', 'RP', 'AO'])\n"
     ]
    }
   ],
   "source": [
    "var_dict2 = {}\n",
    "for rating in model_data[['rating']].iloc:\n",
    "    if rating[0] in var_dict2:\n",
    "        var_dict2[rating[0]] +=1\n",
    "    else:\n",
    "        var_dict2[rating[0]] =1\n",
    "ratings = var_dict2.keys()\n",
    "\n",
    "print(len(var_dict2.keys()))\n",
    "pp.pprint(var_dict2)\n",
    "print(ratings)"
   ]
  },
  {
   "cell_type": "code",
   "execution_count": 4,
   "metadata": {},
   "outputs": [
    {
     "name": "stdout",
     "output_type": "stream",
     "text": [
      "Success!\n"
     ]
    }
   ],
   "source": [
    "def make_genre_arr(index):\n",
    "    g_arr = model_data[['genre']].iloc[index][0][1:len(model_data[['genre']].iloc[index][0])-1].split(',')\n",
    "    for i in range(len(g_arr)):\n",
    "        g_arr[i] = g_arr[i].strip()\n",
    "        g_arr[i] = g_arr[i][1:len(g_arr[i])-1]\n",
    "    return g_arr\n",
    "genre_dict = {}\n",
    "for genre in genres:\n",
    "    genre_dict[genre] = [0]*model_data.shape[0]\n",
    "for i in range(model_data.shape[0]):\n",
    "    gs = make_genre_arr(i)\n",
    "    for genre in gs:\n",
    "        if genre in genre_dict:\n",
    "            genre_dict[genre][i] = 1\n",
    "print('Success!')\n",
    "        "
   ]
  },
  {
   "cell_type": "code",
   "execution_count": 5,
   "metadata": {},
   "outputs": [
    {
     "name": "stdout",
     "output_type": "stream",
     "text": [
      "Success!\n"
     ]
    }
   ],
   "source": [
    "rating_dict = {}\n",
    "for rating in ratings:\n",
    "    rating_dict[rating] = [0]*model_data.shape[0]\n",
    "for i in range(model_data.shape[0]):\n",
    "    r = model_data[['rating']].iloc[i][0]\n",
    "    rating_dict[r] = 1\n",
    "print('Success!')"
   ]
  },
  {
   "cell_type": "code",
   "execution_count": 6,
   "metadata": {},
   "outputs": [
    {
     "name": "stdout",
     "output_type": "stream",
     "text": [
      "<class 'pandas.core.frame.DataFrame'>\n",
      "Int64Index: 7691 entries, 0 to 8830\n",
      "Columns: 142 entries, Action Adventure to AO\n",
      "dtypes: int64(142)\n",
      "memory usage: 8.4 MB\n",
      "None\n"
     ]
    }
   ],
   "source": [
    "from sklearn.model_selection import train_test_split\n",
    "\n",
    "for genre in genre_dict:\n",
    "    model_data[genre] = genre_dict[genre]\n",
    "\n",
    "for rating in rating_dict:\n",
    "    model_data[rating] = rating_dict[rating]\n",
    "\n",
    "y_user = model_data[['user_score']]\n",
    "y_critic = model_data[['meta_score']]\n",
    "x = model_data.drop(columns = ['user_score', 'meta_score', 'genre', 'rating'])\n",
    "\n",
    "print(x.info())\n",
    "\n",
    "ux_train, ux_test, uy_train, uy_test = train_test_split(x, y_user, test_size=0.2, random_state=42)\n",
    "cx_train, cx_test, cy_train, cy_test = train_test_split(x, y_critic, test_size=0.2, random_state=42)"
   ]
  },
  {
   "cell_type": "code",
   "execution_count": 7,
   "metadata": {},
   "outputs": [
    {
     "data": {
      "text/plain": [
       "RandomForestRegressor(n_estimators=1000, random_state=0)"
      ]
     },
     "execution_count": 7,
     "metadata": {},
     "output_type": "execute_result"
    }
   ],
   "source": [
    "from sklearn.ensemble import RandomForestRegressor\n",
    "\n",
    "regr1 = RandomForestRegressor(n_estimators=1000, random_state=0)\n",
    "regr2 = RandomForestRegressor(n_estimators=1000, random_state=0)\n",
    "\n",
    "regr1.fit(ux_train, np.ravel(uy_train))\n",
    "regr2.fit(cx_train, np.ravel(cy_train))"
   ]
  },
  {
   "cell_type": "code",
   "execution_count": 8,
   "metadata": {},
   "outputs": [
    {
     "data": {
      "text/plain": [
       "0.030780999281232013"
      ]
     },
     "execution_count": 8,
     "metadata": {},
     "output_type": "execute_result"
    }
   ],
   "source": [
    "regr1.score(ux_test, np.ravel(uy_test))"
   ]
  },
  {
   "cell_type": "code",
   "execution_count": 9,
   "metadata": {},
   "outputs": [
    {
     "data": {
      "text/plain": [
       "0.014655980065328644"
      ]
     },
     "execution_count": 9,
     "metadata": {},
     "output_type": "execute_result"
    }
   ],
   "source": [
    "regr2.score(cx_test, np.ravel(cy_test))"
   ]
  },
  {
   "cell_type": "code",
   "execution_count": 10,
   "metadata": {},
   "outputs": [
    {
     "name": "stdout",
     "output_type": "stream",
     "text": [
      "[67.42036601 65.96969641 66.68710129 ... 68.84535712 72.24248733\n",
      " 68.67887868]\n"
     ]
    },
    {
     "data": {
      "text/plain": [
       "<matplotlib.axes._subplots.AxesSubplot at 0x1fb9986d8b0>"
      ]
     },
     "execution_count": 10,
     "metadata": {},
     "output_type": "execute_result"
    },
    {
     "data": {
      "image/png": "[encoded data removed]",
      "text/plain": [
       "<Figure size 432x288 with 1 Axes>"
      ]
     },
     "metadata": {
      "needs_background": "light"
     },
     "output_type": "display_data"
    }
   ],
   "source": [
    "import seaborn as sns\n",
    "pred = regr1.predict(ux_test)\n",
    "print(pred)\n",
    "sns.scatterplot(x=np.ravel(uy_test), y=pred)\n",
    "sns.lineplot([0,100], [0,100], hue=['match','match'], palette=['r'])"
   ]
  },
  {
   "cell_type": "code",
   "execution_count": 11,
   "metadata": {},
   "outputs": [
    {
     "name": "stdout",
     "output_type": "stream",
     "text": [
      "[67.07509536 72.80583233 68.07994144 ... 68.13245786 73.72229405\n",
      " 66.63257678]\n"
     ]
    },
    {
     "data": {
      "text/plain": [
       "<matplotlib.axes._subplots.AxesSubplot at 0x1fb99999790>"
      ]
     },
     "execution_count": 11,
     "metadata": {},
     "output_type": "execute_result"
    },
    {
     "data": {
      "image/png": "[encoded data removed]",
      "text/plain": [
       "<Figure size 432x288 with 1 Axes>"
      ]
     },
     "metadata": {
      "needs_background": "light"
     },
     "output_type": "display_data"
    }
   ],
   "source": [
    "import seaborn as sns\n",
    "pred = regr2.predict(cx_test)\n",
    "print(pred)\n",
    "sns.scatterplot(x=np.ravel(cy_test), y=pred)\n",
    "sns.lineplot([0,100], [0,100], hue=['match','match'], palette=['r'])"
   ]
  },
  {
   "cell_type": "code",
   "execution_count": null,
   "metadata": {},
   "outputs": [],
   "source": []
  }
 ],
 "metadata": {
  "kernelspec": {
   "display_name": "Python 3",
   "language": "python",
   "name": "python3"
  },
  "language_info": {
   "codemirror_mode": {
    "name": "ipython",
    "version": 3
   },
   "file_extension": ".py",
   "mimetype": "text/x-python",
   "name": "python",
   "nbconvert_exporter": "python",
   "pygments_lexer": "ipython3",
   "version": "3.8.3"
  }
 },
 "nbformat": 4,
 "nbformat_minor": 4
}
