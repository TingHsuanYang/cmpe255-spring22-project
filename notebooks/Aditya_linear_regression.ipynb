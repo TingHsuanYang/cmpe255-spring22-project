{
 "cells": [
  {
   "cell_type": "code",
   "execution_count": 2,
   "id": "3dbe6209",
   "metadata": {},
   "outputs": [
    {
     "name": "stdout",
     "output_type": "stream",
     "text": [
      "<class 'pandas.core.frame.DataFrame'>\n",
      "RangeIndex: 8831 entries, 0 to 8830\n",
      "Data columns (total 10 columns):\n",
      " #   Column       Non-Null Count  Dtype  \n",
      "---  ------       --------------  -----  \n",
      " 0   game_name    8831 non-null   object \n",
      " 1   meta_score   8831 non-null   float64\n",
      " 2   user_score   8831 non-null   float64\n",
      " 3   platform     8831 non-null   object \n",
      " 4   description  8831 non-null   object \n",
      " 5   url          8831 non-null   object \n",
      " 6   developer    8821 non-null   object \n",
      " 7   genre        8827 non-null   object \n",
      " 8   type         6727 non-null   object \n",
      " 9   rating       7691 non-null   object \n",
      "dtypes: float64(2), object(8)\n",
      "memory usage: 690.0+ KB\n",
      "<class 'pandas.core.frame.DataFrame'>\n",
      "RangeIndex: 28052 entries, 0 to 28051\n",
      "Data columns (total 6 columns):\n",
      " #   Column      Non-Null Count  Dtype  \n",
      "---  ------      --------------  -----  \n",
      " 0   meta_score  28052 non-null  float64\n",
      " 1   user_score  28052 non-null  float64\n",
      " 2   platform    28052 non-null  object \n",
      " 3   genre       28052 non-null  object \n",
      " 4   type        28052 non-null  object \n",
      " 5   rating      28052 non-null  object \n",
      "dtypes: float64(2), object(4)\n",
      "memory usage: 1.3+ MB\n"
     ]
    },
    {
     "data": {
      "text/html": [
       "<div>\n",
       "<style scoped>\n",
       "    .dataframe tbody tr th:only-of-type {\n",
       "        vertical-align: middle;\n",
       "    }\n",
       "\n",
       "    .dataframe tbody tr th {\n",
       "        vertical-align: top;\n",
       "    }\n",
       "\n",
       "    .dataframe thead th {\n",
       "        text-align: right;\n",
       "    }\n",
       "</style>\n",
       "<table border=\"1\" class=\"dataframe\">\n",
       "  <thead>\n",
       "    <tr style=\"text-align: right;\">\n",
       "      <th></th>\n",
       "      <th>meta_score</th>\n",
       "      <th>user_score</th>\n",
       "      <th>platform</th>\n",
       "      <th>genre</th>\n",
       "      <th>type</th>\n",
       "      <th>rating</th>\n",
       "    </tr>\n",
       "  </thead>\n",
       "  <tbody>\n",
       "    <tr>\n",
       "      <th>0</th>\n",
       "      <td>99.0</td>\n",
       "      <td>91.0</td>\n",
       "      <td>nintendo-64</td>\n",
       "      <td>Action Adventure</td>\n",
       "      <td>singleplayer</td>\n",
       "      <td>E</td>\n",
       "    </tr>\n",
       "    <tr>\n",
       "      <th>1</th>\n",
       "      <td>99.0</td>\n",
       "      <td>91.0</td>\n",
       "      <td>nintendo-64</td>\n",
       "      <td>Fantasy</td>\n",
       "      <td>singleplayer</td>\n",
       "      <td>E</td>\n",
       "    </tr>\n",
       "    <tr>\n",
       "      <th>2</th>\n",
       "      <td>97.0</td>\n",
       "      <td>91.0</td>\n",
       "      <td>wii</td>\n",
       "      <td>Action</td>\n",
       "      <td>singleplayer</td>\n",
       "      <td>E</td>\n",
       "    </tr>\n",
       "    <tr>\n",
       "      <th>3</th>\n",
       "      <td>97.0</td>\n",
       "      <td>91.0</td>\n",
       "      <td>wii</td>\n",
       "      <td>Platformer</td>\n",
       "      <td>singleplayer</td>\n",
       "      <td>E</td>\n",
       "    </tr>\n",
       "    <tr>\n",
       "      <th>4</th>\n",
       "      <td>97.0</td>\n",
       "      <td>91.0</td>\n",
       "      <td>wii</td>\n",
       "      <td>3D</td>\n",
       "      <td>singleplayer</td>\n",
       "      <td>E</td>\n",
       "    </tr>\n",
       "    <tr>\n",
       "      <th>5</th>\n",
       "      <td>97.0</td>\n",
       "      <td>91.0</td>\n",
       "      <td>wii</td>\n",
       "      <td>Action</td>\n",
       "      <td>singleplayer</td>\n",
       "      <td>E</td>\n",
       "    </tr>\n",
       "    <tr>\n",
       "      <th>6</th>\n",
       "      <td>97.0</td>\n",
       "      <td>91.0</td>\n",
       "      <td>wii</td>\n",
       "      <td>Platformer</td>\n",
       "      <td>singleplayer</td>\n",
       "      <td>E</td>\n",
       "    </tr>\n",
       "    <tr>\n",
       "      <th>7</th>\n",
       "      <td>97.0</td>\n",
       "      <td>91.0</td>\n",
       "      <td>wii</td>\n",
       "      <td>3D</td>\n",
       "      <td>singleplayer</td>\n",
       "      <td>E</td>\n",
       "    </tr>\n",
       "    <tr>\n",
       "      <th>8</th>\n",
       "      <td>97.0</td>\n",
       "      <td>89.0</td>\n",
       "      <td>gamecube</td>\n",
       "      <td>Action</td>\n",
       "      <td>singleplayer</td>\n",
       "      <td>T</td>\n",
       "    </tr>\n",
       "    <tr>\n",
       "      <th>9</th>\n",
       "      <td>97.0</td>\n",
       "      <td>89.0</td>\n",
       "      <td>gamecube</td>\n",
       "      <td>Shooter</td>\n",
       "      <td>singleplayer</td>\n",
       "      <td>T</td>\n",
       "    </tr>\n",
       "  </tbody>\n",
       "</table>\n",
       "</div>"
      ],
      "text/plain": [
       "   meta_score  user_score     platform             genre          type rating\n",
       "0        99.0        91.0  nintendo-64  Action Adventure  singleplayer      E\n",
       "1        99.0        91.0  nintendo-64           Fantasy  singleplayer      E\n",
       "2        97.0        91.0          wii            Action  singleplayer      E\n",
       "3        97.0        91.0          wii        Platformer  singleplayer      E\n",
       "4        97.0        91.0          wii                3D  singleplayer      E\n",
       "5        97.0        91.0          wii            Action  singleplayer      E\n",
       "6        97.0        91.0          wii        Platformer  singleplayer      E\n",
       "7        97.0        91.0          wii                3D  singleplayer      E\n",
       "8        97.0        89.0     gamecube            Action  singleplayer      T\n",
       "9        97.0        89.0     gamecube           Shooter  singleplayer      T"
      ]
     },
     "execution_count": 2,
     "metadata": {},
     "output_type": "execute_result"
    }
   ],
   "source": [
    "import pandas as pd\n",
    "import numpy as np\n",
    "\n",
    "data = pd.read_csv('../data/games_of_all_time.csv')\n",
    "data.info()\n",
    "model_data = data[['meta_score','user_score','platform','genre','type','rating']] \n",
    "model_data = model_data.dropna()\n",
    "#model_data.info()\n",
    "#model_data.head(5)\n",
    "# exploding genre multiple values into indiviidual rows\n",
    "from ast import literal_eval\n",
    "model_data['genre']=model_data['genre'].apply(literal_eval)\n",
    "#print(model_data['genre'].apply(type))\n",
    "#model_data.head(5)\n",
    "#model_data.explode('genre')\n",
    "model_data = model_data.explode('genre', 'true')\n",
    "# exploding platform multiple values into individual rows\n",
    "model_data['platform']=model_data['platform'].apply(literal_eval)\n",
    "#print(model_data['platform'].apply(type))\n",
    "model_data = model_data.explode('platform', 'true')\n",
    "model_data.info()\n",
    "model_data.head(10)"
   ]
  },
  {
   "cell_type": "code",
   "execution_count": 3,
   "id": "2d576828",
   "metadata": {},
   "outputs": [
    {
     "data": {
      "text/plain": [
       "Action              2864\n",
       "General             1885\n",
       "Action Adventure    1333\n",
       "Shooter             1096\n",
       "Role-Playing        1019\n",
       "                    ... \n",
       "Tank                   1\n",
       "Videos                 1\n",
       "Drag                   1\n",
       "Text                   1\n",
       "WWI                    1\n",
       "Name: genre, Length: 166, dtype: int64"
      ]
     },
     "execution_count": 3,
     "metadata": {},
     "output_type": "execute_result"
    }
   ],
   "source": [
    "model_data['genre'].value_counts()"
   ]
  },
  {
   "cell_type": "code",
   "execution_count": 4,
   "id": "a81234ff",
   "metadata": {},
   "outputs": [],
   "source": [
    "#should we remove the genre values which have less data ?\n",
    "sub_model_data = model_data[model_data.groupby('genre').genre.transform('count')>100].copy()"
   ]
  },
  {
   "cell_type": "code",
   "execution_count": 5,
   "id": "17e17fe3",
   "metadata": {},
   "outputs": [
    {
     "name": "stdout",
     "output_type": "stream",
     "text": [
      "<class 'pandas.core.frame.DataFrame'>\n",
      "Int64Index: 25205 entries, 0 to 28051\n",
      "Data columns (total 6 columns):\n",
      " #   Column      Non-Null Count  Dtype  \n",
      "---  ------      --------------  -----  \n",
      " 0   meta_score  25205 non-null  float64\n",
      " 1   user_score  25205 non-null  float64\n",
      " 2   platform    25205 non-null  object \n",
      " 3   genre       25205 non-null  object \n",
      " 4   type        25205 non-null  object \n",
      " 5   rating      25205 non-null  object \n",
      "dtypes: float64(2), object(4)\n",
      "memory usage: 1.3+ MB\n"
     ]
    },
    {
     "data": {
      "text/plain": [
       "Action               2864\n",
       "General              1885\n",
       "Action Adventure     1333\n",
       "Shooter              1096\n",
       "Role-Playing         1019\n",
       "Sports                907\n",
       "Arcade                902\n",
       "Miscellaneous         808\n",
       "First-Person          753\n",
       "3D                    690\n",
       "Strategy              658\n",
       "Platformer            638\n",
       "2D                    618\n",
       "Racing                574\n",
       "Traditional           567\n",
       "Sci-Fi                555\n",
       "Adventure             550\n",
       "Modern                542\n",
       "Fantasy               528\n",
       "Driving               492\n",
       "Sim                   468\n",
       "Third-Person          464\n",
       "Simulation            445\n",
       "Action RPG            426\n",
       "Automobile            335\n",
       "Fighting              319\n",
       "Team                  289\n",
       "Beat-'Em-Up           278\n",
       "Open-World            270\n",
       "Real-Time             262\n",
       "Puzzle                256\n",
       "Historic              252\n",
       "Turn-Based            246\n",
       "Compilation           222\n",
       "Individual            221\n",
       "Japanese-Style        199\n",
       "Survival              181\n",
       "Tactical              177\n",
       "Console-style RPG     167\n",
       "Combat                156\n",
       "Horror                151\n",
       "Rhythm                140\n",
       "Soccer                140\n",
       "Shoot-'Em-Up          131\n",
       "Tactics               125\n",
       "Football              125\n",
       "Alternative           116\n",
       "Basketball            114\n",
       "Linear                114\n",
       "Western-Style         112\n",
       "Music                 110\n",
       "Management            108\n",
       "GT / Street           107\n",
       "Name: genre, dtype: int64"
      ]
     },
     "execution_count": 5,
     "metadata": {},
     "output_type": "execute_result"
    }
   ],
   "source": [
    "sub_model_data.info()\n",
    "sub_model_data['genre'].value_counts()"
   ]
  },
  {
   "cell_type": "code",
   "execution_count": 6,
   "id": "1ff40138",
   "metadata": {},
   "outputs": [
    {
     "data": {
      "text/plain": [
       "53"
      ]
     },
     "execution_count": 6,
     "metadata": {},
     "output_type": "execute_result"
    }
   ],
   "source": [
    "sub_model_data['genre'].nunique()"
   ]
  },
  {
   "cell_type": "code",
   "execution_count": 7,
   "id": "d3d7b423",
   "metadata": {},
   "outputs": [
    {
     "data": {
      "text/plain": [
       "pc                  5453\n",
       "xbox-360            2571\n",
       "playstation-4       2546\n",
       "playstation-2       2247\n",
       "playstation-3       2209\n",
       "switch              1863\n",
       "xbox                1335\n",
       "xbox-one            1325\n",
       "ds                  1094\n",
       "wii                  970\n",
       "psp                  936\n",
       "gamecube             785\n",
       "game-boy-advance     604\n",
       "3ds                  314\n",
       "playstation-vita     274\n",
       "playstation          235\n",
       "wii-u                164\n",
       "playstation-5        111\n",
       "nintendo-64           88\n",
       "xbox-series-x         47\n",
       "dreamcast             29\n",
       "stadia                 5\n",
       "Name: platform, dtype: int64"
      ]
     },
     "execution_count": 7,
     "metadata": {},
     "output_type": "execute_result"
    }
   ],
   "source": [
    "sub_model_data['platform'].value_counts()"
   ]
  },
  {
   "cell_type": "code",
   "execution_count": 8,
   "id": "623b1663",
   "metadata": {},
   "outputs": [],
   "source": [
    "#should we replace multiple similar platform values to a single value e.g ps1,ps2 as ps\n",
    "sub_model_data['platform']=sub_model_data['platform'].replace(['playstation-4','playstation-3','playstation-2',\n",
    "                                                               'playstation-vita','playstation-5'],'playstation')\n",
    "sub_model_data['platform']=sub_model_data['platform'].replace(['xbox-360','xbox-one','xbox-series-x'],'xbox')\n",
    "sub_model_data['platform']=sub_model_data['platform'].replace(['wii-u'],'wii')"
   ]
  },
  {
   "cell_type": "code",
   "execution_count": 9,
   "id": "9789aa13",
   "metadata": {},
   "outputs": [
    {
     "data": {
      "text/plain": [
       "playstation         7622\n",
       "pc                  5453\n",
       "xbox                5278\n",
       "switch              1863\n",
       "wii                 1134\n",
       "ds                  1094\n",
       "psp                  936\n",
       "gamecube             785\n",
       "game-boy-advance     604\n",
       "3ds                  314\n",
       "nintendo-64           88\n",
       "dreamcast             29\n",
       "stadia                 5\n",
       "Name: platform, dtype: int64"
      ]
     },
     "execution_count": 9,
     "metadata": {},
     "output_type": "execute_result"
    }
   ],
   "source": [
    "sub_model_data['platform'].value_counts()"
   ]
  },
  {
   "cell_type": "code",
   "execution_count": 10,
   "id": "2af8d5d0",
   "metadata": {},
   "outputs": [],
   "source": [
    "#hot encoding\n",
    "encoded_sub_model_data= pd.get_dummies(sub_model_data, columns=['platform','genre','type','rating'],prefix=['platform','genre','type','rating'])"
   ]
  },
  {
   "cell_type": "code",
   "execution_count": 11,
   "id": "16cc16d0",
   "metadata": {},
   "outputs": [
    {
     "name": "stdout",
     "output_type": "stream",
     "text": [
      "<class 'pandas.core.frame.DataFrame'>\n",
      "Int64Index: 25205 entries, 0 to 28051\n",
      "Data columns (total 77 columns):\n",
      " #   Column                     Non-Null Count  Dtype  \n",
      "---  ------                     --------------  -----  \n",
      " 0   meta_score                 25205 non-null  float64\n",
      " 1   user_score                 25205 non-null  float64\n",
      " 2   platform_3ds               25205 non-null  uint8  \n",
      " 3   platform_dreamcast         25205 non-null  uint8  \n",
      " 4   platform_ds                25205 non-null  uint8  \n",
      " 5   platform_game-boy-advance  25205 non-null  uint8  \n",
      " 6   platform_gamecube          25205 non-null  uint8  \n",
      " 7   platform_nintendo-64       25205 non-null  uint8  \n",
      " 8   platform_pc                25205 non-null  uint8  \n",
      " 9   platform_playstation       25205 non-null  uint8  \n",
      " 10  platform_psp               25205 non-null  uint8  \n",
      " 11  platform_stadia            25205 non-null  uint8  \n",
      " 12  platform_switch            25205 non-null  uint8  \n",
      " 13  platform_wii               25205 non-null  uint8  \n",
      " 14  platform_xbox              25205 non-null  uint8  \n",
      " 15  genre_2D                   25205 non-null  uint8  \n",
      " 16  genre_3D                   25205 non-null  uint8  \n",
      " 17  genre_Action               25205 non-null  uint8  \n",
      " 18  genre_Action Adventure     25205 non-null  uint8  \n",
      " 19  genre_Action RPG           25205 non-null  uint8  \n",
      " 20  genre_Adventure            25205 non-null  uint8  \n",
      " 21  genre_Alternative          25205 non-null  uint8  \n",
      " 22  genre_Arcade               25205 non-null  uint8  \n",
      " 23  genre_Automobile           25205 non-null  uint8  \n",
      " 24  genre_Basketball           25205 non-null  uint8  \n",
      " 25  genre_Beat-'Em-Up          25205 non-null  uint8  \n",
      " 26  genre_Combat               25205 non-null  uint8  \n",
      " 27  genre_Compilation          25205 non-null  uint8  \n",
      " 28  genre_Console-style RPG    25205 non-null  uint8  \n",
      " 29  genre_Driving              25205 non-null  uint8  \n",
      " 30  genre_Fantasy              25205 non-null  uint8  \n",
      " 31  genre_Fighting             25205 non-null  uint8  \n",
      " 32  genre_First-Person         25205 non-null  uint8  \n",
      " 33  genre_Football             25205 non-null  uint8  \n",
      " 34  genre_GT / Street          25205 non-null  uint8  \n",
      " 35  genre_General              25205 non-null  uint8  \n",
      " 36  genre_Historic             25205 non-null  uint8  \n",
      " 37  genre_Horror               25205 non-null  uint8  \n",
      " 38  genre_Individual           25205 non-null  uint8  \n",
      " 39  genre_Japanese-Style       25205 non-null  uint8  \n",
      " 40  genre_Linear               25205 non-null  uint8  \n",
      " 41  genre_Management           25205 non-null  uint8  \n",
      " 42  genre_Miscellaneous        25205 non-null  uint8  \n",
      " 43  genre_Modern               25205 non-null  uint8  \n",
      " 44  genre_Music                25205 non-null  uint8  \n",
      " 45  genre_Open-World           25205 non-null  uint8  \n",
      " 46  genre_Platformer           25205 non-null  uint8  \n",
      " 47  genre_Puzzle               25205 non-null  uint8  \n",
      " 48  genre_Racing               25205 non-null  uint8  \n",
      " 49  genre_Real-Time            25205 non-null  uint8  \n",
      " 50  genre_Rhythm               25205 non-null  uint8  \n",
      " 51  genre_Role-Playing         25205 non-null  uint8  \n",
      " 52  genre_Sci-Fi               25205 non-null  uint8  \n",
      " 53  genre_Shoot-'Em-Up         25205 non-null  uint8  \n",
      " 54  genre_Shooter              25205 non-null  uint8  \n",
      " 55  genre_Sim                  25205 non-null  uint8  \n",
      " 56  genre_Simulation           25205 non-null  uint8  \n",
      " 57  genre_Soccer               25205 non-null  uint8  \n",
      " 58  genre_Sports               25205 non-null  uint8  \n",
      " 59  genre_Strategy             25205 non-null  uint8  \n",
      " 60  genre_Survival             25205 non-null  uint8  \n",
      " 61  genre_Tactical             25205 non-null  uint8  \n",
      " 62  genre_Tactics              25205 non-null  uint8  \n",
      " 63  genre_Team                 25205 non-null  uint8  \n",
      " 64  genre_Third-Person         25205 non-null  uint8  \n",
      " 65  genre_Traditional          25205 non-null  uint8  \n",
      " 66  genre_Turn-Based           25205 non-null  uint8  \n",
      " 67  genre_Western-Style        25205 non-null  uint8  \n",
      " 68  type_multiplayer           25205 non-null  uint8  \n",
      " 69  type_singleplayer          25205 non-null  uint8  \n",
      " 70  rating_AO                  25205 non-null  uint8  \n",
      " 71  rating_E                   25205 non-null  uint8  \n",
      " 72  rating_E10+                25205 non-null  uint8  \n",
      " 73  rating_K-A                 25205 non-null  uint8  \n",
      " 74  rating_M                   25205 non-null  uint8  \n",
      " 75  rating_RP                  25205 non-null  uint8  \n",
      " 76  rating_T                   25205 non-null  uint8  \n",
      "dtypes: float64(2), uint8(75)\n",
      "memory usage: 2.4 MB\n"
     ]
    }
   ],
   "source": [
    "encoded_sub_model_data.info()"
   ]
  },
  {
   "cell_type": "code",
   "execution_count": 12,
   "id": "a53598a8",
   "metadata": {},
   "outputs": [],
   "source": [
    "from sklearn.model_selection import train_test_split\n",
    "X = encoded_sub_model_data.drop(columns=['user_score','meta_score']).values\n",
    "y = encoded_sub_model_data[['user_score']].values"
   ]
  },
  {
   "cell_type": "code",
   "execution_count": 13,
   "id": "b6410d89",
   "metadata": {},
   "outputs": [],
   "source": [
    "X_train, X_test, y_train, y_test = train_test_split(X, y, test_size=0.30, random_state=42)"
   ]
  },
  {
   "cell_type": "code",
   "execution_count": 14,
   "id": "3f638618",
   "metadata": {},
   "outputs": [
    {
     "name": "stderr",
     "output_type": "stream",
     "text": [
      "C:\\spring22\\anaconda3\\envs\\255_project\\lib\\site-packages\\tensorflow\\python\\framework\\dtypes.py:516: FutureWarning: Passing (type, 1) or '1type' as a synonym of type is deprecated; in a future version of numpy, it will be understood as (type, (1,)) / '(1,)type'.\n",
      "  _np_qint8 = np.dtype([(\"qint8\", np.int8, 1)])\n",
      "C:\\spring22\\anaconda3\\envs\\255_project\\lib\\site-packages\\tensorflow\\python\\framework\\dtypes.py:517: FutureWarning: Passing (type, 1) or '1type' as a synonym of type is deprecated; in a future version of numpy, it will be understood as (type, (1,)) / '(1,)type'.\n",
      "  _np_quint8 = np.dtype([(\"quint8\", np.uint8, 1)])\n",
      "C:\\spring22\\anaconda3\\envs\\255_project\\lib\\site-packages\\tensorflow\\python\\framework\\dtypes.py:518: FutureWarning: Passing (type, 1) or '1type' as a synonym of type is deprecated; in a future version of numpy, it will be understood as (type, (1,)) / '(1,)type'.\n",
      "  _np_qint16 = np.dtype([(\"qint16\", np.int16, 1)])\n",
      "C:\\spring22\\anaconda3\\envs\\255_project\\lib\\site-packages\\tensorflow\\python\\framework\\dtypes.py:519: FutureWarning: Passing (type, 1) or '1type' as a synonym of type is deprecated; in a future version of numpy, it will be understood as (type, (1,)) / '(1,)type'.\n",
      "  _np_quint16 = np.dtype([(\"quint16\", np.uint16, 1)])\n",
      "C:\\spring22\\anaconda3\\envs\\255_project\\lib\\site-packages\\tensorflow\\python\\framework\\dtypes.py:520: FutureWarning: Passing (type, 1) or '1type' as a synonym of type is deprecated; in a future version of numpy, it will be understood as (type, (1,)) / '(1,)type'.\n",
      "  _np_qint32 = np.dtype([(\"qint32\", np.int32, 1)])\n",
      "C:\\spring22\\anaconda3\\envs\\255_project\\lib\\site-packages\\tensorflow\\python\\framework\\dtypes.py:525: FutureWarning: Passing (type, 1) or '1type' as a synonym of type is deprecated; in a future version of numpy, it will be understood as (type, (1,)) / '(1,)type'.\n",
      "  np_resource = np.dtype([(\"resource\", np.ubyte, 1)])\n",
      "C:\\spring22\\anaconda3\\envs\\255_project\\lib\\site-packages\\tensorboard\\compat\\tensorflow_stub\\dtypes.py:541: FutureWarning: Passing (type, 1) or '1type' as a synonym of type is deprecated; in a future version of numpy, it will be understood as (type, (1,)) / '(1,)type'.\n",
      "  _np_qint8 = np.dtype([(\"qint8\", np.int8, 1)])\n",
      "C:\\spring22\\anaconda3\\envs\\255_project\\lib\\site-packages\\tensorboard\\compat\\tensorflow_stub\\dtypes.py:542: FutureWarning: Passing (type, 1) or '1type' as a synonym of type is deprecated; in a future version of numpy, it will be understood as (type, (1,)) / '(1,)type'.\n",
      "  _np_quint8 = np.dtype([(\"quint8\", np.uint8, 1)])\n",
      "C:\\spring22\\anaconda3\\envs\\255_project\\lib\\site-packages\\tensorboard\\compat\\tensorflow_stub\\dtypes.py:543: FutureWarning: Passing (type, 1) or '1type' as a synonym of type is deprecated; in a future version of numpy, it will be understood as (type, (1,)) / '(1,)type'.\n",
      "  _np_qint16 = np.dtype([(\"qint16\", np.int16, 1)])\n",
      "C:\\spring22\\anaconda3\\envs\\255_project\\lib\\site-packages\\tensorboard\\compat\\tensorflow_stub\\dtypes.py:544: FutureWarning: Passing (type, 1) or '1type' as a synonym of type is deprecated; in a future version of numpy, it will be understood as (type, (1,)) / '(1,)type'.\n",
      "  _np_quint16 = np.dtype([(\"quint16\", np.uint16, 1)])\n",
      "C:\\spring22\\anaconda3\\envs\\255_project\\lib\\site-packages\\tensorboard\\compat\\tensorflow_stub\\dtypes.py:545: FutureWarning: Passing (type, 1) or '1type' as a synonym of type is deprecated; in a future version of numpy, it will be understood as (type, (1,)) / '(1,)type'.\n",
      "  _np_qint32 = np.dtype([(\"qint32\", np.int32, 1)])\n",
      "C:\\spring22\\anaconda3\\envs\\255_project\\lib\\site-packages\\tensorboard\\compat\\tensorflow_stub\\dtypes.py:550: FutureWarning: Passing (type, 1) or '1type' as a synonym of type is deprecated; in a future version of numpy, it will be understood as (type, (1,)) / '(1,)type'.\n",
      "  np_resource = np.dtype([(\"resource\", np.ubyte, 1)])\n"
     ]
    },
    {
     "name": "stdout",
     "output_type": "stream",
     "text": [
      "WARNING:tensorflow:From C:\\spring22\\anaconda3\\envs\\255_project\\lib\\site-packages\\tensorflow\\python\\ops\\init_ops.py:1251: calling VarianceScaling.__init__ (from tensorflow.python.ops.init_ops) with dtype is deprecated and will be removed in a future version.\n",
      "Instructions for updating:\n",
      "Call initializer instance with the dtype argument instead of passing it to the constructor\n"
     ]
    }
   ],
   "source": [
    "#Tensor flow linear regression model\n",
    "import tensorflow as tf\n",
    "from tensorflow.keras.models import Sequential\n",
    "from tensorflow.keras.layers import Dense, Activation,Dropout\n",
    "from tensorflow.keras.constraints import max_norm\n",
    "model = Sequential()\n",
    "model.add(Dense(1,activation='relu'))\n",
    "\n",
    "\n",
    "\n",
    "model.compile(optimizer='sgd',loss='mse')"
   ]
  },
  {
   "cell_type": "code",
   "execution_count": 15,
   "id": "bdc50a11",
   "metadata": {},
   "outputs": [
    {
     "name": "stdout",
     "output_type": "stream",
     "text": [
      "Train on 17643 samples, validate on 7562 samples\n",
      "Epoch 1/300\n",
      "17643/17643 [==============================] - 0s 18us/sample - loss: 1101.7728 - val_loss: 178.9472\n",
      "Epoch 2/300\n",
      "17643/17643 [==============================] - 0s 9us/sample - loss: 167.7311 - val_loss: 159.0142\n",
      "Epoch 3/300\n",
      "17643/17643 [==============================] - 0s 9us/sample - loss: 164.3292 - val_loss: 158.8633\n",
      "Epoch 4/300\n",
      "17643/17643 [==============================] - 0s 9us/sample - loss: 164.3135 - val_loss: 158.8551\n",
      "Epoch 5/300\n",
      "17643/17643 [==============================] - 0s 11us/sample - loss: 164.3181 - val_loss: 158.8114\n",
      "Epoch 6/300\n",
      "17643/17643 [==============================] - 0s 10us/sample - loss: 164.3048 - val_loss: 158.8135\n",
      "Epoch 7/300\n",
      "17643/17643 [==============================] - 0s 10us/sample - loss: 164.3147 - val_loss: 158.8016\n",
      "Epoch 8/300\n",
      "17643/17643 [==============================] - 0s 10us/sample - loss: 164.3161 - val_loss: 158.7919\n",
      "Epoch 9/300\n",
      "17643/17643 [==============================] - 0s 11us/sample - loss: 164.3070 - val_loss: 158.7659\n",
      "Epoch 10/300\n",
      "17643/17643 [==============================] - 0s 9us/sample - loss: 164.3060 - val_loss: 158.7229\n",
      "Epoch 11/300\n",
      "17643/17643 [==============================] - 0s 11us/sample - loss: 164.3095 - val_loss: 158.7093\n",
      "Epoch 12/300\n",
      "17643/17643 [==============================] - 0s 10us/sample - loss: 164.3076 - val_loss: 158.7293\n",
      "Epoch 13/300\n",
      "17643/17643 [==============================] - 0s 10us/sample - loss: 164.3137 - val_loss: 158.6992\n",
      "Epoch 14/300\n",
      "17643/17643 [==============================] - 0s 11us/sample - loss: 164.3121 - val_loss: 158.7032\n",
      "Epoch 15/300\n",
      "17643/17643 [==============================] - 0s 9us/sample - loss: 164.3112 - val_loss: 158.6911\n",
      "Epoch 16/300\n",
      "17643/17643 [==============================] - 0s 9us/sample - loss: 164.3063 - val_loss: 158.6456\n",
      "Epoch 17/300\n",
      "17643/17643 [==============================] - 0s 10us/sample - loss: 164.3097 - val_loss: 158.6837\n",
      "Epoch 18/300\n",
      "17643/17643 [==============================] - 0s 10us/sample - loss: 164.3135 - val_loss: 158.6320\n",
      "Epoch 19/300\n",
      "17643/17643 [==============================] - 0s 11us/sample - loss: 164.3048 - val_loss: 158.6968\n",
      "Epoch 20/300\n",
      "17643/17643 [==============================] - 0s 9us/sample - loss: 164.3136 - val_loss: 158.6357\n",
      "Epoch 21/300\n",
      "17643/17643 [==============================] - 0s 9us/sample - loss: 164.3152 - val_loss: 158.5956\n",
      "Epoch 22/300\n",
      "17643/17643 [==============================] - 0s 9us/sample - loss: 164.3075 - val_loss: 158.5715\n",
      "Epoch 23/300\n",
      "17643/17643 [==============================] - 0s 10us/sample - loss: 164.3042 - val_loss: 158.5832\n",
      "Epoch 24/300\n",
      "17643/17643 [==============================] - 0s 9us/sample - loss: 164.3123 - val_loss: 158.5811\n",
      "Epoch 25/300\n",
      "17643/17643 [==============================] - 0s 9us/sample - loss: 164.3057 - val_loss: 158.5354\n",
      "Epoch 26/300\n",
      "17643/17643 [==============================] - 0s 10us/sample - loss: 164.3065 - val_loss: 158.5248\n",
      "Epoch 27/300\n",
      "17643/17643 [==============================] - 0s 10us/sample - loss: 164.3048 - val_loss: 158.5463\n",
      "Epoch 28/300\n",
      "17643/17643 [==============================] - 0s 9us/sample - loss: 164.3069 - val_loss: 158.5047\n",
      "Epoch 29/300\n",
      "17643/17643 [==============================] - 0s 10us/sample - loss: 164.3086 - val_loss: 158.5200\n",
      "Epoch 30/300\n",
      "17643/17643 [==============================] - 0s 12us/sample - loss: 164.3120 - val_loss: 158.5070\n",
      "Epoch 31/300\n",
      "17643/17643 [==============================] - 0s 11us/sample - loss: 164.3156 - val_loss: 158.4783\n",
      "Epoch 32/300\n",
      "17643/17643 [==============================] - 0s 9us/sample - loss: 164.3082 - val_loss: 158.4476\n",
      "Epoch 33/300\n",
      "17643/17643 [==============================] - 0s 11us/sample - loss: 164.3075 - val_loss: 158.4612\n",
      "Epoch 34/300\n",
      "17643/17643 [==============================] - 0s 9us/sample - loss: 164.3029 - val_loss: 158.4201\n",
      "Epoch 35/300\n",
      "17643/17643 [==============================] - 0s 10us/sample - loss: 164.3023 - val_loss: 158.3979\n",
      "Epoch 36/300\n",
      "17643/17643 [==============================] - 0s 10us/sample - loss: 164.3137 - val_loss: 158.4042\n",
      "Epoch 37/300\n",
      "17643/17643 [==============================] - 0s 10us/sample - loss: 164.3112 - val_loss: 158.3893\n",
      "Epoch 38/300\n",
      "17643/17643 [==============================] - 0s 9us/sample - loss: 164.3074 - val_loss: 158.3803\n",
      "Epoch 39/300\n",
      "17643/17643 [==============================] - 0s 9us/sample - loss: 164.3096 - val_loss: 158.4029\n",
      "Epoch 40/300\n",
      "17643/17643 [==============================] - 0s 9us/sample - loss: 164.2963 - val_loss: 158.4305\n",
      "Epoch 41/300\n",
      "17643/17643 [==============================] - 0s 9us/sample - loss: 164.3111 - val_loss: 158.3861\n",
      "Epoch 42/300\n",
      "17643/17643 [==============================] - 0s 9us/sample - loss: 164.2958 - val_loss: 158.3200\n",
      "Epoch 43/300\n",
      "17643/17643 [==============================] - 0s 10us/sample - loss: 164.3069 - val_loss: 158.3666\n",
      "Epoch 44/300\n",
      "17643/17643 [==============================] - 0s 10us/sample - loss: 164.3099 - val_loss: 158.3101\n",
      "Epoch 45/300\n",
      "17643/17643 [==============================] - 0s 10us/sample - loss: 164.3159 - val_loss: 158.3308\n",
      "Epoch 46/300\n",
      "17643/17643 [==============================] - 0s 9us/sample - loss: 164.3085 - val_loss: 158.3011\n",
      "Epoch 47/300\n",
      "17643/17643 [==============================] - 0s 10us/sample - loss: 164.3059 - val_loss: 158.2773\n",
      "Epoch 48/300\n",
      "17643/17643 [==============================] - 0s 10us/sample - loss: 164.3137 - val_loss: 158.2594\n",
      "Epoch 49/300\n",
      "17643/17643 [==============================] - 0s 10us/sample - loss: 164.3059 - val_loss: 158.2568\n",
      "Epoch 50/300\n",
      "17643/17643 [==============================] - 0s 9us/sample - loss: 164.3129 - val_loss: 158.2576\n",
      "Epoch 51/300\n",
      "17643/17643 [==============================] - 0s 10us/sample - loss: 164.3066 - val_loss: 158.2838\n",
      "Epoch 52/300\n",
      "17643/17643 [==============================] - 0s 10us/sample - loss: 164.3105 - val_loss: 158.2455\n",
      "Epoch 53/300\n",
      "17643/17643 [==============================] - 0s 10us/sample - loss: 164.2986 - val_loss: 158.3368\n",
      "Epoch 54/300\n",
      "17643/17643 [==============================] - 0s 12us/sample - loss: 164.3135 - val_loss: 158.2486\n",
      "Epoch 55/300\n",
      "17643/17643 [==============================] - 0s 9us/sample - loss: 164.3099 - val_loss: 158.2021\n",
      "Epoch 56/300\n",
      "17643/17643 [==============================] - 0s 11us/sample - loss: 164.3072 - val_loss: 158.1750\n",
      "Epoch 57/300\n",
      "17643/17643 [==============================] - 0s 10us/sample - loss: 164.3022 - val_loss: 158.2182\n",
      "Epoch 58/300\n",
      "17643/17643 [==============================] - 0s 10us/sample - loss: 164.2886 - val_loss: 158.1344\n",
      "Epoch 59/300\n",
      "17643/17643 [==============================] - 0s 9us/sample - loss: 164.3077 - val_loss: 158.2003\n",
      "Epoch 60/300\n",
      "17643/17643 [==============================] - 0s 9us/sample - loss: 164.3037 - val_loss: 158.1386\n",
      "Epoch 61/300\n",
      "17643/17643 [==============================] - 0s 9us/sample - loss: 164.2939 - val_loss: 158.2338\n",
      "Epoch 62/300\n",
      "17643/17643 [==============================] - 0s 9us/sample - loss: 164.3075 - val_loss: 158.1984\n",
      "Epoch 63/300\n",
      "17643/17643 [==============================] - 0s 9us/sample - loss: 164.2829 - val_loss: 158.0831\n",
      "Epoch 64/300\n",
      "17643/17643 [==============================] - 0s 9us/sample - loss: 164.3096 - val_loss: 158.1169\n",
      "Epoch 65/300\n",
      "17643/17643 [==============================] - 0s 9us/sample - loss: 164.3075 - val_loss: 158.1564\n",
      "Epoch 66/300\n",
      "17643/17643 [==============================] - 0s 9us/sample - loss: 164.3119 - val_loss: 158.1218\n",
      "Epoch 67/300\n",
      "17643/17643 [==============================] - 0s 9us/sample - loss: 164.3029 - val_loss: 158.1303\n",
      "Epoch 68/300\n",
      "17643/17643 [==============================] - 0s 9us/sample - loss: 164.3073 - val_loss: 158.0949\n",
      "Epoch 69/300\n",
      "17643/17643 [==============================] - 0s 10us/sample - loss: 164.3106 - val_loss: 158.1141\n",
      "Epoch 70/300\n",
      "17643/17643 [==============================] - 0s 9us/sample - loss: 164.3082 - val_loss: 158.0406\n",
      "Epoch 71/300\n",
      "17643/17643 [==============================] - 0s 9us/sample - loss: 164.3019 - val_loss: 158.1128\n",
      "Epoch 72/300\n",
      "17643/17643 [==============================] - 0s 9us/sample - loss: 164.3117 - val_loss: 158.0565\n",
      "Epoch 73/300\n"
     ]
    },
    {
     "name": "stdout",
     "output_type": "stream",
     "text": [
      "17643/17643 [==============================] - 0s 9us/sample - loss: 164.2932 - val_loss: 157.9865\n",
      "Epoch 74/300\n",
      "17643/17643 [==============================] - 0s 10us/sample - loss: 164.3049 - val_loss: 157.9701\n",
      "Epoch 75/300\n",
      "17643/17643 [==============================] - 0s 10us/sample - loss: 164.3105 - val_loss: 158.0371\n",
      "Epoch 76/300\n",
      "17643/17643 [==============================] - 0s 9us/sample - loss: 164.3083 - val_loss: 158.0091\n",
      "Epoch 77/300\n",
      "17643/17643 [==============================] - 0s 12us/sample - loss: 164.3069 - val_loss: 158.0232\n",
      "Epoch 78/300\n",
      "17643/17643 [==============================] - 0s 9us/sample - loss: 164.3031 - val_loss: 157.9829\n",
      "Epoch 79/300\n",
      "17643/17643 [==============================] - 0s 10us/sample - loss: 164.3117 - val_loss: 158.0065\n",
      "Epoch 80/300\n",
      "17643/17643 [==============================] - 0s 10us/sample - loss: 164.3073 - val_loss: 157.9754\n",
      "Epoch 81/300\n",
      "17643/17643 [==============================] - 0s 12us/sample - loss: 164.3101 - val_loss: 157.9754\n",
      "Epoch 82/300\n",
      "17643/17643 [==============================] - 0s 9us/sample - loss: 164.2978 - val_loss: 157.8969\n",
      "Epoch 83/300\n",
      "17643/17643 [==============================] - 0s 10us/sample - loss: 164.3158 - val_loss: 157.9072\n",
      "Epoch 84/300\n",
      "17643/17643 [==============================] - 0s 9us/sample - loss: 164.2960 - val_loss: 157.9899\n",
      "Epoch 85/300\n",
      "17643/17643 [==============================] - 0s 9us/sample - loss: 164.3073 - val_loss: 157.9766\n",
      "Epoch 86/300\n",
      "17643/17643 [==============================] - 0s 10us/sample - loss: 164.3021 - val_loss: 157.8859\n",
      "Epoch 87/300\n",
      "17643/17643 [==============================] - 0s 9us/sample - loss: 164.3067 - val_loss: 157.8907\n",
      "Epoch 88/300\n",
      "17643/17643 [==============================] - 0s 9us/sample - loss: 164.2994 - val_loss: 157.8580\n",
      "Epoch 89/300\n",
      "17643/17643 [==============================] - 0s 10us/sample - loss: 164.2993 - val_loss: 157.8362\n",
      "Epoch 90/300\n",
      "17643/17643 [==============================] - 0s 9us/sample - loss: 164.3013 - val_loss: 157.9281\n",
      "Epoch 91/300\n",
      "17643/17643 [==============================] - 0s 11us/sample - loss: 164.3044 - val_loss: 157.9270\n",
      "Epoch 92/300\n",
      "17643/17643 [==============================] - 0s 9us/sample - loss: 164.2940 - val_loss: 157.8145\n",
      "Epoch 93/300\n",
      "17643/17643 [==============================] - 0s 9us/sample - loss: 164.3107 - val_loss: 157.8425\n",
      "Epoch 94/300\n",
      "17643/17643 [==============================] - 0s 10us/sample - loss: 164.2984 - val_loss: 157.8167\n",
      "Epoch 95/300\n",
      "17643/17643 [==============================] - 0s 11us/sample - loss: 164.3005 - val_loss: 157.8774\n",
      "Epoch 96/300\n",
      "17643/17643 [==============================] - 0s 11us/sample - loss: 164.3025 - val_loss: 157.8402\n",
      "Epoch 97/300\n",
      "17643/17643 [==============================] - 0s 10us/sample - loss: 164.2905 - val_loss: 157.9511\n",
      "Epoch 98/300\n",
      "17643/17643 [==============================] - 0s 10us/sample - loss: 164.3138 - val_loss: 157.8103\n",
      "Epoch 99/300\n",
      "17643/17643 [==============================] - 0s 10us/sample - loss: 164.3039 - val_loss: 157.8385\n",
      "Epoch 100/300\n",
      "17643/17643 [==============================] - 0s 9us/sample - loss: 164.3052 - val_loss: 157.7776\n",
      "Epoch 101/300\n",
      "17643/17643 [==============================] - 0s 9us/sample - loss: 164.2991 - val_loss: 157.7936\n",
      "Epoch 102/300\n",
      "17643/17643 [==============================] - 0s 9us/sample - loss: 164.3032 - val_loss: 157.7642\n",
      "Epoch 103/300\n",
      "17643/17643 [==============================] - 0s 11us/sample - loss: 164.2975 - val_loss: 157.7329\n",
      "Epoch 104/300\n",
      "17643/17643 [==============================] - 0s 10us/sample - loss: 164.2997 - val_loss: 157.7540\n",
      "Epoch 105/300\n",
      "17643/17643 [==============================] - 0s 10us/sample - loss: 164.3026 - val_loss: 157.7615\n",
      "Epoch 106/300\n",
      "17643/17643 [==============================] - 0s 10us/sample - loss: 164.3036 - val_loss: 157.7411\n",
      "Epoch 107/300\n",
      "17643/17643 [==============================] - 0s 10us/sample - loss: 164.3070 - val_loss: 157.7541\n",
      "Epoch 108/300\n",
      "17643/17643 [==============================] - 0s 12us/sample - loss: 164.3000 - val_loss: 157.7268\n",
      "Epoch 109/300\n",
      "17643/17643 [==============================] - 0s 10us/sample - loss: 164.3046 - val_loss: 157.7414\n",
      "Epoch 110/300\n",
      "17643/17643 [==============================] - 0s 9us/sample - loss: 164.3051 - val_loss: 157.7268\n",
      "Epoch 111/300\n",
      "17643/17643 [==============================] - 0s 10us/sample - loss: 164.2999 - val_loss: 157.7073\n",
      "Epoch 112/300\n",
      "17643/17643 [==============================] - 0s 11us/sample - loss: 164.3078 - val_loss: 157.7102\n",
      "Epoch 113/300\n",
      "17643/17643 [==============================] - 0s 9us/sample - loss: 164.2799 - val_loss: 157.6290\n",
      "Epoch 114/300\n",
      "17643/17643 [==============================] - 0s 10us/sample - loss: 164.3126 - val_loss: 157.6997\n",
      "Epoch 115/300\n",
      "17643/17643 [==============================] - 0s 10us/sample - loss: 164.3025 - val_loss: 157.6560\n",
      "Epoch 116/300\n",
      "17643/17643 [==============================] - 0s 12us/sample - loss: 164.2984 - val_loss: 157.6326\n",
      "Epoch 117/300\n",
      "17643/17643 [==============================] - 0s 10us/sample - loss: 164.3080 - val_loss: 157.6461\n",
      "Epoch 118/300\n",
      "17643/17643 [==============================] - 0s 10us/sample - loss: 164.3092 - val_loss: 157.6966\n",
      "Epoch 119/300\n",
      "17643/17643 [==============================] - 0s 12us/sample - loss: 164.3040 - val_loss: 157.6815\n",
      "Epoch 120/300\n",
      "17643/17643 [==============================] - 0s 12us/sample - loss: 164.2975 - val_loss: 157.6033\n",
      "Epoch 121/300\n",
      "17643/17643 [==============================] - 0s 10us/sample - loss: 164.3055 - val_loss: 157.6860\n",
      "Epoch 122/300\n",
      "17643/17643 [==============================] - 0s 10us/sample - loss: 164.3049 - val_loss: 157.6260\n",
      "Epoch 123/300\n",
      "17643/17643 [==============================] - 0s 10us/sample - loss: 164.2991 - val_loss: 157.5789\n",
      "Epoch 124/300\n",
      "17643/17643 [==============================] - 0s 10us/sample - loss: 164.3152 - val_loss: 157.6291\n",
      "Epoch 125/300\n",
      "17643/17643 [==============================] - 0s 11us/sample - loss: 164.2971 - val_loss: 157.6785\n",
      "Epoch 126/300\n",
      "17643/17643 [==============================] - 0s 10us/sample - loss: 164.3045 - val_loss: 157.6977\n",
      "Epoch 127/300\n",
      "17643/17643 [==============================] - 0s 11us/sample - loss: 164.3046 - val_loss: 157.7298\n",
      "Epoch 128/300\n",
      "17643/17643 [==============================] - 0s 9us/sample - loss: 164.3039 - val_loss: 157.6293\n",
      "Epoch 129/300\n",
      "17643/17643 [==============================] - 0s 10us/sample - loss: 164.3070 - val_loss: 157.5777\n",
      "Epoch 130/300\n",
      "17643/17643 [==============================] - 0s 10us/sample - loss: 164.3051 - val_loss: 157.6413\n",
      "Epoch 131/300\n",
      "17643/17643 [==============================] - 0s 11us/sample - loss: 164.2986 - val_loss: 157.6183\n",
      "Epoch 132/300\n",
      "17643/17643 [==============================] - 0s 10us/sample - loss: 164.3027 - val_loss: 157.5973\n",
      "Epoch 133/300\n",
      "17643/17643 [==============================] - 0s 11us/sample - loss: 164.2824 - val_loss: 157.6886\n",
      "Epoch 134/300\n",
      "17643/17643 [==============================] - 0s 14us/sample - loss: 164.2972 - val_loss: 157.5489\n",
      "Epoch 135/300\n",
      "17643/17643 [==============================] - 0s 12us/sample - loss: 164.3016 - val_loss: 157.6253\n",
      "Epoch 136/300\n",
      "17643/17643 [==============================] - 0s 10us/sample - loss: 164.2992 - val_loss: 157.5219\n",
      "Epoch 137/300\n",
      "17643/17643 [==============================] - 0s 12us/sample - loss: 164.3089 - val_loss: 157.5839\n",
      "Epoch 138/300\n",
      "17643/17643 [==============================] - 0s 10us/sample - loss: 164.2916 - val_loss: 157.4830\n",
      "Epoch 139/300\n",
      "17643/17643 [==============================] - 0s 9us/sample - loss: 164.2997 - val_loss: 157.6113\n",
      "Epoch 140/300\n",
      "17643/17643 [==============================] - 0s 10us/sample - loss: 164.3022 - val_loss: 157.5954\n",
      "Epoch 141/300\n",
      "17643/17643 [==============================] - 0s 10us/sample - loss: 164.2856 - val_loss: 157.6949\n",
      "Epoch 142/300\n",
      "17643/17643 [==============================] - 0s 10us/sample - loss: 164.2989 - val_loss: 157.5251\n",
      "Epoch 143/300\n",
      "17643/17643 [==============================] - 0s 9us/sample - loss: 164.3015 - val_loss: 157.5733\n",
      "Epoch 144/300\n",
      "17643/17643 [==============================] - 0s 9us/sample - loss: 164.3003 - val_loss: 157.6090\n",
      "Epoch 145/300\n"
     ]
    },
    {
     "name": "stdout",
     "output_type": "stream",
     "text": [
      "17643/17643 [==============================] - 0s 9us/sample - loss: 164.2961 - val_loss: 157.4650\n",
      "Epoch 146/300\n",
      "17643/17643 [==============================] - 0s 10us/sample - loss: 164.3060 - val_loss: 157.5278\n",
      "Epoch 147/300\n",
      "17643/17643 [==============================] - 0s 9us/sample - loss: 164.2944 - val_loss: 157.5863\n",
      "Epoch 148/300\n",
      "17643/17643 [==============================] - 0s 9us/sample - loss: 164.3074 - val_loss: 157.5873\n",
      "Epoch 149/300\n",
      "17643/17643 [==============================] - 0s 9us/sample - loss: 164.3086 - val_loss: 157.5571\n",
      "Epoch 150/300\n",
      "17643/17643 [==============================] - 0s 9us/sample - loss: 164.3040 - val_loss: 157.4485\n",
      "Epoch 151/300\n",
      "17643/17643 [==============================] - 0s 11us/sample - loss: 164.3056 - val_loss: 157.5158\n",
      "Epoch 152/300\n",
      "17643/17643 [==============================] - 0s 10us/sample - loss: 164.3058 - val_loss: 157.4832\n",
      "Epoch 153/300\n",
      "17643/17643 [==============================] - 0s 12us/sample - loss: 164.3019 - val_loss: 157.5118\n",
      "Epoch 154/300\n",
      "17643/17643 [==============================] - 0s 11us/sample - loss: 164.2869 - val_loss: 157.4268\n",
      "Epoch 155/300\n",
      "17643/17643 [==============================] - 0s 13us/sample - loss: 164.3037 - val_loss: 157.4887\n",
      "Epoch 156/300\n",
      "17643/17643 [==============================] - 0s 12us/sample - loss: 164.3058 - val_loss: 157.5093\n",
      "Epoch 157/300\n",
      "17643/17643 [==============================] - 0s 11us/sample - loss: 164.2975 - val_loss: 157.5317\n",
      "Epoch 158/300\n",
      "17643/17643 [==============================] - 0s 10us/sample - loss: 164.3054 - val_loss: 157.5026\n",
      "Epoch 159/300\n",
      "17643/17643 [==============================] - 0s 10us/sample - loss: 164.2801 - val_loss: 157.3798\n",
      "Epoch 160/300\n",
      "17643/17643 [==============================] - 0s 9us/sample - loss: 164.3047 - val_loss: 157.4619\n",
      "Epoch 161/300\n",
      "17643/17643 [==============================] - 0s 9us/sample - loss: 164.2955 - val_loss: 157.5293\n",
      "Epoch 162/300\n",
      "17643/17643 [==============================] - 0s 9us/sample - loss: 164.3044 - val_loss: 157.5135\n",
      "Epoch 163/300\n",
      "17643/17643 [==============================] - 0s 9us/sample - loss: 164.2901 - val_loss: 157.4521\n",
      "Epoch 164/300\n",
      "17643/17643 [==============================] - 0s 9us/sample - loss: 164.3011 - val_loss: 157.4345\n",
      "Epoch 165/300\n",
      "17643/17643 [==============================] - 0s 9us/sample - loss: 164.3002 - val_loss: 157.4516\n",
      "Epoch 166/300\n",
      "17643/17643 [==============================] - 0s 9us/sample - loss: 164.2987 - val_loss: 157.3733\n",
      "Epoch 167/300\n",
      "17643/17643 [==============================] - 0s 9us/sample - loss: 164.3031 - val_loss: 157.3896\n",
      "Epoch 168/300\n",
      "17643/17643 [==============================] - 0s 9us/sample - loss: 164.3018 - val_loss: 157.3901\n",
      "Epoch 169/300\n",
      "17643/17643 [==============================] - 0s 9us/sample - loss: 164.2953 - val_loss: 157.5406\n",
      "Epoch 170/300\n",
      "17643/17643 [==============================] - 0s 8us/sample - loss: 164.3002 - val_loss: 157.4176\n",
      "Epoch 171/300\n",
      "17643/17643 [==============================] - 0s 9us/sample - loss: 164.3072 - val_loss: 157.4222\n",
      "Epoch 172/300\n",
      "17643/17643 [==============================] - 0s 9us/sample - loss: 164.3022 - val_loss: 157.4472\n",
      "Epoch 173/300\n",
      "17643/17643 [==============================] - 0s 9us/sample - loss: 164.3064 - val_loss: 157.4156\n",
      "Epoch 174/300\n",
      "17643/17643 [==============================] - 0s 9us/sample - loss: 164.2996 - val_loss: 157.4509\n",
      "Epoch 175/300\n",
      "17643/17643 [==============================] - 0s 8us/sample - loss: 164.2937 - val_loss: 157.4268\n",
      "Epoch 176/300\n",
      "17643/17643 [==============================] - 0s 9us/sample - loss: 164.3009 - val_loss: 157.4523\n",
      "Epoch 177/300\n",
      "17643/17643 [==============================] - 0s 8us/sample - loss: 164.2966 - val_loss: 157.3618\n",
      "Epoch 178/300\n",
      "17643/17643 [==============================] - 0s 9us/sample - loss: 164.3019 - val_loss: 157.4064\n",
      "Epoch 179/300\n",
      "17643/17643 [==============================] - 0s 8us/sample - loss: 164.2732 - val_loss: 157.2616\n",
      "Epoch 180/300\n",
      "17643/17643 [==============================] - 0s 9us/sample - loss: 164.3030 - val_loss: 157.4601\n",
      "Epoch 181/300\n",
      "17643/17643 [==============================] - 0s 9us/sample - loss: 164.2967 - val_loss: 157.4874\n",
      "Epoch 182/300\n",
      "17643/17643 [==============================] - 0s 8us/sample - loss: 164.3057 - val_loss: 157.4146\n",
      "Epoch 183/300\n",
      "17643/17643 [==============================] - 0s 9us/sample - loss: 164.3015 - val_loss: 157.3595\n",
      "Epoch 184/300\n",
      "17643/17643 [==============================] - 0s 8us/sample - loss: 164.2964 - val_loss: 157.4102\n",
      "Epoch 185/300\n",
      "17643/17643 [==============================] - 0s 9us/sample - loss: 164.2961 - val_loss: 157.3287\n",
      "Epoch 186/300\n",
      "17643/17643 [==============================] - 0s 9us/sample - loss: 164.3051 - val_loss: 157.3887\n",
      "Epoch 187/300\n",
      "17643/17643 [==============================] - 0s 9us/sample - loss: 164.3050 - val_loss: 157.3667\n",
      "Epoch 188/300\n",
      "17643/17643 [==============================] - 0s 10us/sample - loss: 164.3009 - val_loss: 157.3357\n",
      "Epoch 189/300\n",
      "17643/17643 [==============================] - 0s 8us/sample - loss: 164.2969 - val_loss: 157.3874\n",
      "Epoch 190/300\n",
      "17643/17643 [==============================] - 0s 9us/sample - loss: 164.3050 - val_loss: 157.3475\n",
      "Epoch 191/300\n",
      "17643/17643 [==============================] - 0s 9us/sample - loss: 164.2962 - val_loss: 157.4260\n",
      "Epoch 192/300\n",
      "17643/17643 [==============================] - 0s 9us/sample - loss: 164.2934 - val_loss: 157.5094\n",
      "Epoch 193/300\n",
      "17643/17643 [==============================] - 0s 9us/sample - loss: 164.2961 - val_loss: 157.2954\n",
      "Epoch 194/300\n",
      "17643/17643 [==============================] - 0s 9us/sample - loss: 164.3005 - val_loss: 157.3861\n",
      "Epoch 195/300\n",
      "17643/17643 [==============================] - 0s 9us/sample - loss: 164.3029 - val_loss: 157.3664\n",
      "Epoch 196/300\n",
      "17643/17643 [==============================] - 0s 8us/sample - loss: 164.2994 - val_loss: 157.3637\n",
      "Epoch 197/300\n",
      "17643/17643 [==============================] - 0s 8us/sample - loss: 164.2999 - val_loss: 157.4279\n",
      "Epoch 198/300\n",
      "17643/17643 [==============================] - 0s 9us/sample - loss: 164.2978 - val_loss: 157.4469\n",
      "Epoch 199/300\n",
      "17643/17643 [==============================] - 0s 9us/sample - loss: 164.3020 - val_loss: 157.3997\n",
      "Epoch 200/300\n",
      "17643/17643 [==============================] - 0s 9us/sample - loss: 164.2991 - val_loss: 157.3965\n",
      "Epoch 201/300\n",
      "17643/17643 [==============================] - 0s 10us/sample - loss: 164.2927 - val_loss: 157.3483\n",
      "Epoch 202/300\n",
      "17643/17643 [==============================] - 0s 8us/sample - loss: 164.2894 - val_loss: 157.2662\n",
      "Epoch 203/300\n",
      "17643/17643 [==============================] - 0s 9us/sample - loss: 164.3014 - val_loss: 157.3089\n",
      "Epoch 204/300\n",
      "17643/17643 [==============================] - 0s 8us/sample - loss: 164.2960 - val_loss: 157.2803\n",
      "Epoch 205/300\n",
      "17643/17643 [==============================] - 0s 9us/sample - loss: 164.2939 - val_loss: 157.3282\n",
      "Epoch 206/300\n",
      "17643/17643 [==============================] - 0s 8us/sample - loss: 164.2968 - val_loss: 157.2505\n",
      "Epoch 207/300\n",
      "17643/17643 [==============================] - 0s 9us/sample - loss: 164.3002 - val_loss: 157.3214\n",
      "Epoch 208/300\n",
      "17643/17643 [==============================] - 0s 8us/sample - loss: 164.2992 - val_loss: 157.3428\n",
      "Epoch 209/300\n",
      "17643/17643 [==============================] - 0s 8us/sample - loss: 164.2941 - val_loss: 157.4200\n",
      "Epoch 210/300\n",
      "17643/17643 [==============================] - 0s 9us/sample - loss: 164.3038 - val_loss: 157.4459\n",
      "Epoch 211/300\n",
      "17643/17643 [==============================] - 0s 8us/sample - loss: 164.3026 - val_loss: 157.4021\n",
      "Epoch 212/300\n",
      "17643/17643 [==============================] - 0s 9us/sample - loss: 164.3087 - val_loss: 157.3683\n",
      "Epoch 213/300\n",
      "17643/17643 [==============================] - 0s 9us/sample - loss: 164.2867 - val_loss: 157.2247\n",
      "Epoch 214/300\n",
      "17643/17643 [==============================] - 0s 9us/sample - loss: 164.2996 - val_loss: 157.2769\n",
      "Epoch 215/300\n",
      "17643/17643 [==============================] - 0s 8us/sample - loss: 164.3002 - val_loss: 157.4104\n",
      "Epoch 216/300\n",
      "17643/17643 [==============================] - 0s 8us/sample - loss: 164.3006 - val_loss: 157.3361\n",
      "Epoch 217/300\n"
     ]
    },
    {
     "name": "stdout",
     "output_type": "stream",
     "text": [
      "17643/17643 [==============================] - 0s 8us/sample - loss: 164.2942 - val_loss: 157.3215\n",
      "Epoch 218/300\n",
      "17643/17643 [==============================] - 0s 10us/sample - loss: 164.2972 - val_loss: 157.3169\n",
      "Epoch 219/300\n",
      "17643/17643 [==============================] - 0s 9us/sample - loss: 164.3004 - val_loss: 157.3971\n",
      "Epoch 220/300\n",
      "17643/17643 [==============================] - 0s 9us/sample - loss: 164.2984 - val_loss: 157.3713\n",
      "Epoch 221/300\n",
      "17643/17643 [==============================] - 0s 9us/sample - loss: 164.2971 - val_loss: 157.3537\n",
      "Epoch 222/300\n",
      "17643/17643 [==============================] - 0s 9us/sample - loss: 164.2984 - val_loss: 157.3708\n",
      "Epoch 223/300\n",
      "17643/17643 [==============================] - 0s 9us/sample - loss: 164.3012 - val_loss: 157.3633\n",
      "Epoch 224/300\n",
      "17643/17643 [==============================] - 0s 9us/sample - loss: 164.3004 - val_loss: 157.2981\n",
      "Epoch 225/300\n",
      "17643/17643 [==============================] - 0s 9us/sample - loss: 164.3028 - val_loss: 157.3136\n",
      "Epoch 226/300\n",
      "17643/17643 [==============================] - 0s 9us/sample - loss: 164.2947 - val_loss: 157.2799\n",
      "Epoch 227/300\n",
      "17643/17643 [==============================] - 0s 9us/sample - loss: 164.2948 - val_loss: 157.2483\n",
      "Epoch 228/300\n",
      "17643/17643 [==============================] - 0s 9us/sample - loss: 164.3023 - val_loss: 157.3517\n",
      "Epoch 229/300\n",
      "17643/17643 [==============================] - 0s 10us/sample - loss: 164.2992 - val_loss: 157.3753\n",
      "Epoch 230/300\n",
      "17643/17643 [==============================] - 0s 10us/sample - loss: 164.2920 - val_loss: 157.4514\n",
      "Epoch 231/300\n",
      "17643/17643 [==============================] - 0s 10us/sample - loss: 164.2897 - val_loss: 157.3631\n",
      "Epoch 232/300\n",
      "17643/17643 [==============================] - 0s 9us/sample - loss: 164.2975 - val_loss: 157.3602\n",
      "Epoch 233/300\n",
      "17643/17643 [==============================] - 0s 11us/sample - loss: 164.2981 - val_loss: 157.4420\n",
      "Epoch 234/300\n",
      "17643/17643 [==============================] - 0s 9us/sample - loss: 164.2937 - val_loss: 157.2790\n",
      "Epoch 235/300\n",
      "17643/17643 [==============================] - 0s 8us/sample - loss: 164.3003 - val_loss: 157.3141\n",
      "Epoch 236/300\n",
      "17643/17643 [==============================] - 0s 8us/sample - loss: 164.2975 - val_loss: 157.2755\n",
      "Epoch 237/300\n",
      "17643/17643 [==============================] - 0s 8us/sample - loss: 164.2898 - val_loss: 157.3199\n",
      "Epoch 238/300\n",
      "17643/17643 [==============================] - 0s 9us/sample - loss: 164.2827 - val_loss: 157.4034\n",
      "Epoch 239/300\n",
      "17643/17643 [==============================] - 0s 9us/sample - loss: 164.3061 - val_loss: 157.3975\n",
      "Epoch 240/300\n",
      "17643/17643 [==============================] - 0s 10us/sample - loss: 164.2923 - val_loss: 157.4521\n",
      "Epoch 241/300\n",
      "17643/17643 [==============================] - 0s 9us/sample - loss: 164.2824 - val_loss: 157.2573\n",
      "Epoch 242/300\n",
      "17643/17643 [==============================] - 0s 9us/sample - loss: 164.2948 - val_loss: 157.4672\n",
      "Epoch 243/300\n",
      "17643/17643 [==============================] - 0s 8us/sample - loss: 164.2942 - val_loss: 157.2723\n",
      "Epoch 244/300\n",
      "17643/17643 [==============================] - 0s 9us/sample - loss: 164.2892 - val_loss: 157.3195\n",
      "Epoch 245/300\n",
      "17643/17643 [==============================] - 0s 9us/sample - loss: 164.2987 - val_loss: 157.3466\n",
      "Epoch 246/300\n",
      "17643/17643 [==============================] - 0s 9us/sample - loss: 164.2994 - val_loss: 157.3823\n",
      "Epoch 247/300\n",
      "17643/17643 [==============================] - 0s 9us/sample - loss: 164.2966 - val_loss: 157.3707\n",
      "Epoch 248/300\n",
      "17643/17643 [==============================] - 0s 9us/sample - loss: 164.2932 - val_loss: 157.2628\n",
      "Epoch 249/300\n",
      "17643/17643 [==============================] - 0s 9us/sample - loss: 164.2857 - val_loss: 157.4770\n",
      "Epoch 250/300\n",
      "17643/17643 [==============================] - 0s 9us/sample - loss: 164.2960 - val_loss: 157.4018\n",
      "Epoch 251/300\n",
      "17643/17643 [==============================] - 0s 9us/sample - loss: 164.2975 - val_loss: 157.3600\n",
      "Epoch 252/300\n",
      "17643/17643 [==============================] - 0s 9us/sample - loss: 164.2943 - val_loss: 157.4263\n",
      "Epoch 253/300\n",
      "17643/17643 [==============================] - 0s 9us/sample - loss: 164.2922 - val_loss: 157.3294\n",
      "Epoch 254/300\n",
      "17643/17643 [==============================] - 0s 9us/sample - loss: 164.2894 - val_loss: 157.4307\n",
      "Epoch 255/300\n",
      "17643/17643 [==============================] - 0s 9us/sample - loss: 164.2964 - val_loss: 157.3458\n",
      "Epoch 256/300\n",
      "17643/17643 [==============================] - 0s 8us/sample - loss: 164.2926 - val_loss: 157.2898\n",
      "Epoch 257/300\n",
      "17643/17643 [==============================] - 0s 8us/sample - loss: 164.2929 - val_loss: 157.3723\n",
      "Epoch 258/300\n",
      "17643/17643 [==============================] - 0s 9us/sample - loss: 164.2966 - val_loss: 157.3142\n",
      "Epoch 259/300\n",
      "17643/17643 [==============================] - 0s 9us/sample - loss: 164.2847 - val_loss: 157.5389\n",
      "Epoch 260/300\n",
      "17643/17643 [==============================] - 0s 9us/sample - loss: 164.3017 - val_loss: 157.3943\n",
      "Epoch 261/300\n",
      "17643/17643 [==============================] - 0s 10us/sample - loss: 164.3016 - val_loss: 157.3519\n",
      "Epoch 262/300\n",
      "17643/17643 [==============================] - 0s 8us/sample - loss: 164.2977 - val_loss: 157.4000\n",
      "Epoch 263/300\n",
      "17643/17643 [==============================] - 0s 10us/sample - loss: 164.2952 - val_loss: 157.4581\n",
      "Epoch 264/300\n",
      "17643/17643 [==============================] - 0s 10us/sample - loss: 164.2745 - val_loss: 157.2297\n",
      "Epoch 265/300\n",
      "17643/17643 [==============================] - 0s 8us/sample - loss: 164.3013 - val_loss: 157.4071\n",
      "Epoch 266/300\n",
      "17643/17643 [==============================] - 0s 9us/sample - loss: 164.2917 - val_loss: 157.3921\n",
      "Epoch 267/300\n",
      "17643/17643 [==============================] - 0s 8us/sample - loss: 164.2938 - val_loss: 157.4326\n",
      "Epoch 268/300\n",
      "17643/17643 [==============================] - 0s 10us/sample - loss: 164.2840 - val_loss: 157.3571\n",
      "Epoch 269/300\n",
      "17643/17643 [==============================] - 0s 9us/sample - loss: 164.2921 - val_loss: 157.4874\n",
      "Epoch 270/300\n",
      "17643/17643 [==============================] - 0s 8us/sample - loss: 164.3013 - val_loss: 157.4185\n",
      "Epoch 271/300\n",
      "17643/17643 [==============================] - 0s 9us/sample - loss: 164.2932 - val_loss: 157.4980\n",
      "Epoch 272/300\n",
      "17643/17643 [==============================] - 0s 8us/sample - loss: 164.2987 - val_loss: 157.4419\n",
      "Epoch 273/300\n",
      "17643/17643 [==============================] - 0s 8us/sample - loss: 164.2993 - val_loss: 157.4567\n",
      "Epoch 274/300\n",
      "17643/17643 [==============================] - 0s 9us/sample - loss: 164.2940 - val_loss: 157.5084\n",
      "Epoch 275/300\n",
      "17643/17643 [==============================] - 0s 8us/sample - loss: 164.3007 - val_loss: 157.4458\n",
      "Epoch 276/300\n",
      "17643/17643 [==============================] - 0s 8us/sample - loss: 164.2892 - val_loss: 157.3264\n",
      "Epoch 277/300\n",
      "17643/17643 [==============================] - 0s 9us/sample - loss: 164.2948 - val_loss: 157.4430\n",
      "Epoch 278/300\n",
      "17643/17643 [==============================] - 0s 9us/sample - loss: 164.2979 - val_loss: 157.4376\n",
      "Epoch 279/300\n",
      "17643/17643 [==============================] - 0s 8us/sample - loss: 164.3005 - val_loss: 157.3541\n",
      "Epoch 280/300\n",
      "17643/17643 [==============================] - 0s 8us/sample - loss: 164.2852 - val_loss: 157.3178\n",
      "Epoch 281/300\n",
      "17643/17643 [==============================] - 0s 9us/sample - loss: 164.2944 - val_loss: 157.3695\n",
      "Epoch 282/300\n",
      "17643/17643 [==============================] - 0s 9us/sample - loss: 164.2813 - val_loss: 157.5578\n",
      "Epoch 283/300\n",
      "17643/17643 [==============================] - 0s 9us/sample - loss: 164.2941 - val_loss: 157.6462\n",
      "Epoch 284/300\n",
      "17643/17643 [==============================] - 0s 8us/sample - loss: 164.2891 - val_loss: 157.3535\n",
      "Epoch 285/300\n",
      "17643/17643 [==============================] - 0s 9us/sample - loss: 164.2990 - val_loss: 157.4260\n",
      "Epoch 286/300\n",
      "17643/17643 [==============================] - 0s 9us/sample - loss: 164.2972 - val_loss: 157.4894\n",
      "Epoch 287/300\n",
      "17643/17643 [==============================] - 0s 8us/sample - loss: 164.2933 - val_loss: 157.4299\n",
      "Epoch 288/300\n",
      "17643/17643 [==============================] - 0s 9us/sample - loss: 164.2984 - val_loss: 157.5189\n",
      "Epoch 289/300\n"
     ]
    },
    {
     "name": "stdout",
     "output_type": "stream",
     "text": [
      "17643/17643 [==============================] - 0s 9us/sample - loss: 164.2965 - val_loss: 157.5116\n",
      "Epoch 290/300\n",
      "17643/17643 [==============================] - 0s 9us/sample - loss: 164.2925 - val_loss: 157.6020\n",
      "Epoch 291/300\n",
      "17643/17643 [==============================] - 0s 9us/sample - loss: 164.2950 - val_loss: 157.5601\n",
      "Epoch 292/300\n",
      "17643/17643 [==============================] - 0s 10us/sample - loss: 164.2912 - val_loss: 157.5381\n",
      "Epoch 293/300\n",
      "17643/17643 [==============================] - 0s 9us/sample - loss: 164.2905 - val_loss: 157.4345\n",
      "Epoch 294/300\n",
      "17643/17643 [==============================] - 0s 10us/sample - loss: 164.2892 - val_loss: 157.5370\n",
      "Epoch 295/300\n",
      "17643/17643 [==============================] - 0s 9us/sample - loss: 164.2950 - val_loss: 157.5236\n",
      "Epoch 296/300\n",
      "17643/17643 [==============================] - 0s 9us/sample - loss: 164.2989 - val_loss: 157.5808\n",
      "Epoch 297/300\n",
      "17643/17643 [==============================] - 0s 9us/sample - loss: 164.2927 - val_loss: 157.5350\n",
      "Epoch 298/300\n",
      "17643/17643 [==============================] - 0s 9us/sample - loss: 164.2970 - val_loss: 157.5059\n",
      "Epoch 299/300\n",
      "17643/17643 [==============================] - 0s 8us/sample - loss: 164.2935 - val_loss: 157.6234\n",
      "Epoch 300/300\n",
      "17643/17643 [==============================] - 0s 8us/sample - loss: 164.2964 - val_loss: 157.5361\n"
     ]
    },
    {
     "data": {
      "text/plain": [
       "<tensorflow.python.keras.callbacks.History at 0x22c397dd648>"
      ]
     },
     "execution_count": 15,
     "metadata": {},
     "output_type": "execute_result"
    }
   ],
   "source": [
    "X_train=X_train/256.\n",
    "model.fit(X_train,\n",
    "          y_train,\n",
    "          validation_data=(X_test,y_test),\n",
    "          batch_size=128,\n",
    "          epochs=300)\n",
    "# regression coefficients\n",
    "#print('Coefficients: ', regModel.coef_)"
   ]
  },
  {
   "cell_type": "code",
   "execution_count": 16,
   "id": "30ca9fe6",
   "metadata": {},
   "outputs": [],
   "source": [
    "from tensorflow.keras.models import load_model\n",
    "model.save('aditya_model')\n",
    "# variance score: 1 means perfect prediction\n",
    "#print('Variance score: {}'.format(regModel.score(X_test, y_test)))"
   ]
  },
  {
   "cell_type": "code",
   "execution_count": 17,
   "id": "446ab9b7",
   "metadata": {},
   "outputs": [],
   "source": [
    "losses = pd.DataFrame(model.history.history)"
   ]
  },
  {
   "cell_type": "code",
   "execution_count": 18,
   "id": "03af4f70",
   "metadata": {},
   "outputs": [
    {
     "data": {
      "text/plain": [
       "<AxesSubplot:>"
      ]
     },
     "execution_count": 18,
     "metadata": {},
     "output_type": "execute_result"
    },
    {
     "data": {
      "image/png": "[encoded data removed]",
      "text/plain": [
       "<Figure size 432x288 with 1 Axes>"
      ]
     },
     "metadata": {
      "needs_background": "light"
     },
     "output_type": "display_data"
    }
   ],
   "source": [
    "losses[['loss','val_loss']].plot()"
   ]
  },
  {
   "cell_type": "code",
   "execution_count": 19,
   "id": "519e3abd",
   "metadata": {},
   "outputs": [
    {
     "data": {
      "text/plain": [
       "array([[0, 0, 0, ..., 0, 0, 1],\n",
       "       [0, 0, 0, ..., 0, 0, 1],\n",
       "       [0, 0, 0, ..., 1, 0, 0],\n",
       "       ...,\n",
       "       [0, 0, 0, ..., 0, 0, 0],\n",
       "       [0, 0, 0, ..., 1, 0, 0],\n",
       "       [0, 0, 0, ..., 0, 0, 0]], dtype=uint8)"
      ]
     },
     "execution_count": 19,
     "metadata": {},
     "output_type": "execute_result"
    }
   ],
   "source": [
    "X_test"
   ]
  },
  {
   "cell_type": "code",
   "execution_count": 20,
   "id": "6cea8a3c",
   "metadata": {},
   "outputs": [
    {
     "data": {
      "text/plain": [
       "array([[73.029434],\n",
       "       [69.448135],\n",
       "       [70.93811 ],\n",
       "       ...,\n",
       "       [71.868935],\n",
       "       [72.73559 ],\n",
       "       [68.244804]], dtype=float32)"
      ]
     },
     "execution_count": 20,
     "metadata": {},
     "output_type": "execute_result"
    }
   ],
   "source": [
    "prediction = model.predict(X_test)\n",
    "prediction"
   ]
  },
  {
   "cell_type": "code",
   "execution_count": 21,
   "id": "414d9d3b",
   "metadata": {},
   "outputs": [
    {
     "data": {
      "text/plain": [
       "9.700937209473626"
      ]
     },
     "execution_count": 21,
     "metadata": {},
     "output_type": "execute_result"
    }
   ],
   "source": [
    "from sklearn.metrics import mean_squared_error,mean_absolute_error,explained_variance_score\n",
    "mean_absolute_error(y_test,prediction)"
   ]
  },
  {
   "cell_type": "code",
   "execution_count": 22,
   "id": "cb0cc2d6",
   "metadata": {},
   "outputs": [
    {
     "data": {
      "text/plain": [
       "12.551337568379996"
      ]
     },
     "execution_count": 22,
     "metadata": {},
     "output_type": "execute_result"
    }
   ],
   "source": [
    "np.sqrt(mean_squared_error(y_test,prediction))"
   ]
  },
  {
   "cell_type": "code",
   "execution_count": 23,
   "id": "e6eb1d96",
   "metadata": {},
   "outputs": [
    {
     "data": {
      "text/plain": [
       "0.011027889594490303"
      ]
     },
     "execution_count": 23,
     "metadata": {},
     "output_type": "execute_result"
    }
   ],
   "source": [
    "explained_variance_score(y_test,prediction)"
   ]
  },
  {
   "cell_type": "code",
   "execution_count": 24,
   "id": "9714d58a",
   "metadata": {},
   "outputs": [
    {
     "data": {
      "text/plain": [
       "[<matplotlib.lines.Line2D at 0x22c421e0448>]"
      ]
     },
     "execution_count": 24,
     "metadata": {},
     "output_type": "execute_result"
    },
    {
     "data": {
      "image/png": "[encoded data removed]",
      "text/plain": [
       "<Figure size 432x288 with 1 Axes>"
      ]
     },
     "metadata": {
      "needs_background": "light"
     },
     "output_type": "display_data"
    }
   ],
   "source": [
    "import matplotlib.pyplot as plt\n",
    "plt.scatter(y_test,prediction)\n",
    "plt.plot(y_test,y_test,'r')"
   ]
  },
  {
   "cell_type": "code",
   "execution_count": 25,
   "id": "8054c35b",
   "metadata": {},
   "outputs": [
    {
     "data": {
      "text/plain": [
       "Pipeline(steps=[('standardscaler', StandardScaler()),\n",
       "                ('linearregression', LinearRegression())])"
      ]
     },
     "execution_count": 25,
     "metadata": {},
     "output_type": "execute_result"
    }
   ],
   "source": [
    "from sklearn.linear_model import LinearRegression\n",
    "from sklearn.preprocessing import StandardScaler\n",
    "from sklearn.pipeline import make_pipeline\n",
    "pipe = make_pipeline(StandardScaler(), LinearRegression())\n",
    "pipe.fit(X_train,y_train)\n",
    "\n"
   ]
  },
  {
   "cell_type": "code",
   "execution_count": 28,
   "id": "fcce9f1b",
   "metadata": {},
   "outputs": [
    {
     "data": {
      "text/plain": [
       "-2.3818263326482395e+29"
      ]
     },
     "execution_count": 28,
     "metadata": {},
     "output_type": "execute_result"
    }
   ],
   "source": [
    "pipe.score(X_test, y_test)\n"
   ]
  },
  {
   "cell_type": "code",
   "execution_count": 29,
   "id": "eaa6ab96",
   "metadata": {},
   "outputs": [
    {
     "data": {
      "text/plain": [
       "array([[-6.15249079e+15],\n",
       "       [-6.15249079e+15],\n",
       "       [-6.15249079e+15],\n",
       "       ...,\n",
       "       [-6.15249079e+15],\n",
       "       [-6.15249079e+15],\n",
       "       [-6.15249079e+15]])"
      ]
     },
     "execution_count": 29,
     "metadata": {},
     "output_type": "execute_result"
    }
   ],
   "source": [
    "y_pred= pipe.predict(X_test)\n",
    "y_pred"
   ]
  },
  {
   "cell_type": "code",
   "execution_count": 30,
   "id": "8155fd98",
   "metadata": {},
   "outputs": [
    {
     "name": "stdout",
     "output_type": "stream",
     "text": [
      "r2 score is: -2.3818263326482395e+29\n"
     ]
    }
   ],
   "source": [
    "from sklearn.metrics import r2_score\n",
    "from sklearn.metrics import mean_squared_error\n",
    "#should be between 0-1\n",
    "score =r2_score(y_test,y_pred)\n",
    "print(\"r2 score is:\",score)"
   ]
  },
  {
   "cell_type": "code",
   "execution_count": 31,
   "id": "5112601e",
   "metadata": {},
   "outputs": [
    {
     "data": {
      "text/plain": [
       "RandomForestRegressor(n_estimators=1000, random_state=0)"
      ]
     },
     "execution_count": 31,
     "metadata": {},
     "output_type": "execute_result"
    }
   ],
   "source": [
    "from sklearn.ensemble import RandomForestRegressor\n",
    "rf_model=RandomForestRegressor(n_estimators=1000,random_state=0)\n",
    "rf_model.fit(X_train,np.ravel(y_train))"
   ]
  },
  {
   "cell_type": "code",
   "execution_count": 32,
   "id": "7701e1a7",
   "metadata": {},
   "outputs": [
    {
     "data": {
      "text/plain": [
       "-0.01445098204704598"
      ]
     },
     "execution_count": 32,
     "metadata": {},
     "output_type": "execute_result"
    }
   ],
   "source": [
    "rf_model.score(X_test,y_test)"
   ]
  },
  {
   "cell_type": "code",
   "execution_count": null,
   "id": "09d773ff",
   "metadata": {},
   "outputs": [],
   "source": []
  }
 ],
 "metadata": {
  "kernelspec": {
   "display_name": "Python 3 (ipykernel)",
   "language": "python",
   "name": "python3"
  },
  "language_info": {
   "codemirror_mode": {
    "name": "ipython",
    "version": 3
   },
   "file_extension": ".py",
   "mimetype": "text/x-python",
   "name": "python",
   "nbconvert_exporter": "python",
   "pygments_lexer": "ipython3",
   "version": "3.7.13"
  }
 },
 "nbformat": 4,
 "nbformat_minor": 5
}
