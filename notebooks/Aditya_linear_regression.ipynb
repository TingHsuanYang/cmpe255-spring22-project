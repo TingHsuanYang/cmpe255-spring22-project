{
 "cells": [
  {
   "cell_type": "code",
   "execution_count": 5,
   "id": "abd22faa",
   "metadata": {},
   "outputs": [
    {
     "name": "stdout",
     "output_type": "stream",
     "text": [
      "<class 'pandas.core.frame.DataFrame'>\n",
      "RangeIndex: 8831 entries, 0 to 8830\n",
      "Data columns (total 10 columns):\n",
      " #   Column       Non-Null Count  Dtype  \n",
      "---  ------       --------------  -----  \n",
      " 0   game_name    8831 non-null   object \n",
      " 1   meta_score   8831 non-null   float64\n",
      " 2   user_score   8831 non-null   float64\n",
      " 3   platform     8831 non-null   object \n",
      " 4   description  8831 non-null   object \n",
      " 5   url          8831 non-null   object \n",
      " 6   developer    8821 non-null   object \n",
      " 7   genre        8827 non-null   object \n",
      " 8   type         6727 non-null   object \n",
      " 9   rating       7691 non-null   object \n",
      "dtypes: float64(2), object(8)\n",
      "memory usage: 690.0+ KB\n"
     ]
    }
   ],
   "source": [
    "import pandas as pd\n",
    "import numpy as np\n",
    "\n",
    "data = pd.read_csv('../data/games_of_all_time.csv')\n",
    "model_data = data[['meta_score','user_score','platform','genre','type','rating']] \n",
    "data.info()"
   ]
  },
  {
   "cell_type": "code",
   "execution_count": 6,
   "id": "0b06020e",
   "metadata": {},
   "outputs": [
    {
     "name": "stdout",
     "output_type": "stream",
     "text": [
      "<class 'pandas.core.frame.DataFrame'>\n",
      "Int64Index: 5936 entries, 0 to 8830\n",
      "Data columns (total 6 columns):\n",
      " #   Column      Non-Null Count  Dtype  \n",
      "---  ------      --------------  -----  \n",
      " 0   meta_score  5936 non-null   float64\n",
      " 1   user_score  5936 non-null   float64\n",
      " 2   platform    5936 non-null   object \n",
      " 3   genre       5936 non-null   object \n",
      " 4   type        5936 non-null   object \n",
      " 5   rating      5936 non-null   object \n",
      "dtypes: float64(2), object(4)\n",
      "memory usage: 324.6+ KB\n"
     ]
    },
    {
     "data": {
      "text/html": [
       "<div>\n",
       "<style scoped>\n",
       "    .dataframe tbody tr th:only-of-type {\n",
       "        vertical-align: middle;\n",
       "    }\n",
       "\n",
       "    .dataframe tbody tr th {\n",
       "        vertical-align: top;\n",
       "    }\n",
       "\n",
       "    .dataframe thead th {\n",
       "        text-align: right;\n",
       "    }\n",
       "</style>\n",
       "<table border=\"1\" class=\"dataframe\">\n",
       "  <thead>\n",
       "    <tr style=\"text-align: right;\">\n",
       "      <th></th>\n",
       "      <th>meta_score</th>\n",
       "      <th>user_score</th>\n",
       "      <th>platform</th>\n",
       "      <th>genre</th>\n",
       "      <th>type</th>\n",
       "      <th>rating</th>\n",
       "    </tr>\n",
       "  </thead>\n",
       "  <tbody>\n",
       "    <tr>\n",
       "      <th>0</th>\n",
       "      <td>99.0</td>\n",
       "      <td>91.0</td>\n",
       "      <td>['nintendo-64']</td>\n",
       "      <td>['Action Adventure', 'Fantasy']</td>\n",
       "      <td>singleplayer</td>\n",
       "      <td>E</td>\n",
       "    </tr>\n",
       "    <tr>\n",
       "      <th>1</th>\n",
       "      <td>97.0</td>\n",
       "      <td>91.0</td>\n",
       "      <td>['wii']</td>\n",
       "      <td>['Action', 'Platformer', '3D']</td>\n",
       "      <td>singleplayer</td>\n",
       "      <td>E</td>\n",
       "    </tr>\n",
       "    <tr>\n",
       "      <th>2</th>\n",
       "      <td>97.0</td>\n",
       "      <td>91.0</td>\n",
       "      <td>['wii']</td>\n",
       "      <td>['Action', 'Platformer', '3D']</td>\n",
       "      <td>singleplayer</td>\n",
       "      <td>E</td>\n",
       "    </tr>\n",
       "    <tr>\n",
       "      <th>3</th>\n",
       "      <td>97.0</td>\n",
       "      <td>89.0</td>\n",
       "      <td>['gamecube']</td>\n",
       "      <td>['Action', 'Shooter', 'First-Person', 'Sci-Fi']</td>\n",
       "      <td>singleplayer</td>\n",
       "      <td>T</td>\n",
       "    </tr>\n",
       "    <tr>\n",
       "      <th>4</th>\n",
       "      <td>97.0</td>\n",
       "      <td>89.0</td>\n",
       "      <td>['switch']</td>\n",
       "      <td>['Action', 'Platformer', '3D']</td>\n",
       "      <td>singleplayer</td>\n",
       "      <td>E10+</td>\n",
       "    </tr>\n",
       "  </tbody>\n",
       "</table>\n",
       "</div>"
      ],
      "text/plain": [
       "   meta_score  user_score         platform  \\\n",
       "0        99.0        91.0  ['nintendo-64']   \n",
       "1        97.0        91.0          ['wii']   \n",
       "2        97.0        91.0          ['wii']   \n",
       "3        97.0        89.0     ['gamecube']   \n",
       "4        97.0        89.0       ['switch']   \n",
       "\n",
       "                                             genre          type rating  \n",
       "0                  ['Action Adventure', 'Fantasy']  singleplayer      E  \n",
       "1                   ['Action', 'Platformer', '3D']  singleplayer      E  \n",
       "2                   ['Action', 'Platformer', '3D']  singleplayer      E  \n",
       "3  ['Action', 'Shooter', 'First-Person', 'Sci-Fi']  singleplayer      T  \n",
       "4                   ['Action', 'Platformer', '3D']  singleplayer   E10+  "
      ]
     },
     "execution_count": 6,
     "metadata": {},
     "output_type": "execute_result"
    }
   ],
   "source": [
    "model_data = model_data.dropna()\n",
    "model_data.info()\n",
    "model_data.head(5)"
   ]
  },
  {
   "cell_type": "code",
   "execution_count": 7,
   "id": "51d7d242",
   "metadata": {},
   "outputs": [
    {
     "data": {
      "text/html": [
       "<div>\n",
       "<style scoped>\n",
       "    .dataframe tbody tr th:only-of-type {\n",
       "        vertical-align: middle;\n",
       "    }\n",
       "\n",
       "    .dataframe tbody tr th {\n",
       "        vertical-align: top;\n",
       "    }\n",
       "\n",
       "    .dataframe thead th {\n",
       "        text-align: right;\n",
       "    }\n",
       "</style>\n",
       "<table border=\"1\" class=\"dataframe\">\n",
       "  <thead>\n",
       "    <tr style=\"text-align: right;\">\n",
       "      <th></th>\n",
       "      <th>meta_score</th>\n",
       "      <th>user_score</th>\n",
       "      <th>platform</th>\n",
       "      <th>genre</th>\n",
       "      <th>type</th>\n",
       "      <th>rating</th>\n",
       "    </tr>\n",
       "  </thead>\n",
       "  <tbody>\n",
       "    <tr>\n",
       "      <th>0</th>\n",
       "      <td>99.0</td>\n",
       "      <td>91.0</td>\n",
       "      <td>nintendo-64</td>\n",
       "      <td>Action Adventure</td>\n",
       "      <td>singleplayer</td>\n",
       "      <td>E</td>\n",
       "    </tr>\n",
       "    <tr>\n",
       "      <th>1</th>\n",
       "      <td>99.0</td>\n",
       "      <td>91.0</td>\n",
       "      <td>nintendo-64</td>\n",
       "      <td>Fantasy</td>\n",
       "      <td>singleplayer</td>\n",
       "      <td>E</td>\n",
       "    </tr>\n",
       "    <tr>\n",
       "      <th>2</th>\n",
       "      <td>97.0</td>\n",
       "      <td>91.0</td>\n",
       "      <td>wii</td>\n",
       "      <td>Action</td>\n",
       "      <td>singleplayer</td>\n",
       "      <td>E</td>\n",
       "    </tr>\n",
       "    <tr>\n",
       "      <th>3</th>\n",
       "      <td>97.0</td>\n",
       "      <td>91.0</td>\n",
       "      <td>wii</td>\n",
       "      <td>Platformer</td>\n",
       "      <td>singleplayer</td>\n",
       "      <td>E</td>\n",
       "    </tr>\n",
       "    <tr>\n",
       "      <th>4</th>\n",
       "      <td>97.0</td>\n",
       "      <td>91.0</td>\n",
       "      <td>wii</td>\n",
       "      <td>3D</td>\n",
       "      <td>singleplayer</td>\n",
       "      <td>E</td>\n",
       "    </tr>\n",
       "  </tbody>\n",
       "</table>\n",
       "</div>"
      ],
      "text/plain": [
       "   meta_score  user_score     platform             genre          type rating\n",
       "0        99.0        91.0  nintendo-64  Action Adventure  singleplayer      E\n",
       "1        99.0        91.0  nintendo-64           Fantasy  singleplayer      E\n",
       "2        97.0        91.0          wii            Action  singleplayer      E\n",
       "3        97.0        91.0          wii        Platformer  singleplayer      E\n",
       "4        97.0        91.0          wii                3D  singleplayer      E"
      ]
     },
     "execution_count": 7,
     "metadata": {},
     "output_type": "execute_result"
    }
   ],
   "source": [
    "# exploding genre multiple values into individual rows\n",
    "from ast import literal_eval\n",
    "model_data['genre']=model_data['genre'].apply(literal_eval)\n",
    "model_data = model_data.explode('genre', 'true')\n",
    "# exploding platform multiple values into individual rows\n",
    "model_data['platform']=model_data['platform'].apply(literal_eval)\n",
    "model_data = model_data.explode('platform', 'true')\n",
    "model_data.head(5)"
   ]
  },
  {
   "cell_type": "code",
   "execution_count": 8,
   "id": "2d576828",
   "metadata": {},
   "outputs": [
    {
     "data": {
      "text/plain": [
       "Action              2864\n",
       "General             1885\n",
       "Action Adventure    1333\n",
       "Shooter             1096\n",
       "Role-Playing        1019\n",
       "                    ... \n",
       "Tank                   1\n",
       "Videos                 1\n",
       "Drag                   1\n",
       "Text                   1\n",
       "WWI                    1\n",
       "Name: genre, Length: 166, dtype: int64"
      ]
     },
     "execution_count": 8,
     "metadata": {},
     "output_type": "execute_result"
    }
   ],
   "source": [
    "model_data['genre'].value_counts()"
   ]
  },
  {
   "cell_type": "code",
   "execution_count": 9,
   "id": "a81234ff",
   "metadata": {},
   "outputs": [],
   "source": [
    "#should we remove the genre values which have less data ?\n",
    "sub_model_data = model_data[model_data.groupby('genre').genre.transform('count')>500].copy()"
   ]
  },
  {
   "cell_type": "code",
   "execution_count": 10,
   "id": "17e17fe3",
   "metadata": {},
   "outputs": [
    {
     "name": "stdout",
     "output_type": "stream",
     "text": [
      "<class 'pandas.core.frame.DataFrame'>\n",
      "Int64Index: 17487 entries, 0 to 28051\n",
      "Data columns (total 6 columns):\n",
      " #   Column      Non-Null Count  Dtype  \n",
      "---  ------      --------------  -----  \n",
      " 0   meta_score  17487 non-null  float64\n",
      " 1   user_score  17487 non-null  float64\n",
      " 2   platform    17487 non-null  object \n",
      " 3   genre       17487 non-null  object \n",
      " 4   type        17487 non-null  object \n",
      " 5   rating      17487 non-null  object \n",
      "dtypes: float64(2), object(4)\n",
      "memory usage: 956.3+ KB\n"
     ]
    },
    {
     "data": {
      "text/plain": [
       "Action              2864\n",
       "General             1885\n",
       "Action Adventure    1333\n",
       "Shooter             1096\n",
       "Role-Playing        1019\n",
       "Sports               907\n",
       "Arcade               902\n",
       "Miscellaneous        808\n",
       "First-Person         753\n",
       "3D                   690\n",
       "Strategy             658\n",
       "Platformer           638\n",
       "2D                   618\n",
       "Racing               574\n",
       "Traditional          567\n",
       "Sci-Fi               555\n",
       "Adventure            550\n",
       "Modern               542\n",
       "Fantasy              528\n",
       "Name: genre, dtype: int64"
      ]
     },
     "execution_count": 10,
     "metadata": {},
     "output_type": "execute_result"
    }
   ],
   "source": [
    "sub_model_data.info()\n",
    "sub_model_data['genre'].value_counts()"
   ]
  },
  {
   "cell_type": "code",
   "execution_count": 11,
   "id": "1ff40138",
   "metadata": {},
   "outputs": [
    {
     "data": {
      "text/plain": [
       "19"
      ]
     },
     "execution_count": 11,
     "metadata": {},
     "output_type": "execute_result"
    }
   ],
   "source": [
    "sub_model_data['genre'].nunique()"
   ]
  },
  {
   "cell_type": "code",
   "execution_count": 12,
   "id": "d3d7b423",
   "metadata": {},
   "outputs": [
    {
     "data": {
      "text/plain": [
       "pc                  3839\n",
       "playstation-4       1768\n",
       "xbox-360            1752\n",
       "playstation-2       1492\n",
       "playstation-3       1460\n",
       "switch              1371\n",
       "xbox                 929\n",
       "xbox-one             907\n",
       "ds                   766\n",
       "wii                  707\n",
       "psp                  569\n",
       "gamecube             557\n",
       "game-boy-advance     460\n",
       "3ds                  229\n",
       "playstation-vita     205\n",
       "playstation          160\n",
       "wii-u                125\n",
       "nintendo-64           74\n",
       "playstation-5         69\n",
       "xbox-series-x         30\n",
       "dreamcast             15\n",
       "stadia                 3\n",
       "Name: platform, dtype: int64"
      ]
     },
     "execution_count": 12,
     "metadata": {},
     "output_type": "execute_result"
    }
   ],
   "source": [
    "sub_model_data['platform'].value_counts()"
   ]
  },
  {
   "cell_type": "code",
   "execution_count": 13,
   "id": "623b1663",
   "metadata": {},
   "outputs": [],
   "source": [
    "#should we replace multiple similar platform values to a single value e.g ps1,ps2 as ps\n",
    "sub_model_data['platform']=sub_model_data['platform'].replace(['playstation-4','playstation-3','playstation-2',\n",
    "                                                               'playstation-vita','playstation-5'],'playstation')\n",
    "sub_model_data['platform']=sub_model_data['platform'].replace(['xbox-360','xbox-one','xbox-series-x'],'xbox')\n",
    "sub_model_data['platform']=sub_model_data['platform'].replace(['wii-u'],'wii')"
   ]
  },
  {
   "cell_type": "code",
   "execution_count": 14,
   "id": "9789aa13",
   "metadata": {},
   "outputs": [
    {
     "data": {
      "text/plain": [
       "playstation         5154\n",
       "pc                  3839\n",
       "xbox                3618\n",
       "switch              1371\n",
       "wii                  832\n",
       "ds                   766\n",
       "psp                  569\n",
       "gamecube             557\n",
       "game-boy-advance     460\n",
       "3ds                  229\n",
       "nintendo-64           74\n",
       "dreamcast             15\n",
       "stadia                 3\n",
       "Name: platform, dtype: int64"
      ]
     },
     "execution_count": 14,
     "metadata": {},
     "output_type": "execute_result"
    }
   ],
   "source": [
    "sub_model_data['platform'].value_counts()"
   ]
  },
  {
   "cell_type": "code",
   "execution_count": 15,
   "id": "2af8d5d0",
   "metadata": {},
   "outputs": [],
   "source": [
    "#hot encoding\n",
    "encoded_sub_model_data= pd.get_dummies(sub_model_data, columns=['platform','genre','type','rating'],prefix=['platform','genre','type','rating'])"
   ]
  },
  {
   "cell_type": "code",
   "execution_count": 16,
   "id": "16cc16d0",
   "metadata": {},
   "outputs": [
    {
     "name": "stdout",
     "output_type": "stream",
     "text": [
      "<class 'pandas.core.frame.DataFrame'>\n",
      "Int64Index: 17487 entries, 0 to 28051\n",
      "Data columns (total 43 columns):\n",
      " #   Column                     Non-Null Count  Dtype  \n",
      "---  ------                     --------------  -----  \n",
      " 0   meta_score                 17487 non-null  float64\n",
      " 1   user_score                 17487 non-null  float64\n",
      " 2   platform_3ds               17487 non-null  uint8  \n",
      " 3   platform_dreamcast         17487 non-null  uint8  \n",
      " 4   platform_ds                17487 non-null  uint8  \n",
      " 5   platform_game-boy-advance  17487 non-null  uint8  \n",
      " 6   platform_gamecube          17487 non-null  uint8  \n",
      " 7   platform_nintendo-64       17487 non-null  uint8  \n",
      " 8   platform_pc                17487 non-null  uint8  \n",
      " 9   platform_playstation       17487 non-null  uint8  \n",
      " 10  platform_psp               17487 non-null  uint8  \n",
      " 11  platform_stadia            17487 non-null  uint8  \n",
      " 12  platform_switch            17487 non-null  uint8  \n",
      " 13  platform_wii               17487 non-null  uint8  \n",
      " 14  platform_xbox              17487 non-null  uint8  \n",
      " 15  genre_2D                   17487 non-null  uint8  \n",
      " 16  genre_3D                   17487 non-null  uint8  \n",
      " 17  genre_Action               17487 non-null  uint8  \n",
      " 18  genre_Action Adventure     17487 non-null  uint8  \n",
      " 19  genre_Adventure            17487 non-null  uint8  \n",
      " 20  genre_Arcade               17487 non-null  uint8  \n",
      " 21  genre_Fantasy              17487 non-null  uint8  \n",
      " 22  genre_First-Person         17487 non-null  uint8  \n",
      " 23  genre_General              17487 non-null  uint8  \n",
      " 24  genre_Miscellaneous        17487 non-null  uint8  \n",
      " 25  genre_Modern               17487 non-null  uint8  \n",
      " 26  genre_Platformer           17487 non-null  uint8  \n",
      " 27  genre_Racing               17487 non-null  uint8  \n",
      " 28  genre_Role-Playing         17487 non-null  uint8  \n",
      " 29  genre_Sci-Fi               17487 non-null  uint8  \n",
      " 30  genre_Shooter              17487 non-null  uint8  \n",
      " 31  genre_Sports               17487 non-null  uint8  \n",
      " 32  genre_Strategy             17487 non-null  uint8  \n",
      " 33  genre_Traditional          17487 non-null  uint8  \n",
      " 34  type_multiplayer           17487 non-null  uint8  \n",
      " 35  type_singleplayer          17487 non-null  uint8  \n",
      " 36  rating_AO                  17487 non-null  uint8  \n",
      " 37  rating_E                   17487 non-null  uint8  \n",
      " 38  rating_E10+                17487 non-null  uint8  \n",
      " 39  rating_K-A                 17487 non-null  uint8  \n",
      " 40  rating_M                   17487 non-null  uint8  \n",
      " 41  rating_RP                  17487 non-null  uint8  \n",
      " 42  rating_T                   17487 non-null  uint8  \n",
      "dtypes: float64(2), uint8(41)\n",
      "memory usage: 1.1 MB\n"
     ]
    }
   ],
   "source": [
    "encoded_sub_model_data.info()"
   ]
  },
  {
   "cell_type": "code",
   "execution_count": 17,
   "id": "a53598a8",
   "metadata": {},
   "outputs": [],
   "source": [
    "from sklearn.model_selection import train_test_split\n",
    "X = encoded_sub_model_data.drop(columns=['user_score','meta_score']).values\n",
    "y = encoded_sub_model_data[['user_score']].values"
   ]
  },
  {
   "cell_type": "code",
   "execution_count": 19,
   "id": "b6410d89",
   "metadata": {},
   "outputs": [],
   "source": [
    "X_train, X_test, y_train, y_test = train_test_split(X, y, test_size=0.40, random_state=42)"
   ]
  },
  {
   "cell_type": "code",
   "execution_count": 20,
   "id": "3f638618",
   "metadata": {},
   "outputs": [
    {
     "name": "stderr",
     "output_type": "stream",
     "text": [
      "C:\\spring22\\anaconda3\\envs\\255_project\\lib\\site-packages\\tensorflow\\python\\framework\\dtypes.py:516: FutureWarning: Passing (type, 1) or '1type' as a synonym of type is deprecated; in a future version of numpy, it will be understood as (type, (1,)) / '(1,)type'.\n",
      "  _np_qint8 = np.dtype([(\"qint8\", np.int8, 1)])\n",
      "C:\\spring22\\anaconda3\\envs\\255_project\\lib\\site-packages\\tensorflow\\python\\framework\\dtypes.py:517: FutureWarning: Passing (type, 1) or '1type' as a synonym of type is deprecated; in a future version of numpy, it will be understood as (type, (1,)) / '(1,)type'.\n",
      "  _np_quint8 = np.dtype([(\"quint8\", np.uint8, 1)])\n",
      "C:\\spring22\\anaconda3\\envs\\255_project\\lib\\site-packages\\tensorflow\\python\\framework\\dtypes.py:518: FutureWarning: Passing (type, 1) or '1type' as a synonym of type is deprecated; in a future version of numpy, it will be understood as (type, (1,)) / '(1,)type'.\n",
      "  _np_qint16 = np.dtype([(\"qint16\", np.int16, 1)])\n",
      "C:\\spring22\\anaconda3\\envs\\255_project\\lib\\site-packages\\tensorflow\\python\\framework\\dtypes.py:519: FutureWarning: Passing (type, 1) or '1type' as a synonym of type is deprecated; in a future version of numpy, it will be understood as (type, (1,)) / '(1,)type'.\n",
      "  _np_quint16 = np.dtype([(\"quint16\", np.uint16, 1)])\n",
      "C:\\spring22\\anaconda3\\envs\\255_project\\lib\\site-packages\\tensorflow\\python\\framework\\dtypes.py:520: FutureWarning: Passing (type, 1) or '1type' as a synonym of type is deprecated; in a future version of numpy, it will be understood as (type, (1,)) / '(1,)type'.\n",
      "  _np_qint32 = np.dtype([(\"qint32\", np.int32, 1)])\n",
      "C:\\spring22\\anaconda3\\envs\\255_project\\lib\\site-packages\\tensorflow\\python\\framework\\dtypes.py:525: FutureWarning: Passing (type, 1) or '1type' as a synonym of type is deprecated; in a future version of numpy, it will be understood as (type, (1,)) / '(1,)type'.\n",
      "  np_resource = np.dtype([(\"resource\", np.ubyte, 1)])\n",
      "C:\\spring22\\anaconda3\\envs\\255_project\\lib\\site-packages\\tensorboard\\compat\\tensorflow_stub\\dtypes.py:541: FutureWarning: Passing (type, 1) or '1type' as a synonym of type is deprecated; in a future version of numpy, it will be understood as (type, (1,)) / '(1,)type'.\n",
      "  _np_qint8 = np.dtype([(\"qint8\", np.int8, 1)])\n",
      "C:\\spring22\\anaconda3\\envs\\255_project\\lib\\site-packages\\tensorboard\\compat\\tensorflow_stub\\dtypes.py:542: FutureWarning: Passing (type, 1) or '1type' as a synonym of type is deprecated; in a future version of numpy, it will be understood as (type, (1,)) / '(1,)type'.\n",
      "  _np_quint8 = np.dtype([(\"quint8\", np.uint8, 1)])\n",
      "C:\\spring22\\anaconda3\\envs\\255_project\\lib\\site-packages\\tensorboard\\compat\\tensorflow_stub\\dtypes.py:543: FutureWarning: Passing (type, 1) or '1type' as a synonym of type is deprecated; in a future version of numpy, it will be understood as (type, (1,)) / '(1,)type'.\n",
      "  _np_qint16 = np.dtype([(\"qint16\", np.int16, 1)])\n",
      "C:\\spring22\\anaconda3\\envs\\255_project\\lib\\site-packages\\tensorboard\\compat\\tensorflow_stub\\dtypes.py:544: FutureWarning: Passing (type, 1) or '1type' as a synonym of type is deprecated; in a future version of numpy, it will be understood as (type, (1,)) / '(1,)type'.\n",
      "  _np_quint16 = np.dtype([(\"quint16\", np.uint16, 1)])\n",
      "C:\\spring22\\anaconda3\\envs\\255_project\\lib\\site-packages\\tensorboard\\compat\\tensorflow_stub\\dtypes.py:545: FutureWarning: Passing (type, 1) or '1type' as a synonym of type is deprecated; in a future version of numpy, it will be understood as (type, (1,)) / '(1,)type'.\n",
      "  _np_qint32 = np.dtype([(\"qint32\", np.int32, 1)])\n",
      "C:\\spring22\\anaconda3\\envs\\255_project\\lib\\site-packages\\tensorboard\\compat\\tensorflow_stub\\dtypes.py:550: FutureWarning: Passing (type, 1) or '1type' as a synonym of type is deprecated; in a future version of numpy, it will be understood as (type, (1,)) / '(1,)type'.\n",
      "  np_resource = np.dtype([(\"resource\", np.ubyte, 1)])\n"
     ]
    },
    {
     "name": "stdout",
     "output_type": "stream",
     "text": [
      "WARNING:tensorflow:From C:\\spring22\\anaconda3\\envs\\255_project\\lib\\site-packages\\tensorflow\\python\\ops\\init_ops.py:1251: calling VarianceScaling.__init__ (from tensorflow.python.ops.init_ops) with dtype is deprecated and will be removed in a future version.\n",
      "Instructions for updating:\n",
      "Call initializer instance with the dtype argument instead of passing it to the constructor\n"
     ]
    }
   ],
   "source": [
    "#Tensor flow linear regression model\n",
    "import tensorflow as tf\n",
    "from tensorflow.keras.models import Sequential\n",
    "from tensorflow.keras.layers import Dense, Activation,Dropout\n",
    "from tensorflow.keras.constraints import max_norm\n",
    "model = Sequential()\n",
    "model.add(Dense(1,activation='relu'))\n",
    "\n",
    "\n",
    "\n",
    "model.compile(optimizer='sgd',loss='mse')"
   ]
  },
  {
   "cell_type": "code",
   "execution_count": 21,
   "id": "bdc50a11",
   "metadata": {},
   "outputs": [
    {
     "name": "stdout",
     "output_type": "stream",
     "text": [
      "Train on 10492 samples, validate on 6995 samples\n",
      "Epoch 1/300\n",
      "10492/10492 [==============================] - 0s 42us/sample - loss: 1685.3779 - val_loss: 359.0244\n",
      "Epoch 2/300\n",
      "10492/10492 [==============================] - 0s 15us/sample - loss: 217.7962 - val_loss: 167.8346\n",
      "Epoch 3/300\n",
      "10492/10492 [==============================] - 0s 24us/sample - loss: 164.3661 - val_loss: 159.0344\n",
      "Epoch 4/300\n",
      "10492/10492 [==============================] - 0s 21us/sample - loss: 162.3498 - val_loss: 158.3950\n",
      "Epoch 5/300\n",
      "10492/10492 [==============================] - 0s 23us/sample - loss: 162.2813 - val_loss: 158.3244\n",
      "Epoch 6/300\n",
      "10492/10492 [==============================] - 0s 23us/sample - loss: 162.2786 - val_loss: 158.2657\n",
      "Epoch 7/300\n",
      "10492/10492 [==============================] - 0s 24us/sample - loss: 162.2676 - val_loss: 158.2898\n",
      "Epoch 8/300\n",
      "10492/10492 [==============================] - 0s 24us/sample - loss: 162.2677 - val_loss: 158.2779\n",
      "Epoch 9/300\n",
      "10492/10492 [==============================] - 0s 23us/sample - loss: 162.2708 - val_loss: 158.2661\n",
      "Epoch 10/300\n",
      "10492/10492 [==============================] - 0s 21us/sample - loss: 162.2632 - val_loss: 158.3868\n",
      "Epoch 11/300\n",
      "10492/10492 [==============================] - 0s 23us/sample - loss: 162.2813 - val_loss: 158.2554\n",
      "Epoch 12/300\n",
      "10492/10492 [==============================] - 0s 23us/sample - loss: 162.2636 - val_loss: 158.1921\n",
      "Epoch 13/300\n",
      "10492/10492 [==============================] - 0s 21us/sample - loss: 162.2796 - val_loss: 158.2494\n",
      "Epoch 14/300\n",
      "10492/10492 [==============================] - 0s 18us/sample - loss: 162.2758 - val_loss: 158.2181\n",
      "Epoch 15/300\n",
      "10492/10492 [==============================] - 0s 22us/sample - loss: 162.2577 - val_loss: 158.3476\n",
      "Epoch 16/300\n",
      "10492/10492 [==============================] - 0s 20us/sample - loss: 162.2759 - val_loss: 158.3148\n",
      "Epoch 17/300\n",
      "10492/10492 [==============================] - 0s 20us/sample - loss: 162.2872 - val_loss: 158.1968\n",
      "Epoch 18/300\n",
      "10492/10492 [==============================] - 0s 21us/sample - loss: 162.2689 - val_loss: 158.2620\n",
      "Epoch 19/300\n",
      "10492/10492 [==============================] - 0s 19us/sample - loss: 162.2738 - val_loss: 158.1952\n",
      "Epoch 20/300\n",
      "10492/10492 [==============================] - 0s 20us/sample - loss: 162.2760 - val_loss: 158.1984\n",
      "Epoch 21/300\n",
      "10492/10492 [==============================] - 0s 21us/sample - loss: 162.2740 - val_loss: 158.2020\n",
      "Epoch 22/300\n",
      "10492/10492 [==============================] - 0s 22us/sample - loss: 162.2727 - val_loss: 158.1693\n",
      "Epoch 23/300\n",
      "10492/10492 [==============================] - 0s 20us/sample - loss: 162.2647 - val_loss: 158.2376\n",
      "Epoch 24/300\n",
      "10492/10492 [==============================] - 0s 20us/sample - loss: 162.2784 - val_loss: 158.2783\n",
      "Epoch 25/300\n",
      "10492/10492 [==============================] - 0s 21us/sample - loss: 162.2718 - val_loss: 158.2598\n",
      "Epoch 26/300\n",
      "10492/10492 [==============================] - 0s 20us/sample - loss: 162.2700 - val_loss: 158.1975\n",
      "Epoch 27/300\n",
      "10492/10492 [==============================] - 0s 20us/sample - loss: 162.2707 - val_loss: 158.1550\n",
      "Epoch 28/300\n",
      "10492/10492 [==============================] - 0s 22us/sample - loss: 162.2765 - val_loss: 158.1571\n",
      "Epoch 29/300\n",
      "10492/10492 [==============================] - 0s 20us/sample - loss: 162.2824 - val_loss: 158.1605\n",
      "Epoch 30/300\n",
      "10492/10492 [==============================] - 0s 21us/sample - loss: 162.2708 - val_loss: 158.1532\n",
      "Epoch 31/300\n",
      "10492/10492 [==============================] - 0s 21us/sample - loss: 162.2772 - val_loss: 158.1839\n",
      "Epoch 32/300\n",
      "10492/10492 [==============================] - 0s 21us/sample - loss: 162.2743 - val_loss: 158.1599\n",
      "Epoch 33/300\n",
      "10492/10492 [==============================] - 0s 20us/sample - loss: 162.2716 - val_loss: 158.1724\n",
      "Epoch 34/300\n",
      "10492/10492 [==============================] - 0s 20us/sample - loss: 162.2705 - val_loss: 158.1959\n",
      "Epoch 35/300\n",
      "10492/10492 [==============================] - 0s 21us/sample - loss: 162.2730 - val_loss: 158.1452\n",
      "Epoch 36/300\n",
      "10492/10492 [==============================] - 0s 21us/sample - loss: 162.2779 - val_loss: 158.1641\n",
      "Epoch 37/300\n",
      "10492/10492 [==============================] - 0s 19us/sample - loss: 162.2736 - val_loss: 158.1213\n",
      "Epoch 38/300\n",
      "10492/10492 [==============================] - 0s 22us/sample - loss: 162.2763 - val_loss: 158.1017\n",
      "Epoch 39/300\n",
      "10492/10492 [==============================] - 0s 19us/sample - loss: 162.2674 - val_loss: 158.0512\n",
      "Epoch 40/300\n",
      "10492/10492 [==============================] - 0s 21us/sample - loss: 162.2752 - val_loss: 158.1174\n",
      "Epoch 41/300\n",
      "10492/10492 [==============================] - 0s 21us/sample - loss: 162.2742 - val_loss: 158.0515\n",
      "Epoch 42/300\n",
      "10492/10492 [==============================] - 0s 20us/sample - loss: 162.2767 - val_loss: 158.0570\n",
      "Epoch 43/300\n",
      "10492/10492 [==============================] - 0s 21us/sample - loss: 162.2783 - val_loss: 158.0309\n",
      "Epoch 44/300\n",
      "10492/10492 [==============================] - 0s 20us/sample - loss: 162.2735 - val_loss: 158.1012\n",
      "Epoch 45/300\n",
      "10492/10492 [==============================] - 0s 23us/sample - loss: 162.2660 - val_loss: 158.0472\n",
      "Epoch 46/300\n",
      "10492/10492 [==============================] - 0s 23us/sample - loss: 162.2720 - val_loss: 158.1336\n",
      "Epoch 47/300\n",
      "10492/10492 [==============================] - 0s 27us/sample - loss: 162.2800 - val_loss: 158.1472\n",
      "Epoch 48/300\n",
      "10492/10492 [==============================] - 0s 26us/sample - loss: 162.2668 - val_loss: 158.1474\n",
      "Epoch 49/300\n",
      "10492/10492 [==============================] - 0s 26us/sample - loss: 162.2718 - val_loss: 158.0644\n",
      "Epoch 50/300\n",
      "10492/10492 [==============================] - 0s 25us/sample - loss: 162.2768 - val_loss: 158.0397\n",
      "Epoch 51/300\n",
      "10492/10492 [==============================] - 0s 24us/sample - loss: 162.2747 - val_loss: 158.0794\n",
      "Epoch 52/300\n",
      "10492/10492 [==============================] - 0s 20us/sample - loss: 162.2695 - val_loss: 158.0979\n",
      "Epoch 53/300\n",
      "10492/10492 [==============================] - 0s 18us/sample - loss: 162.2756 - val_loss: 158.1117\n",
      "Epoch 54/300\n",
      "10492/10492 [==============================] - 0s 20us/sample - loss: 162.2693 - val_loss: 158.0007\n",
      "Epoch 55/300\n",
      "10492/10492 [==============================] - 0s 20us/sample - loss: 162.2708 - val_loss: 158.0400\n",
      "Epoch 56/300\n",
      "10492/10492 [==============================] - 0s 20us/sample - loss: 162.2658 - val_loss: 158.0120\n",
      "Epoch 57/300\n",
      "10492/10492 [==============================] - 0s 21us/sample - loss: 162.2694 - val_loss: 158.0931\n",
      "Epoch 58/300\n",
      "10492/10492 [==============================] - 0s 20us/sample - loss: 162.2731 - val_loss: 158.0630\n",
      "Epoch 59/300\n",
      "10492/10492 [==============================] - 0s 20us/sample - loss: 162.2714 - val_loss: 158.0788\n",
      "Epoch 60/300\n",
      "10492/10492 [==============================] - 0s 19us/sample - loss: 162.2713 - val_loss: 158.0879\n",
      "Epoch 61/300\n",
      "10492/10492 [==============================] - 0s 20us/sample - loss: 162.2740 - val_loss: 158.1022\n",
      "Epoch 62/300\n",
      "10492/10492 [==============================] - 0s 21us/sample - loss: 162.2700 - val_loss: 158.0664\n",
      "Epoch 63/300\n",
      "10492/10492 [==============================] - 0s 20us/sample - loss: 162.2708 - val_loss: 158.0382\n",
      "Epoch 64/300\n",
      "10492/10492 [==============================] - 0s 19us/sample - loss: 162.2737 - val_loss: 158.0054\n",
      "Epoch 65/300\n",
      "10492/10492 [==============================] - 0s 20us/sample - loss: 162.2739 - val_loss: 158.0080\n",
      "Epoch 66/300\n",
      "10492/10492 [==============================] - 0s 21us/sample - loss: 162.2750 - val_loss: 158.0397\n",
      "Epoch 67/300\n",
      "10492/10492 [==============================] - 0s 18us/sample - loss: 162.2673 - val_loss: 158.0311\n",
      "Epoch 68/300\n",
      "10492/10492 [==============================] - 0s 20us/sample - loss: 162.2707 - val_loss: 158.0251\n",
      "Epoch 69/300\n",
      "10492/10492 [==============================] - 0s 19us/sample - loss: 162.2653 - val_loss: 158.0941\n",
      "Epoch 70/300\n",
      "10492/10492 [==============================] - 0s 22us/sample - loss: 162.2737 - val_loss: 157.9955\n",
      "Epoch 71/300\n",
      "10492/10492 [==============================] - 0s 24us/sample - loss: 162.2674 - val_loss: 158.0653\n",
      "Epoch 72/300\n",
      "10492/10492 [==============================] - 0s 23us/sample - loss: 162.2748 - val_loss: 158.0185\n",
      "Epoch 73/300\n"
     ]
    },
    {
     "name": "stdout",
     "output_type": "stream",
     "text": [
      "10492/10492 [==============================] - 0s 23us/sample - loss: 162.2738 - val_loss: 157.9673\n",
      "Epoch 74/300\n",
      "10492/10492 [==============================] - 0s 24us/sample - loss: 162.2679 - val_loss: 157.9397\n",
      "Epoch 75/300\n",
      "10492/10492 [==============================] - 0s 24us/sample - loss: 162.2770 - val_loss: 157.9284\n",
      "Epoch 76/300\n",
      "10492/10492 [==============================] - 0s 22us/sample - loss: 162.2739 - val_loss: 157.9309\n",
      "Epoch 77/300\n",
      "10492/10492 [==============================] - 0s 24us/sample - loss: 162.2638 - val_loss: 157.8598\n",
      "Epoch 78/300\n",
      "10492/10492 [==============================] - 0s 24us/sample - loss: 162.2729 - val_loss: 157.9126\n",
      "Epoch 79/300\n",
      "10492/10492 [==============================] - 0s 26us/sample - loss: 162.2891 - val_loss: 157.9289\n",
      "Epoch 80/300\n",
      "10492/10492 [==============================] - 0s 24us/sample - loss: 162.2727 - val_loss: 157.9556\n",
      "Epoch 81/300\n",
      "10492/10492 [==============================] - 0s 24us/sample - loss: 162.2643 - val_loss: 158.0326\n",
      "Epoch 82/300\n",
      "10492/10492 [==============================] - 0s 23us/sample - loss: 162.2608 - val_loss: 158.0406\n",
      "Epoch 83/300\n",
      "10492/10492 [==============================] - 0s 23us/sample - loss: 162.2752 - val_loss: 157.9626\n",
      "Epoch 84/300\n",
      "10492/10492 [==============================] - 0s 23us/sample - loss: 162.2784 - val_loss: 157.9616\n",
      "Epoch 85/300\n",
      "10492/10492 [==============================] - 0s 22us/sample - loss: 162.2737 - val_loss: 157.9169\n",
      "Epoch 86/300\n",
      "10492/10492 [==============================] - 0s 23us/sample - loss: 162.2739 - val_loss: 157.9099\n",
      "Epoch 87/300\n",
      "10492/10492 [==============================] - 0s 23us/sample - loss: 162.2627 - val_loss: 157.8438\n",
      "Epoch 88/300\n",
      "10492/10492 [==============================] - 0s 21us/sample - loss: 162.2733 - val_loss: 157.9059\n",
      "Epoch 89/300\n",
      "10492/10492 [==============================] - 0s 21us/sample - loss: 162.2719 - val_loss: 157.9386\n",
      "Epoch 90/300\n",
      "10492/10492 [==============================] - 0s 21us/sample - loss: 162.2554 - val_loss: 157.8203\n",
      "Epoch 91/300\n",
      "10492/10492 [==============================] - 0s 20us/sample - loss: 162.2752 - val_loss: 157.9207\n",
      "Epoch 92/300\n",
      "10492/10492 [==============================] - 0s 21us/sample - loss: 162.2685 - val_loss: 157.9461\n",
      "Epoch 93/300\n",
      "10492/10492 [==============================] - 0s 20us/sample - loss: 162.2799 - val_loss: 157.9219\n",
      "Epoch 94/300\n",
      "10492/10492 [==============================] - 0s 21us/sample - loss: 162.2663 - val_loss: 157.8801\n",
      "Epoch 95/300\n",
      "10492/10492 [==============================] - 0s 21us/sample - loss: 162.2738 - val_loss: 157.8966\n",
      "Epoch 96/300\n",
      "10492/10492 [==============================] - 0s 21us/sample - loss: 162.2682 - val_loss: 158.0008\n",
      "Epoch 97/300\n",
      "10492/10492 [==============================] - 0s 21us/sample - loss: 162.2611 - val_loss: 158.0360\n",
      "Epoch 98/300\n",
      "10492/10492 [==============================] - 0s 21us/sample - loss: 162.2700 - val_loss: 157.8721\n",
      "Epoch 99/300\n",
      "10492/10492 [==============================] - 0s 20us/sample - loss: 162.2735 - val_loss: 157.8157\n",
      "Epoch 100/300\n",
      "10492/10492 [==============================] - 0s 21us/sample - loss: 162.2760 - val_loss: 157.8440\n",
      "Epoch 101/300\n",
      "10492/10492 [==============================] - 0s 21us/sample - loss: 162.2718 - val_loss: 157.8332\n",
      "Epoch 102/300\n",
      "10492/10492 [==============================] - 0s 20us/sample - loss: 162.2683 - val_loss: 157.8055\n",
      "Epoch 103/300\n",
      "10492/10492 [==============================] - 0s 21us/sample - loss: 162.2709 - val_loss: 157.8820\n",
      "Epoch 104/300\n",
      "10492/10492 [==============================] - 0s 21us/sample - loss: 162.2680 - val_loss: 157.8418\n",
      "Epoch 105/300\n",
      "10492/10492 [==============================] - 0s 21us/sample - loss: 162.2722 - val_loss: 157.8680\n",
      "Epoch 106/300\n",
      "10492/10492 [==============================] - 0s 21us/sample - loss: 162.2765 - val_loss: 157.8459\n",
      "Epoch 107/300\n",
      "10492/10492 [==============================] - 0s 21us/sample - loss: 162.2682 - val_loss: 157.8404\n",
      "Epoch 108/300\n",
      "10492/10492 [==============================] - 0s 21us/sample - loss: 162.2668 - val_loss: 157.8393\n",
      "Epoch 109/300\n",
      "10492/10492 [==============================] - 0s 21us/sample - loss: 162.2687 - val_loss: 157.8247\n",
      "Epoch 110/300\n",
      "10492/10492 [==============================] - 0s 21us/sample - loss: 162.2661 - val_loss: 157.8172\n",
      "Epoch 111/300\n",
      "10492/10492 [==============================] - 0s 21us/sample - loss: 162.2754 - val_loss: 157.7763\n",
      "Epoch 112/300\n",
      "10492/10492 [==============================] - 0s 21us/sample - loss: 162.2742 - val_loss: 157.8411\n",
      "Epoch 113/300\n",
      "10492/10492 [==============================] - 0s 21us/sample - loss: 162.2752 - val_loss: 157.8575\n",
      "Epoch 114/300\n",
      "10492/10492 [==============================] - 0s 21us/sample - loss: 162.2694 - val_loss: 157.8420\n",
      "Epoch 115/300\n",
      "10492/10492 [==============================] - 0s 21us/sample - loss: 162.2732 - val_loss: 157.8674\n",
      "Epoch 116/300\n",
      "10492/10492 [==============================] - 0s 20us/sample - loss: 162.2691 - val_loss: 157.7957\n",
      "Epoch 117/300\n",
      "10492/10492 [==============================] - 0s 20us/sample - loss: 162.2743 - val_loss: 157.7965\n",
      "Epoch 118/300\n",
      "10492/10492 [==============================] - 0s 21us/sample - loss: 162.2705 - val_loss: 157.7956\n",
      "Epoch 119/300\n",
      "10492/10492 [==============================] - 0s 21us/sample - loss: 162.2696 - val_loss: 157.8262\n",
      "Epoch 120/300\n",
      "10492/10492 [==============================] - 0s 21us/sample - loss: 162.2660 - val_loss: 157.7642\n",
      "Epoch 121/300\n",
      "10492/10492 [==============================] - 0s 21us/sample - loss: 162.2701 - val_loss: 157.8119\n",
      "Epoch 122/300\n",
      "10492/10492 [==============================] - 0s 20us/sample - loss: 162.2666 - val_loss: 157.7643\n",
      "Epoch 123/300\n",
      "10492/10492 [==============================] - 0s 21us/sample - loss: 162.2747 - val_loss: 157.7867\n",
      "Epoch 124/300\n",
      "10492/10492 [==============================] - 0s 21us/sample - loss: 162.2672 - val_loss: 157.8411\n",
      "Epoch 125/300\n",
      "10492/10492 [==============================] - 0s 20us/sample - loss: 162.2620 - val_loss: 157.8156\n",
      "Epoch 126/300\n",
      "10492/10492 [==============================] - 0s 18us/sample - loss: 162.2697 - val_loss: 157.8018\n",
      "Epoch 127/300\n",
      "10492/10492 [==============================] - 0s 19us/sample - loss: 162.2698 - val_loss: 157.7474\n",
      "Epoch 128/300\n",
      "10492/10492 [==============================] - 0s 19us/sample - loss: 162.2785 - val_loss: 157.7800\n",
      "Epoch 129/300\n",
      "10492/10492 [==============================] - 0s 19us/sample - loss: 162.2708 - val_loss: 157.7632\n",
      "Epoch 130/300\n",
      "10492/10492 [==============================] - 0s 19us/sample - loss: 162.2700 - val_loss: 157.7403\n",
      "Epoch 131/300\n",
      "10492/10492 [==============================] - 0s 20us/sample - loss: 162.2698 - val_loss: 157.7380\n",
      "Epoch 132/300\n",
      "10492/10492 [==============================] - 0s 20us/sample - loss: 162.2739 - val_loss: 157.7649\n",
      "Epoch 133/300\n",
      "10492/10492 [==============================] - 0s 22us/sample - loss: 162.2745 - val_loss: 157.7953\n",
      "Epoch 134/300\n",
      "10492/10492 [==============================] - 0s 18us/sample - loss: 162.2699 - val_loss: 157.7179\n",
      "Epoch 135/300\n",
      "10492/10492 [==============================] - 0s 20us/sample - loss: 162.2751 - val_loss: 157.7673\n",
      "Epoch 136/300\n",
      "10492/10492 [==============================] - 0s 21us/sample - loss: 162.2673 - val_loss: 157.7624\n",
      "Epoch 137/300\n",
      "10492/10492 [==============================] - 0s 23us/sample - loss: 162.2766 - val_loss: 157.7412\n",
      "Epoch 138/300\n",
      "10492/10492 [==============================] - 0s 23us/sample - loss: 162.2548 - val_loss: 157.8654\n",
      "Epoch 139/300\n",
      "10492/10492 [==============================] - 0s 23us/sample - loss: 162.2681 - val_loss: 157.6985\n",
      "Epoch 140/300\n",
      "10492/10492 [==============================] - 0s 21us/sample - loss: 162.2595 - val_loss: 157.8957\n",
      "Epoch 141/300\n",
      "10492/10492 [==============================] - 0s 20us/sample - loss: 162.2709 - val_loss: 157.8527\n",
      "Epoch 142/300\n",
      "10492/10492 [==============================] - 0s 21us/sample - loss: 162.2765 - val_loss: 157.7963\n",
      "Epoch 143/300\n",
      "10492/10492 [==============================] - 0s 21us/sample - loss: 162.2695 - val_loss: 157.7195\n",
      "Epoch 144/300\n",
      "10492/10492 [==============================] - 0s 21us/sample - loss: 162.2759 - val_loss: 157.7197\n",
      "Epoch 145/300\n"
     ]
    },
    {
     "name": "stdout",
     "output_type": "stream",
     "text": [
      "10492/10492 [==============================] - 0s 20us/sample - loss: 162.2715 - val_loss: 157.7533\n",
      "Epoch 146/300\n",
      "10492/10492 [==============================] - 0s 24us/sample - loss: 162.2692 - val_loss: 157.7092\n",
      "Epoch 147/300\n",
      "10492/10492 [==============================] - 0s 22us/sample - loss: 162.2673 - val_loss: 157.7447\n",
      "Epoch 148/300\n",
      "10492/10492 [==============================] - 0s 23us/sample - loss: 162.2698 - val_loss: 157.6727\n",
      "Epoch 149/300\n",
      "10492/10492 [==============================] - 0s 22us/sample - loss: 162.2723 - val_loss: 157.7244\n",
      "Epoch 150/300\n",
      "10492/10492 [==============================] - 0s 22us/sample - loss: 162.2650 - val_loss: 157.8077\n",
      "Epoch 151/300\n",
      "10492/10492 [==============================] - 0s 24us/sample - loss: 162.2694 - val_loss: 157.8215\n",
      "Epoch 152/300\n",
      "10492/10492 [==============================] - 0s 22us/sample - loss: 162.2777 - val_loss: 157.7415\n",
      "Epoch 153/300\n",
      "10492/10492 [==============================] - 0s 20us/sample - loss: 162.2786 - val_loss: 157.6948\n",
      "Epoch 154/300\n",
      "10492/10492 [==============================] - 0s 23us/sample - loss: 162.2590 - val_loss: 157.8029\n",
      "Epoch 155/300\n",
      "10492/10492 [==============================] - 0s 16us/sample - loss: 162.2548 - val_loss: 157.9002\n",
      "Epoch 156/300\n",
      "10492/10492 [==============================] - 0s 21us/sample - loss: 162.2824 - val_loss: 157.7993\n",
      "Epoch 157/300\n",
      "10492/10492 [==============================] - 0s 20us/sample - loss: 162.2698 - val_loss: 157.6506\n",
      "Epoch 158/300\n",
      "10492/10492 [==============================] - 0s 22us/sample - loss: 162.2699 - val_loss: 157.7399\n",
      "Epoch 159/300\n",
      "10492/10492 [==============================] - 0s 21us/sample - loss: 162.2677 - val_loss: 157.6360\n",
      "Epoch 160/300\n",
      "10492/10492 [==============================] - 0s 21us/sample - loss: 162.2742 - val_loss: 157.7383\n",
      "Epoch 161/300\n",
      "10492/10492 [==============================] - 0s 22us/sample - loss: 162.2729 - val_loss: 157.7224\n",
      "Epoch 162/300\n",
      "10492/10492 [==============================] - 0s 20us/sample - loss: 162.2588 - val_loss: 157.8100\n",
      "Epoch 163/300\n",
      "10492/10492 [==============================] - 0s 20us/sample - loss: 162.2703 - val_loss: 157.7876\n",
      "Epoch 164/300\n",
      "10492/10492 [==============================] - 0s 21us/sample - loss: 162.2676 - val_loss: 157.6395\n",
      "Epoch 165/300\n",
      "10492/10492 [==============================] - 0s 20us/sample - loss: 162.2738 - val_loss: 157.7194\n",
      "Epoch 166/300\n",
      "10492/10492 [==============================] - 0s 20us/sample - loss: 162.2644 - val_loss: 157.5842\n",
      "Epoch 167/300\n",
      "10492/10492 [==============================] - 0s 19us/sample - loss: 162.2746 - val_loss: 157.7168\n",
      "Epoch 168/300\n",
      "10492/10492 [==============================] - 0s 20us/sample - loss: 162.2677 - val_loss: 157.7251\n",
      "Epoch 169/300\n",
      "10492/10492 [==============================] - 0s 20us/sample - loss: 162.2723 - val_loss: 157.6521\n",
      "Epoch 170/300\n",
      "10492/10492 [==============================] - 0s 20us/sample - loss: 162.2712 - val_loss: 157.6880\n",
      "Epoch 171/300\n",
      "10492/10492 [==============================] - 0s 20us/sample - loss: 162.2712 - val_loss: 157.6968\n",
      "Epoch 172/300\n",
      "10492/10492 [==============================] - 0s 20us/sample - loss: 162.2776 - val_loss: 157.6622\n",
      "Epoch 173/300\n",
      "10492/10492 [==============================] - 0s 22us/sample - loss: 162.2595 - val_loss: 157.7807\n",
      "Epoch 174/300\n",
      "10492/10492 [==============================] - 0s 19us/sample - loss: 162.2787 - val_loss: 157.7118\n",
      "Epoch 175/300\n",
      "10492/10492 [==============================] - 0s 20us/sample - loss: 162.2694 - val_loss: 157.7969\n",
      "Epoch 176/300\n",
      "10492/10492 [==============================] - 0s 20us/sample - loss: 162.2679 - val_loss: 157.6210\n",
      "Epoch 177/300\n",
      "10492/10492 [==============================] - 0s 21us/sample - loss: 162.2623 - val_loss: 157.7356\n",
      "Epoch 178/300\n",
      "10492/10492 [==============================] - 0s 20us/sample - loss: 162.2694 - val_loss: 157.7511\n",
      "Epoch 179/300\n",
      "10492/10492 [==============================] - 0s 18us/sample - loss: 162.2663 - val_loss: 157.6043\n",
      "Epoch 180/300\n",
      "10492/10492 [==============================] - 0s 20us/sample - loss: 162.2657 - val_loss: 157.6290\n",
      "Epoch 181/300\n",
      "10492/10492 [==============================] - 0s 22us/sample - loss: 162.2400 - val_loss: 157.4547\n",
      "Epoch 182/300\n",
      "10492/10492 [==============================] - 0s 20us/sample - loss: 162.2844 - val_loss: 157.5424\n",
      "Epoch 183/300\n",
      "10492/10492 [==============================] - 0s 20us/sample - loss: 162.2650 - val_loss: 157.6376\n",
      "Epoch 184/300\n",
      "10492/10492 [==============================] - 0s 20us/sample - loss: 162.2621 - val_loss: 157.7196\n",
      "Epoch 185/300\n",
      "10492/10492 [==============================] - 0s 21us/sample - loss: 162.2618 - val_loss: 157.7790\n",
      "Epoch 186/300\n",
      "10492/10492 [==============================] - 0s 20us/sample - loss: 162.2575 - val_loss: 157.5392\n",
      "Epoch 187/300\n",
      "10492/10492 [==============================] - 0s 21us/sample - loss: 162.2694 - val_loss: 157.5799\n",
      "Epoch 188/300\n",
      "10492/10492 [==============================] - 0s 20us/sample - loss: 162.2726 - val_loss: 157.6756\n",
      "Epoch 189/300\n",
      "10492/10492 [==============================] - 0s 21us/sample - loss: 162.2737 - val_loss: 157.5964\n",
      "Epoch 190/300\n",
      "10492/10492 [==============================] - 0s 20us/sample - loss: 162.2710 - val_loss: 157.6366\n",
      "Epoch 191/300\n",
      "10492/10492 [==============================] - 0s 20us/sample - loss: 162.2645 - val_loss: 157.7120\n",
      "Epoch 192/300\n",
      "10492/10492 [==============================] - 0s 20us/sample - loss: 162.2663 - val_loss: 157.6295\n",
      "Epoch 193/300\n",
      "10492/10492 [==============================] - 0s 20us/sample - loss: 162.2707 - val_loss: 157.6354\n",
      "Epoch 194/300\n",
      "10492/10492 [==============================] - 0s 19us/sample - loss: 162.2614 - val_loss: 157.5870\n",
      "Epoch 195/300\n",
      "10492/10492 [==============================] - 0s 20us/sample - loss: 162.2642 - val_loss: 157.5114\n",
      "Epoch 196/300\n",
      "10492/10492 [==============================] - 0s 19us/sample - loss: 162.2693 - val_loss: 157.5552\n",
      "Epoch 197/300\n",
      "10492/10492 [==============================] - 0s 19us/sample - loss: 162.2673 - val_loss: 157.6256\n",
      "Epoch 198/300\n",
      "10492/10492 [==============================] - 0s 20us/sample - loss: 162.2725 - val_loss: 157.6067\n",
      "Epoch 199/300\n",
      "10492/10492 [==============================] - 0s 20us/sample - loss: 162.2775 - val_loss: 157.6290\n",
      "Epoch 200/300\n",
      "10492/10492 [==============================] - 0s 19us/sample - loss: 162.2583 - val_loss: 157.4681\n",
      "Epoch 201/300\n",
      "10492/10492 [==============================] - 0s 21us/sample - loss: 162.2654 - val_loss: 157.5828\n",
      "Epoch 202/300\n",
      "10492/10492 [==============================] - 0s 20us/sample - loss: 162.2693 - val_loss: 157.5688\n",
      "Epoch 203/300\n",
      "10492/10492 [==============================] - 0s 20us/sample - loss: 162.2729 - val_loss: 157.6229\n",
      "Epoch 204/300\n",
      "10492/10492 [==============================] - 0s 20us/sample - loss: 162.2651 - val_loss: 157.6455\n",
      "Epoch 205/300\n",
      "10492/10492 [==============================] - 0s 18us/sample - loss: 162.2679 - val_loss: 157.5281\n",
      "Epoch 206/300\n",
      "10492/10492 [==============================] - 0s 22us/sample - loss: 162.2674 - val_loss: 157.5768\n",
      "Epoch 207/300\n",
      "10492/10492 [==============================] - 0s 21us/sample - loss: 162.2624 - val_loss: 157.6421\n",
      "Epoch 208/300\n",
      "10492/10492 [==============================] - 0s 20us/sample - loss: 162.2692 - val_loss: 157.5856\n",
      "Epoch 209/300\n",
      "10492/10492 [==============================] - 0s 21us/sample - loss: 162.2708 - val_loss: 157.5234\n",
      "Epoch 210/300\n",
      "10492/10492 [==============================] - 0s 20us/sample - loss: 162.2694 - val_loss: 157.5674\n",
      "Epoch 211/300\n",
      "10492/10492 [==============================] - 0s 20us/sample - loss: 162.2740 - val_loss: 157.5809\n",
      "Epoch 212/300\n",
      "10492/10492 [==============================] - 0s 20us/sample - loss: 162.2713 - val_loss: 157.6179\n",
      "Epoch 213/300\n",
      "10492/10492 [==============================] - 0s 20us/sample - loss: 162.2685 - val_loss: 157.5219\n",
      "Epoch 214/300\n",
      "10492/10492 [==============================] - 0s 21us/sample - loss: 162.2698 - val_loss: 157.4834\n",
      "Epoch 215/300\n",
      "10492/10492 [==============================] - 0s 20us/sample - loss: 162.2709 - val_loss: 157.4799\n",
      "Epoch 216/300\n",
      "10492/10492 [==============================] - 0s 20us/sample - loss: 162.2560 - val_loss: 157.4497\n"
     ]
    },
    {
     "name": "stdout",
     "output_type": "stream",
     "text": [
      "Epoch 217/300\n",
      "10492/10492 [==============================] - 0s 21us/sample - loss: 162.2593 - val_loss: 157.6007\n",
      "Epoch 218/300\n",
      "10492/10492 [==============================] - 0s 20us/sample - loss: 162.2677 - val_loss: 157.5765\n",
      "Epoch 219/300\n",
      "10492/10492 [==============================] - 0s 15us/sample - loss: 162.2607 - val_loss: 157.4662\n",
      "Epoch 220/300\n",
      "10492/10492 [==============================] - 0s 15us/sample - loss: 162.2655 - val_loss: 157.5924\n",
      "Epoch 221/300\n",
      "10492/10492 [==============================] - 0s 12us/sample - loss: 162.2663 - val_loss: 157.5863\n",
      "Epoch 222/300\n",
      "10492/10492 [==============================] - 0s 21us/sample - loss: 162.2675 - val_loss: 157.6559\n",
      "Epoch 223/300\n",
      "10492/10492 [==============================] - 0s 19us/sample - loss: 162.2776 - val_loss: 157.5759\n",
      "Epoch 224/300\n",
      "10492/10492 [==============================] - 0s 23us/sample - loss: 162.2606 - val_loss: 157.4739\n",
      "Epoch 225/300\n",
      "10492/10492 [==============================] - 0s 22us/sample - loss: 162.2679 - val_loss: 157.5606\n",
      "Epoch 226/300\n",
      "10492/10492 [==============================] - 0s 23us/sample - loss: 162.2619 - val_loss: 157.6894\n",
      "Epoch 227/300\n",
      "10492/10492 [==============================] - 0s 21us/sample - loss: 162.2689 - val_loss: 157.6791\n",
      "Epoch 228/300\n",
      "10492/10492 [==============================] - 0s 23us/sample - loss: 162.2675 - val_loss: 157.4638\n",
      "Epoch 229/300\n",
      "10492/10492 [==============================] - 0s 21us/sample - loss: 162.2691 - val_loss: 157.5428\n",
      "Epoch 230/300\n",
      "10492/10492 [==============================] - 0s 18us/sample - loss: 162.2737 - val_loss: 157.4991\n",
      "Epoch 231/300\n",
      "10492/10492 [==============================] - 0s 20us/sample - loss: 162.2668 - val_loss: 157.4531\n",
      "Epoch 232/300\n",
      "10492/10492 [==============================] - 0s 21us/sample - loss: 162.2718 - val_loss: 157.4888\n",
      "Epoch 233/300\n",
      "10492/10492 [==============================] - 0s 19us/sample - loss: 162.2706 - val_loss: 157.4764\n",
      "Epoch 234/300\n",
      "10492/10492 [==============================] - 0s 20us/sample - loss: 162.2680 - val_loss: 157.4997\n",
      "Epoch 235/300\n",
      "10492/10492 [==============================] - 0s 21us/sample - loss: 162.2632 - val_loss: 157.5079\n",
      "Epoch 236/300\n",
      "10492/10492 [==============================] - 0s 20us/sample - loss: 162.2727 - val_loss: 157.4743\n",
      "Epoch 237/300\n",
      "10492/10492 [==============================] - 0s 20us/sample - loss: 162.2738 - val_loss: 157.4699\n",
      "Epoch 238/300\n",
      "10492/10492 [==============================] - 0s 19us/sample - loss: 162.2631 - val_loss: 157.4421\n",
      "Epoch 239/300\n",
      "10492/10492 [==============================] - 0s 19us/sample - loss: 162.2724 - val_loss: 157.4764\n",
      "Epoch 240/300\n",
      "10492/10492 [==============================] - 0s 20us/sample - loss: 162.2666 - val_loss: 157.4293\n",
      "Epoch 241/300\n",
      "10492/10492 [==============================] - 0s 20us/sample - loss: 162.2691 - val_loss: 157.4793\n",
      "Epoch 242/300\n",
      "10492/10492 [==============================] - 0s 20us/sample - loss: 162.2644 - val_loss: 157.4078\n",
      "Epoch 243/300\n",
      "10492/10492 [==============================] - 0s 20us/sample - loss: 162.2609 - val_loss: 157.5319\n",
      "Epoch 244/300\n",
      "10492/10492 [==============================] - 0s 20us/sample - loss: 162.2563 - val_loss: 157.4080\n",
      "Epoch 245/300\n",
      "10492/10492 [==============================] - 0s 21us/sample - loss: 162.2635 - val_loss: 157.5290\n",
      "Epoch 246/300\n",
      "10492/10492 [==============================] - 0s 19us/sample - loss: 162.2620 - val_loss: 157.4627\n",
      "Epoch 247/300\n",
      "10492/10492 [==============================] - 0s 19us/sample - loss: 162.2483 - val_loss: 157.6475\n",
      "Epoch 248/300\n",
      "10492/10492 [==============================] - 0s 20us/sample - loss: 162.2615 - val_loss: 157.6577\n",
      "Epoch 249/300\n",
      "10492/10492 [==============================] - 0s 19us/sample - loss: 162.2689 - val_loss: 157.5132\n",
      "Epoch 250/300\n",
      "10492/10492 [==============================] - 0s 20us/sample - loss: 162.2638 - val_loss: 157.4179\n",
      "Epoch 251/300\n",
      "10492/10492 [==============================] - 0s 19us/sample - loss: 162.2614 - val_loss: 157.3911\n",
      "Epoch 252/300\n",
      "10492/10492 [==============================] - 0s 19us/sample - loss: 162.2770 - val_loss: 157.4369\n",
      "Epoch 253/300\n",
      "10492/10492 [==============================] - 0s 20us/sample - loss: 162.2684 - val_loss: 157.5366\n",
      "Epoch 254/300\n",
      "10492/10492 [==============================] - 0s 21us/sample - loss: 162.2687 - val_loss: 157.4585\n",
      "Epoch 255/300\n",
      "10492/10492 [==============================] - 0s 21us/sample - loss: 162.2678 - val_loss: 157.4521\n",
      "Epoch 256/300\n",
      "10492/10492 [==============================] - 0s 19us/sample - loss: 162.2671 - val_loss: 157.4655\n",
      "Epoch 257/300\n",
      "10492/10492 [==============================] - 0s 19us/sample - loss: 162.2619 - val_loss: 157.4985\n",
      "Epoch 258/300\n",
      "10492/10492 [==============================] - 0s 20us/sample - loss: 162.2641 - val_loss: 157.4157\n",
      "Epoch 259/300\n",
      "10492/10492 [==============================] - 0s 20us/sample - loss: 162.2604 - val_loss: 157.3601\n",
      "Epoch 260/300\n",
      "10492/10492 [==============================] - 0s 21us/sample - loss: 162.2638 - val_loss: 157.3935\n",
      "Epoch 261/300\n",
      "10492/10492 [==============================] - 0s 20us/sample - loss: 162.2658 - val_loss: 157.3792\n",
      "Epoch 262/300\n",
      "10492/10492 [==============================] - 0s 18us/sample - loss: 162.2576 - val_loss: 157.5741\n",
      "Epoch 263/300\n",
      "10492/10492 [==============================] - 0s 19us/sample - loss: 162.2761 - val_loss: 157.4708\n",
      "Epoch 264/300\n",
      "10492/10492 [==============================] - 0s 18us/sample - loss: 162.2702 - val_loss: 157.4225\n",
      "Epoch 265/300\n",
      "10492/10492 [==============================] - 0s 21us/sample - loss: 162.2659 - val_loss: 157.4747\n",
      "Epoch 266/300\n",
      "10492/10492 [==============================] - 0s 21us/sample - loss: 162.2635 - val_loss: 157.3763\n",
      "Epoch 267/300\n",
      "10492/10492 [==============================] - 0s 21us/sample - loss: 162.2709 - val_loss: 157.3983\n",
      "Epoch 268/300\n",
      "10492/10492 [==============================] - 0s 20us/sample - loss: 162.2637 - val_loss: 157.4094\n",
      "Epoch 269/300\n",
      "10492/10492 [==============================] - 0s 19us/sample - loss: 162.2483 - val_loss: 157.2879\n",
      "Epoch 270/300\n",
      "10492/10492 [==============================] - 0s 20us/sample - loss: 162.2674 - val_loss: 157.3018\n",
      "Epoch 271/300\n",
      "10492/10492 [==============================] - 0s 20us/sample - loss: 162.2707 - val_loss: 157.3379\n",
      "Epoch 272/300\n",
      "10492/10492 [==============================] - 0s 21us/sample - loss: 162.2720 - val_loss: 157.4300\n",
      "Epoch 273/300\n",
      "10492/10492 [==============================] - 0s 19us/sample - loss: 162.2611 - val_loss: 157.4436\n",
      "Epoch 274/300\n",
      "10492/10492 [==============================] - 0s 19us/sample - loss: 162.2677 - val_loss: 157.4542\n",
      "Epoch 275/300\n",
      "10492/10492 [==============================] - 0s 20us/sample - loss: 162.2626 - val_loss: 157.5161\n",
      "Epoch 276/300\n",
      "10492/10492 [==============================] - 0s 20us/sample - loss: 162.2664 - val_loss: 157.4550\n",
      "Epoch 277/300\n",
      "10492/10492 [==============================] - 0s 20us/sample - loss: 162.2646 - val_loss: 157.3645\n",
      "Epoch 278/300\n",
      "10492/10492 [==============================] - 0s 19us/sample - loss: 162.2665 - val_loss: 157.3662\n",
      "Epoch 279/300\n",
      "10492/10492 [==============================] - 0s 20us/sample - loss: 162.2731 - val_loss: 157.3441\n",
      "Epoch 280/300\n",
      "10492/10492 [==============================] - 0s 19us/sample - loss: 162.2632 - val_loss: 157.4141\n",
      "Epoch 281/300\n",
      "10492/10492 [==============================] - 0s 20us/sample - loss: 162.2605 - val_loss: 157.3397\n",
      "Epoch 282/300\n",
      "10492/10492 [==============================] - 0s 19us/sample - loss: 162.2721 - val_loss: 157.4634\n",
      "Epoch 283/300\n",
      "10492/10492 [==============================] - 0s 19us/sample - loss: 162.2711 - val_loss: 157.4247\n",
      "Epoch 284/300\n",
      "10492/10492 [==============================] - 0s 17us/sample - loss: 162.2597 - val_loss: 157.3168\n",
      "Epoch 285/300\n",
      "10492/10492 [==============================] - 0s 19us/sample - loss: 162.2631 - val_loss: 157.4835\n",
      "Epoch 286/300\n",
      "10492/10492 [==============================] - 0s 20us/sample - loss: 162.2650 - val_loss: 157.3568\n",
      "Epoch 287/300\n",
      "10492/10492 [==============================] - 0s 19us/sample - loss: 162.2629 - val_loss: 157.3695\n",
      "Epoch 288/300\n",
      "10492/10492 [==============================] - 0s 19us/sample - loss: 162.2684 - val_loss: 157.4177\n"
     ]
    },
    {
     "name": "stdout",
     "output_type": "stream",
     "text": [
      "Epoch 289/300\n",
      "10492/10492 [==============================] - 0s 20us/sample - loss: 162.2603 - val_loss: 157.4466\n",
      "Epoch 290/300\n",
      "10492/10492 [==============================] - 0s 19us/sample - loss: 162.2662 - val_loss: 157.4245\n",
      "Epoch 291/300\n",
      "10492/10492 [==============================] - 0s 21us/sample - loss: 162.2608 - val_loss: 157.4025\n",
      "Epoch 292/300\n",
      "10492/10492 [==============================] - 0s 19us/sample - loss: 162.2734 - val_loss: 157.3646\n",
      "Epoch 293/300\n",
      "10492/10492 [==============================] - 0s 19us/sample - loss: 162.2616 - val_loss: 157.2564\n",
      "Epoch 294/300\n",
      "10492/10492 [==============================] - 0s 19us/sample - loss: 162.2664 - val_loss: 157.4385\n",
      "Epoch 295/300\n",
      "10492/10492 [==============================] - 0s 19us/sample - loss: 162.2520 - val_loss: 157.5543\n",
      "Epoch 296/300\n",
      "10492/10492 [==============================] - 0s 18us/sample - loss: 162.2635 - val_loss: 157.5612\n",
      "Epoch 297/300\n",
      "10492/10492 [==============================] - 0s 23us/sample - loss: 162.2595 - val_loss: 157.3450\n",
      "Epoch 298/300\n",
      "10492/10492 [==============================] - 0s 24us/sample - loss: 162.2655 - val_loss: 157.3421\n",
      "Epoch 299/300\n",
      "10492/10492 [==============================] - 0s 23us/sample - loss: 162.2627 - val_loss: 157.3281\n",
      "Epoch 300/300\n",
      "10492/10492 [==============================] - 0s 23us/sample - loss: 162.2628 - val_loss: 157.4203\n"
     ]
    },
    {
     "data": {
      "text/plain": [
       "<tensorflow.python.keras.callbacks.History at 0x221145a2e48>"
      ]
     },
     "execution_count": 21,
     "metadata": {},
     "output_type": "execute_result"
    }
   ],
   "source": [
    "X_train=X_train/256.\n",
    "model.fit(X_train,\n",
    "          y_train,\n",
    "          validation_data=(X_test,y_test),\n",
    "          batch_size=128,\n",
    "          epochs=300)\n",
    "# regression coefficients\n",
    "#print('Coefficients: ', regModel.coef_)"
   ]
  },
  {
   "cell_type": "code",
   "execution_count": 22,
   "id": "30ca9fe6",
   "metadata": {},
   "outputs": [],
   "source": [
    "from tensorflow.keras.models import load_model\n",
    "model.save('aditya_model')\n",
    "# variance score: 1 means perfect prediction\n",
    "#print('Variance score: {}'.format(regModel.score(X_test, y_test)))"
   ]
  },
  {
   "cell_type": "code",
   "execution_count": 23,
   "id": "446ab9b7",
   "metadata": {},
   "outputs": [],
   "source": [
    "losses = pd.DataFrame(model.history.history)"
   ]
  },
  {
   "cell_type": "code",
   "execution_count": 24,
   "id": "03af4f70",
   "metadata": {},
   "outputs": [
    {
     "data": {
      "text/plain": [
       "<AxesSubplot:>"
      ]
     },
     "execution_count": 24,
     "metadata": {},
     "output_type": "execute_result"
    },
    {
     "data": {
      "image/png": "[encoded data removed]",
      "text/plain": [
       "<Figure size 432x288 with 1 Axes>"
      ]
     },
     "metadata": {
      "needs_background": "light"
     },
     "output_type": "display_data"
    }
   ],
   "source": [
    "losses[['loss','val_loss']].plot()"
   ]
  },
  {
   "cell_type": "code",
   "execution_count": 25,
   "id": "519e3abd",
   "metadata": {},
   "outputs": [
    {
     "data": {
      "text/plain": [
       "array([[0, 0, 0, ..., 0, 0, 1],\n",
       "       [0, 0, 0, ..., 0, 0, 1],\n",
       "       [0, 0, 0, ..., 1, 0, 0],\n",
       "       ...,\n",
       "       [0, 0, 0, ..., 0, 0, 0],\n",
       "       [0, 0, 1, ..., 0, 0, 0],\n",
       "       [0, 0, 0, ..., 0, 0, 1]], dtype=uint8)"
      ]
     },
     "execution_count": 25,
     "metadata": {},
     "output_type": "execute_result"
    }
   ],
   "source": [
    "X_test"
   ]
  },
  {
   "cell_type": "code",
   "execution_count": 26,
   "id": "6cea8a3c",
   "metadata": {},
   "outputs": [
    {
     "data": {
      "text/plain": [
       "array([[72.06227 ],\n",
       "       [69.637955],\n",
       "       [71.52281 ],\n",
       "       ...,\n",
       "       [69.62974 ],\n",
       "       [70.479164],\n",
       "       [71.68678 ]], dtype=float32)"
      ]
     },
     "execution_count": 26,
     "metadata": {},
     "output_type": "execute_result"
    }
   ],
   "source": [
    "prediction = model.predict(X_test)\n",
    "prediction"
   ]
  },
  {
   "cell_type": "code",
   "execution_count": 27,
   "id": "414d9d3b",
   "metadata": {},
   "outputs": [
    {
     "data": {
      "text/plain": [
       "9.647620513239785"
      ]
     },
     "execution_count": 27,
     "metadata": {},
     "output_type": "execute_result"
    }
   ],
   "source": [
    "from sklearn.metrics import mean_squared_error,mean_absolute_error,explained_variance_score\n",
    "mean_absolute_error(y_test,prediction)"
   ]
  },
  {
   "cell_type": "code",
   "execution_count": 28,
   "id": "cb0cc2d6",
   "metadata": {},
   "outputs": [
    {
     "data": {
      "text/plain": [
       "12.546724618612927"
      ]
     },
     "execution_count": 28,
     "metadata": {},
     "output_type": "execute_result"
    }
   ],
   "source": [
    "np.sqrt(mean_squared_error(y_test,prediction))"
   ]
  },
  {
   "cell_type": "code",
   "execution_count": 29,
   "id": "e6eb1d96",
   "metadata": {},
   "outputs": [
    {
     "data": {
      "text/plain": [
       "0.008949775892540979"
      ]
     },
     "execution_count": 29,
     "metadata": {},
     "output_type": "execute_result"
    }
   ],
   "source": [
    "explained_variance_score(y_test,prediction)"
   ]
  },
  {
   "cell_type": "code",
   "execution_count": 30,
   "id": "9714d58a",
   "metadata": {},
   "outputs": [
    {
     "data": {
      "text/plain": [
       "[<matplotlib.lines.Line2D at 0x22116523a88>]"
      ]
     },
     "execution_count": 30,
     "metadata": {},
     "output_type": "execute_result"
    },
    {
     "data": {
      "image/png": "[encoded data removed]",
      "text/plain": [
       "<Figure size 432x288 with 1 Axes>"
      ]
     },
     "metadata": {
      "needs_background": "light"
     },
     "output_type": "display_data"
    }
   ],
   "source": [
    "import matplotlib.pyplot as plt\n",
    "plt.scatter(y_test,prediction)\n",
    "plt.plot(y_test,y_test,'r')"
   ]
  },
  {
   "cell_type": "code",
   "execution_count": 31,
   "id": "8054c35b",
   "metadata": {},
   "outputs": [
    {
     "data": {
      "text/plain": [
       "Pipeline(steps=[('standardscaler', StandardScaler()),\n",
       "                ('linearregression', LinearRegression())])"
      ]
     },
     "execution_count": 31,
     "metadata": {},
     "output_type": "execute_result"
    }
   ],
   "source": [
    "from sklearn.linear_model import LinearRegression\n",
    "from sklearn.preprocessing import StandardScaler\n",
    "from sklearn.pipeline import make_pipeline\n",
    "pipe = make_pipeline(StandardScaler(), LinearRegression())\n",
    "pipe.fit(X_train,y_train)\n",
    "\n"
   ]
  },
  {
   "cell_type": "code",
   "execution_count": 32,
   "id": "fcce9f1b",
   "metadata": {},
   "outputs": [
    {
     "data": {
      "text/plain": [
       "-1.87401278744795e+32"
      ]
     },
     "execution_count": 32,
     "metadata": {},
     "output_type": "execute_result"
    }
   ],
   "source": [
    "pipe.score(X_test, y_test)\n"
   ]
  },
  {
   "cell_type": "code",
   "execution_count": 33,
   "id": "eaa6ab96",
   "metadata": {},
   "outputs": [
    {
     "data": {
      "text/plain": [
       "array([[1.72265356e+17],\n",
       "       [1.72265356e+17],\n",
       "       [1.72265356e+17],\n",
       "       ...,\n",
       "       [1.72265356e+17],\n",
       "       [1.72265356e+17],\n",
       "       [1.72265356e+17]])"
      ]
     },
     "execution_count": 33,
     "metadata": {},
     "output_type": "execute_result"
    }
   ],
   "source": [
    "y_pred= pipe.predict(X_test)\n",
    "y_pred"
   ]
  },
  {
   "cell_type": "code",
   "execution_count": 34,
   "id": "8155fd98",
   "metadata": {},
   "outputs": [
    {
     "name": "stdout",
     "output_type": "stream",
     "text": [
      "r2 score is: -1.87401278744795e+32\n"
     ]
    }
   ],
   "source": [
    "from sklearn.metrics import r2_score\n",
    "from sklearn.metrics import mean_squared_error\n",
    "#should be between 0-1\n",
    "score =r2_score(y_test,y_pred)\n",
    "print(\"r2 score is:\",score)"
   ]
  },
  {
   "cell_type": "code",
   "execution_count": 38,
   "id": "5112601e",
   "metadata": {},
   "outputs": [
    {
     "data": {
      "text/plain": [
       "Pipeline(steps=[('standardscaler', StandardScaler()),\n",
       "                ('randomforestregressor',\n",
       "                 RandomForestRegressor(n_estimators=1000, random_state=0))])"
      ]
     },
     "execution_count": 38,
     "metadata": {},
     "output_type": "execute_result"
    }
   ],
   "source": [
    "from sklearn.ensemble import RandomForestRegressor\n",
    "#rf_model=RandomForestRegressor(n_estimators=1000,random_state=0)\n",
    "pipe1 = make_pipeline(StandardScaler(), RandomForestRegressor(n_estimators=1000,random_state=0))\n",
    "pipe1.fit(X_train,np.ravel(y_train))"
   ]
  },
  {
   "cell_type": "code",
   "execution_count": 39,
   "id": "7701e1a7",
   "metadata": {},
   "outputs": [
    {
     "data": {
      "text/plain": [
       "-0.01664186428949188"
      ]
     },
     "execution_count": 39,
     "metadata": {},
     "output_type": "execute_result"
    }
   ],
   "source": [
    "pipe1.score(X_test,y_test)"
   ]
  },
  {
   "cell_type": "code",
   "execution_count": null,
   "id": "09d773ff",
   "metadata": {},
   "outputs": [],
   "source": []
  }
 ],
 "metadata": {
  "kernelspec": {
   "display_name": "Python 3 (ipykernel)",
   "language": "python",
   "name": "python3"
  },
  "language_info": {
   "codemirror_mode": {
    "name": "ipython",
    "version": 3
   },
   "file_extension": ".py",
   "mimetype": "text/x-python",
   "name": "python",
   "nbconvert_exporter": "python",
   "pygments_lexer": "ipython3",
   "version": "3.7.13"
  }
 },
 "nbformat": 4,
 "nbformat_minor": 5
}
